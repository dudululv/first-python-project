{
 "cells": [
  {
   "cell_type": "code",
   "execution_count": 6,
   "id": "54489a48",
   "metadata": {},
   "outputs": [
    {
     "data": {
      "text/plain": [
       "['学号', '姓名', '年龄', '性别', '家庭住址']"
      ]
     },
     "execution_count": 6,
     "metadata": {},
     "output_type": "execute_result"
    },
    {
     "name": "stdout",
     "output_type": "stream",
     "text": [
      "['1001', '张三', '18', '男', '北京海淀']\n",
      "['1002', '李四', '19', '女', '北京朝阳']\n"
     ]
    }
   ],
   "source": [
    "import csv\n",
    "with open('1data.csv', 'r', encoding='utf-8') as f:\n",
    "    reader = csv.reader(f)\n",
    "    next(reader)\n",
    "    for i in reader:\n",
    "        print(i)"
   ]
  },
  {
   "cell_type": "code",
   "execution_count": 7,
   "id": "80eee2ca",
   "metadata": {},
   "outputs": [
    {
     "data": {
      "text/plain": [
       "18"
      ]
     },
     "execution_count": 7,
     "metadata": {},
     "output_type": "execute_result"
    },
    {
     "data": {
      "text/plain": [
       "19"
      ]
     },
     "execution_count": 7,
     "metadata": {},
     "output_type": "execute_result"
    },
    {
     "data": {
      "text/plain": [
       "19"
      ]
     },
     "execution_count": 7,
     "metadata": {},
     "output_type": "execute_result"
    }
   ],
   "source": [
    "with open('2data.csv', 'w', encoding='utf-8') as f:\n",
    "    reader = csv.writer(f)\n",
    "    reader.writerow(['学号', '姓名', '年龄', '性别', '家庭住址'])\n",
    "    reader.writerow(['1001', '张三', '18', '男', '北京海淀'])\n",
    "    reader.writerow(['1002', '李四', '19', '女', '北京朝阳'])"
   ]
  },
  {
   "cell_type": "code",
   "execution_count": 11,
   "id": "3e2239a7",
   "metadata": {},
   "outputs": [
    {
     "data": {
      "text/plain": [
       "19"
      ]
     },
     "execution_count": 11,
     "metadata": {},
     "output_type": "execute_result"
    }
   ],
   "source": [
    "with open('2data.csv','a',encoding='utf-8',newline='') as f:\n",
    "    reader = csv.writer(f)\n",
    "    reader.writerow(['1003', '王五', '20', '男', '北京东城'])"
   ]
  },
  {
   "cell_type": "code",
   "execution_count": 15,
   "id": "9534cfa3",
   "metadata": {},
   "outputs": [
    {
     "name": "stdout",
     "output_type": "stream",
     "text": [
      "['学号', '姓名', '年龄', '性别', '家庭住址']\n",
      "['1001', '张三', '18', '男', '北京海淀']\n",
      "['1002', '李四', '19', '女', '北京朝阳']\n"
     ]
    }
   ],
   "source": [
    "import csv\n",
    "with open('data.csv', 'r', encoding='utf-8') as file:\n",
    "    reader= csv.reader(file)\n",
    "    for i in reader:\n",
    "        print(i)"
   ]
  },
  {
   "cell_type": "code",
   "execution_count": 18,
   "id": "bcf9c66d",
   "metadata": {},
   "outputs": [
    {
     "name": "stdout",
     "output_type": "stream",
     "text": [
      "['学号', '姓名', '年龄', '性别', '家庭住址']\n",
      "学号 姓名 年龄 性别 家庭住址\n",
      "['1001', '张三', '18', '男', '北京海淀']\n",
      "1001 张三 18 男 北京海淀\n",
      "['1002', '李四', '19', '女', '北京朝阳']\n",
      "1002 李四 19 女 北京朝阳\n"
     ]
    }
   ],
   "source": [
    "import csv\n",
    "with open('data.csv', 'r', encoding='utf-8') as file:\n",
    "    reader= csv.reader(file)\n",
    "    for i in reader:\n",
    "        print(i)\n",
    "    \n",
    "        print(i[0], i[1], i[2], i[3], i[4])"
   ]
  },
  {
   "cell_type": "code",
   "execution_count": 24,
   "id": "0c8a6731",
   "metadata": {},
   "outputs": [
    {
     "name": "stdout",
     "output_type": "stream",
     "text": [
      "[['学号', '姓名', '年龄', '性别', '家庭住址'], ['1001', '张三', '18', '男', '北京海淀'], ['1002', '李四', '19', '女', '北京朝阳']]\n"
     ]
    }
   ],
   "source": [
    "import csv\n",
    "with open('data.csv', 'r', encoding='utf-8') as file:\n",
    "    reader= csv.reader(file)\n",
    "    print(list(reader))"
   ]
  }
 ],
 "metadata": {
  "kernelspec": {
   "display_name": "SF150",
   "language": "python",
   "name": "python3"
  },
  "language_info": {
   "codemirror_mode": {
    "name": "ipython",
    "version": 3
   },
   "file_extension": ".py",
   "mimetype": "text/x-python",
   "name": "python",
   "nbconvert_exporter": "python",
   "pygments_lexer": "ipython3",
   "version": "3.10.16"
  }
 },
 "nbformat": 4,
 "nbformat_minor": 5
}
