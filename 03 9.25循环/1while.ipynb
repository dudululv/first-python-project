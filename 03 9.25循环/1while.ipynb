{
 "cells": [
  {
   "cell_type": "code",
   "execution_count": 8,
   "id": "068b2f82",
   "metadata": {},
   "outputs": [
    {
     "name": "stdout",
     "output_type": "stream",
     "text": [
      "0\n",
      "1\n",
      "1\n",
      "2\n",
      "2\n",
      "3\n",
      "3\n",
      "4\n",
      "4\n",
      "5\n",
      "5\n",
      "6\n",
      "6\n",
      "7\n",
      "7\n",
      "8\n",
      "8\n",
      "9\n",
      "9\n",
      "10\n",
      "i=10\n"
     ]
    }
   ],
   "source": [
    "#第一步，定义循环的条件变量\n",
    "i = 0\n",
    "while i < 10:\n",
    "    print(i)\n",
    "    i = i + 1\n",
    "    print(i)\n",
    "else:\n",
    "    print('i=10')\n"
   ]
  },
  {
   "cell_type": "code",
   "execution_count": 17,
   "id": "ffeb0285",
   "metadata": {},
   "outputs": [
    {
     "name": "stdout",
     "output_type": "stream",
     "text": [
      "120\n"
     ]
    }
   ],
   "source": [
    "i=input('请输入一个数字：')\n",
    "i=int(i)\n",
    "s=1\n",
    "while i>1:\n",
    "    s*=i       \n",
    "    i-=1\n",
    "print(s)\n"
   ]
  },
  {
   "cell_type": "code",
   "execution_count": 18,
   "id": "387dc64f",
   "metadata": {},
   "outputs": [
    {
     "name": "stdout",
     "output_type": "stream",
     "text": [
      "5050\n"
     ]
    }
   ],
   "source": [
    "i=1\n",
    "s=0\n",
    "n=int(input('enter a int'))\n",
    "while i<=n:\n",
    "    s+=i\n",
    "    i+=1\n",
    "print(s)"
   ]
  },
  {
   "cell_type": "code",
   "execution_count": 26,
   "id": "ea8fd3e9",
   "metadata": {},
   "outputs": [
    {
     "name": "stdout",
     "output_type": "stream",
     "text": [
      "even=12,odd=9,mul3=9\n"
     ]
    }
   ],
   "source": [
    "i=1\n",
    "even=0\n",
    "odd=0\n",
    "mul3=0\n",
    "n=int(input('enter a int'))\n",
    "while i<=n:\n",
    "    if i%2==0:\n",
    "        even+=i\n",
    "    elif i%2==1:\n",
    "        odd+=i\n",
    "    if i%3==0:\n",
    "        mul3+=i\n",
    "    i+=1\n",
    "    \n",
    "print(f'even={even},odd={odd},mul3={mul3}')"
   ]
  },
  {
   "cell_type": "code",
   "execution_count": 9,
   "id": "a46596dd",
   "metadata": {},
   "outputs": [
    {
     "name": "stdout",
     "output_type": "stream",
     "text": [
      "循环底部：i = 0\n",
      "遇到 1 → pass（什么都不做）\n",
      "循环底部：i = 1\n",
      "遇到 2 → continue（跳过本轮）\n",
      "遇到 3 → break（结束循环）\n",
      "循环结束\n"
     ]
    }
   ],
   "source": [
    "for i in range(5):\n",
    "    if i == 1:\n",
    "        print(\"遇到 1 → pass（什么都不做）\")\n",
    "        pass  # 占位，不影响循环\n",
    "    elif i == 2:\n",
    "        print(\"遇到 2 → continue（跳过本轮）\")\n",
    "        continue  # 跳过本轮剩下语句\n",
    "    elif i == 3:\n",
    "        print(\"遇到 3 → break（结束循环）\")\n",
    "        break  # 彻底退出循环\n",
    "    print(f\"循环底部：i = {i}\")\n",
    "\n",
    "print(\"循环结束\")\n"
   ]
  },
  {
   "cell_type": "code",
   "execution_count": 8,
   "id": "0633862f",
   "metadata": {},
   "outputs": [
    {
     "data": {
      "text/plain": [
       "2"
      ]
     },
     "execution_count": 8,
     "metadata": {},
     "output_type": "execute_result"
    },
    {
     "data": {
      "text/plain": [
       "4"
      ]
     },
     "execution_count": 8,
     "metadata": {},
     "output_type": "execute_result"
    },
    {
     "data": {
      "text/plain": [
       "6"
      ]
     },
     "execution_count": 8,
     "metadata": {},
     "output_type": "execute_result"
    },
    {
     "data": {
      "text/plain": [
       "['apple', 'banana', 'cherry']"
      ]
     },
     "execution_count": 8,
     "metadata": {},
     "output_type": "execute_result"
    }
   ],
   "source": [
    "1 + 1\n",
    "2 + 2\n",
    "3 + 3\n",
    "[\"apple\", \"banana\", \"cherry\"]"
   ]
  },
  {
   "cell_type": "code",
   "execution_count": 7,
   "id": "82c6c113",
   "metadata": {},
   "outputs": [
    {
     "name": "stdout",
     "output_type": "stream",
     "text": [
      "当前模式: all\n"
     ]
    }
   ],
   "source": [
    "from IPython.core.interactiveshell import InteractiveShell\n",
    "print(f\"当前模式: {InteractiveShell.ast_node_interactivity}\")"
   ]
  },
  {
   "cell_type": "code",
   "execution_count": 6,
   "id": "3e21f8e4",
   "metadata": {},
   "outputs": [
    {
     "name": "stdout",
     "output_type": "stream",
     "text": [
      "设置后的模式: all\n"
     ]
    },
    {
     "data": {
      "text/plain": [
       "2"
      ]
     },
     "execution_count": 6,
     "metadata": {},
     "output_type": "execute_result"
    },
    {
     "data": {
      "text/plain": [
       "4"
      ]
     },
     "execution_count": 6,
     "metadata": {},
     "output_type": "execute_result"
    },
    {
     "data": {
      "text/plain": [
       "6"
      ]
     },
     "execution_count": 6,
     "metadata": {},
     "output_type": "execute_result"
    },
    {
     "data": {
      "text/plain": [
       "['测试', '多行', '输出']"
      ]
     },
     "execution_count": 6,
     "metadata": {},
     "output_type": "execute_result"
    }
   ],
   "source": [
    "# 立即设置多行输出（不需要重启）\n",
    "from IPython.core.interactiveshell import InteractiveShell\n",
    "InteractiveShell.ast_node_interactivity = \"all\"\n",
    "\n",
    "# 验证设置\n",
    "print(f\"设置后的模式: {InteractiveShell.ast_node_interactivity}\")\n",
    "\n",
    "# 测试多行输出\n",
    "1 + 1\n",
    "2 + 2\n",
    "3 + 3\n",
    "[\"测试\", \"多行\", \"输出\"]"
   ]
  }
 ],
 "metadata": {
  "kernelspec": {
   "display_name": "ai",
   "language": "python",
   "name": "python3"
  },
  "language_info": {
   "codemirror_mode": {
    "name": "ipython",
    "version": 3
   },
   "file_extension": ".py",
   "mimetype": "text/x-python",
   "name": "python",
   "nbconvert_exporter": "python",
   "pygments_lexer": "ipython3",
   "version": "3.11.7"
  }
 },
 "nbformat": 4,
 "nbformat_minor": 5
}
