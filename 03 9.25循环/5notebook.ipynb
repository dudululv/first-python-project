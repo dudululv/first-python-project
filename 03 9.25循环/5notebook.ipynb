{
 "cells": [
  {
   "cell_type": "markdown",
   "id": "009e5f71",
   "metadata": {},
   "source": [
    "notebook文件有两种代码块\n",
    "1．编辑模式\n",
    "2.命令模式\n",
    "    1.m键是把当前代码块转换为markdown代码块\n",
    "    2.y键是把当前代码块转换为python代码块I\n",
    "    3.a键是在当前代码块上边创建一个新的代码块\n",
    "    4.b键是在当前代码块下边创建一个新的代码块\n",
    "    5.dd键是删除当前代码块"
   ]
  }
 ],
 "metadata": {
  "kernelspec": {
   "display_name": "ai",
   "language": "python",
   "name": "python3"
  },
  "language_info": {
   "name": "python",
   "version": "3.10.16"
  }
 },
 "nbformat": 4,
 "nbformat_minor": 5
}
