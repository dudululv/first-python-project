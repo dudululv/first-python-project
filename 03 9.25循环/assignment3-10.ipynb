{
 "cells": [
  {
   "cell_type": "code",
   "execution_count": null,
   "id": "9188bed8",
   "metadata": {},
   "outputs": [
    {
     "name": "stdout",
     "output_type": "stream",
     "text": [
      "摄氏度(°C)    华氏度(°F)\n",
      "------------------------\n",
      "    0            32.0   \n",
      "    20           68.0   \n",
      "    40          104.0   \n",
      "    60          140.0   \n",
      "    80          176.0   \n",
      "   100          212.0   \n",
      "   120          248.0   \n",
      "   140          284.0   \n",
      "   160          320.0   \n",
      "   180          356.0   \n"
     ]
    }
   ],
   "source": [
    "print(\"摄氏度(°C)    华氏度(°F)\")\n",
    "print(\"------------------------\")\n",
    "\n",
    "celsius = 0  \n",
    "count = 0    \n",
    "\n",
    "while count < 10 and celsius <= 250: \n",
    "    fahrenheit = celsius * 9 / 5.0 + 32\n",
    "    print(f\"{celsius:^10.0f}    {fahrenheit:^10.1f}\")\n",
    "    celsius += 20\n",
    "    count += 1"
   ]
  },
  {
   "cell_type": "code",
   "execution_count": null,
   "id": "89ac7fb4",
   "metadata": {},
   "outputs": [
    {
     "name": "stdout",
     "output_type": "stream",
     "text": [
      "100以内（包括100）的偶数之和为：2550\n"
     ]
    }
   ],
   "source": [
    "total_sum = 0\n",
    "\n",
    "for i in range(0, 101):\n",
    "    if i % 2 == 0:\n",
    "        total_sum += i\n",
    "\n",
    "print(f\"100以内（包括100）的偶数之和为：{total_sum}\")"
   ]
  },
  {
   "cell_type": "code",
   "execution_count": null,
   "id": "4dbdd262",
   "metadata": {},
   "outputs": [
    {
     "name": "stdout",
     "output_type": "stream",
     "text": [
      "需要8年后，父亲的年龄是小红的1倍。\n",
      "那时小红的年龄是：20岁\n",
      "那时父亲的年龄是：40岁\n"
     ]
    }
   ],
   "source": [
    "xiaohong_age = 12\n",
    "father_age = xiaohong_age + 20  \n",
    "years = 0\n",
    "\n",
    "while father_age != 2 * xiaohong_age:\n",
    "    xiaohong_age += 1\n",
    "    father_age += 1\n",
    "    years += 1\n",
    "\n",
    "print(f\"需要{years}年后，父亲的年龄是小红的1倍。\")\n",
    "print(f\"那时小红的年龄是：{xiaohong_age}岁\")\n",
    "print(f\"那时父亲的年龄是：{father_age}岁\")"
   ]
  },
  {
   "cell_type": "code",
   "execution_count": null,
   "id": "25e16eb8",
   "metadata": {},
   "outputs": [
    {
     "name": "stdout",
     "output_type": "stream",
     "text": [
      "用户名或密码错误！您还有2次尝试机会。\n",
      "用户名或密码错误！您还有1次尝试机会。\n",
      "验证失败次数过多，账户已被锁定！\n"
     ]
    }
   ],
   "source": [
    "CORRECT_USERNAME = \"admin\"\n",
    "CORRECT_PASSWORD = \"password123\"\n",
    "\n",
    "attempts = 0\n",
    "max_attempts = 3\n",
    "\n",
    "login_successful = False\n",
    "\n",
    "while attempts < max_attempts and not login_successful:\n",
    "    username = input(\"请输入用户名: \")\n",
    "    password = input(\"请输入密码: \")\n",
    "    \n",
    "    attempts += 1\n",
    "    \n",
    "    if username == CORRECT_USERNAME and password == CORRECT_PASSWORD:\n",
    "        login_successful = True\n",
    "        print(\"登录成功！欢迎使用系统。\")\n",
    "    else:\n",
    "        remaining_attempts = max_attempts - attempts\n",
    "        if remaining_attempts > 0:\n",
    "            print(f\"用户名或密码错误！您还有{remaining_attempts}次尝试机会。\")\n",
    "        else:\n",
    "            print(\"验证失败次数过多，账户已被锁定！\")\n",
    "\n",
    "if login_successful:\n",
    "    print(\"您已成功登录到系统，可以开始使用各项功能。\")"
   ]
  },
  {
   "cell_type": "code",
   "execution_count": null,
   "id": "ee3340d2",
   "metadata": {},
   "outputs": [
    {
     "name": "stdout",
     "output_type": "stream",
     "text": [
      "初始对称数: 95859\n",
      "2小时后的新对称数: 95959\n",
      "行驶距离: 100 公里\n",
      "汽车时速: 50.0 公里/小时\n"
     ]
    }
   ],
   "source": [
    "start_mileage = 95859\n",
    "time_hours = 2\n",
    "\n",
    "def is_symmetric(number):\n",
    "    str_number = str(number)\n",
    "    return str_number == str_number[::-1]\n",
    "\n",
    "next_mileage = start_mileage + 1\n",
    "found = False\n",
    "\n",
    "while not found:\n",
    "    if is_symmetric(next_mileage):\n",
    "        found = True\n",
    "    else:\n",
    "        next_mileage += 1\n",
    "\n",
    "distance = next_mileage - start_mileage\n",
    "speed = distance / time_hours\n",
    "\n",
    "print(f\"初始对称数: {start_mileage}\")\n",
    "print(f\"2小时后的新对称数: {next_mileage}\")\n",
    "print(f\"行驶距离: {distance} 公里\")\n",
    "print(f\"汽车时速: {speed} 公里/小时\")"
   ]
  },
  {
   "cell_type": "code",
   "execution_count": null,
   "id": "d7add81e",
   "metadata": {},
   "outputs": [
    {
     "name": "stdout",
     "output_type": "stream",
     "text": [
      "输入不满足条件！请输入3到15之间的整数。\n",
      "输入不满足条件！请输入3到15之间的整数。\n",
      "输入不满足条件！请输入3到15之间的整数。\n",
      "3的阶乘是: 6\n"
     ]
    }
   ],
   "source": [
    "while True:\n",
    "    try:\n",
    "        n = int(input(\"请输入一个整数n (3-15之间): \"))\n",
    "        \n",
    "        if 3 <= n <= 15:\n",
    "            break\n",
    "        else:\n",
    "            print(\"输入不满足条件！请输入3到15之间的整数。\")\n",
    "    except ValueError:\n",
    "        print(\"无效输入！请输入一个有效的整数。\")\n",
    "\n",
    "factorial = 1\n",
    "for i in range(1, n + 1):\n",
    "    factorial *= i\n",
    "\n",
    "print(f\"{n}的阶乘是: {factorial}\")"
   ]
  },
  {
   "cell_type": "code",
   "execution_count": null,
   "id": "eee66119",
   "metadata": {},
   "outputs": [
    {
     "name": "stdout",
     "output_type": "stream",
     "text": [
      "1.0, 2.0, 3.0不能构成三角形。\n"
     ]
    }
   ],
   "source": [
    "import math\n",
    "\n",
    "try:\n",
    "    a = float(input(\"请输入三角形的第一条边a: \"))\n",
    "    b = float(input(\"请输入三角形的第二条边b: \"))\n",
    "    c = float(input(\"请输入三角形的第三条边c: \"))\n",
    "    \n",
    "    if a <= 0 or b <= 0 or c <= 0:\n",
    "        print(\"错误：三角形的边长必须为正数！\")\n",
    "    else:\n",
    "        if (a + b > c and a + c > b and b + c > a) and (abs(a - b) < c and abs(a - c) < b and abs(b - c) < a):\n",
    "            print(f\"{a}, {b}, {c}可以构成三角形。\")\n",
    "            \n",
    "            s = (a + b + c) / 2  \n",
    "            area = math.sqrt(s * (s - a) * (s - b) * (s - c))  \n",
    "            \n",
    "            print(f\"三角形的面积为: {area:.2f}\")\n",
    "        else:\n",
    "            print(f\"{a}, {b}, {c}不能构成三角形。\")\n",
    "except ValueError:\n",
    "    print(\"错误：请输入有效的数字！\")"
   ]
  },
  {
   "cell_type": "code",
   "execution_count": null,
   "id": "47279165",
   "metadata": {},
   "outputs": [
    {
     "name": "stdout",
     "output_type": "stream",
     "text": [
      "请输入5个数字：\n",
      "输入的5个数是: [1.0, 2.0, 3.0, 4.0, 5.0]\n",
      "其中的最小值是: 1.0\n"
     ]
    }
   ],
   "source": [
    "numbers = []\n",
    "count = 0\n",
    "\n",
    "print(\"请输入5个数字：\")\n",
    "\n",
    "while count < 5:\n",
    "    try:\n",
    "        num = float(input(f\"请输入第{count+1}个数字: \"))\n",
    "        numbers.append(num)\n",
    "        count += 1\n",
    "    except ValueError:\n",
    "        print(\"错误：请输入有效的数字！\")\n",
    "\n",
    "minimum = min(numbers)\n",
    "\n",
    "print(f\"输入的5个数是: {numbers}\")\n",
    "print(f\"其中的最小值是: {minimum}\")"
   ]
  },
  {
   "cell_type": "code",
   "execution_count": null,
   "id": "85d2fc4b",
   "metadata": {},
   "outputs": [],
   "source": []
  }
 ],
 "metadata": {
  "kernelspec": {
   "display_name": "ai",
   "language": "python",
   "name": "python3"
  },
  "language_info": {
   "codemirror_mode": {
    "name": "ipython",
    "version": 3
   },
   "file_extension": ".py",
   "mimetype": "text/x-python",
   "name": "python",
   "nbconvert_exporter": "python",
   "pygments_lexer": "ipython3",
   "version": "3.10.16"
  }
 },
 "nbformat": 4,
 "nbformat_minor": 5
}
