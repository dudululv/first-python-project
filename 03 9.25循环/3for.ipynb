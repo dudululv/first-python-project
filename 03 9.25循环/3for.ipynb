{
 "cells": [
  {
   "cell_type": "code",
   "execution_count": 1,
   "id": "e57b00c3",
   "metadata": {},
   "outputs": [
    {
     "name": "stdout",
     "output_type": "stream",
     "text": [
      "11\n"
     ]
    }
   ],
   "source": [
    "n=0\n",
    "for i in range(11):\n",
    "    n+=1\n",
    "print(n)"
   ]
  },
  {
   "cell_type": "code",
   "execution_count": null,
   "id": "15dd4487",
   "metadata": {},
   "outputs": [
    {
     "name": "stdout",
     "output_type": "stream",
     "text": [
      "1,2,3,4,6,7,8,9,11,12,13,14,16,17,18,19,"
     ]
    }
   ],
   "source": [
    "for i in range(1,21):\n",
    "    if i%5==0:\n",
    "        continue\n",
    "    print(i,end=',') #由于continue的存在，所以这里省略了else，直接写print也是正确的"
   ]
  },
  {
   "cell_type": "code",
   "execution_count": null,
   "id": "399aa5da",
   "metadata": {},
   "outputs": [
    {
     "name": "stdout",
     "output_type": "stream",
     "text": [
      "1 是奇数\n",
      "2 是偶数\n",
      "2 是奇数\n",
      "3 是奇数\n",
      "4 是偶数\n",
      "4 是奇数\n",
      "5 是奇数\n"
     ]
    }
   ],
   "source": [
    "for i in range(1, 6):\n",
    "    if i % 2 == 0:\n",
    "        print(i, \"是偶数\")\n",
    "    print(i, \"是奇数\") #这里就不能省略else，因为没有continue，print总是执行\n"
   ]
  },
  {
   "cell_type": "code",
   "execution_count": 4,
   "id": "d7ca59ba",
   "metadata": {},
   "outputs": [
    {
     "name": "stdout",
     "output_type": "stream",
     "text": [
      "153\n",
      "370\n",
      "371\n",
      "407\n"
     ]
    }
   ],
   "source": [
    "for i in range(100,1000):\n",
    "    a=i%10\n",
    "    b=i//10%10\n",
    "    c=i//100\n",
    "    if a**3+b**3+c**3==i:\n",
    "        print(i)"
   ]
  },
  {
   "cell_type": "code",
   "execution_count": 12,
   "id": "d3fec76d",
   "metadata": {},
   "outputs": [
    {
     "name": "stdout",
     "output_type": "stream",
     "text": [
      "153\n",
      "370\n",
      "371\n",
      "407\n",
      "153\n",
      "370\n",
      "371\n",
      "407\n"
     ]
    }
   ],
   "source": [
    "# for i in range(100,1000):\n",
    "#     for a in str(i):\n",
    "#         if sum(int(a)**3)==i:\n",
    "#             print(i)\n",
    "#             sum(int(a)**3)\n",
    "# 👉 int(a)**3 是单个数，不是“可迭代对象”，\n",
    "# 所以 sum() 无法对它求和 → 报错。\n",
    "\n",
    "# for a in str(i)\n",
    "# 👉 这会让你一次只拿一个 a，而不是三个数字一起计算。\n",
    "# 每次循环都重新检查一次 if，逻辑就错了。\n",
    "for i in range(100, 1000):\n",
    "    if sum(int(a)**3 for a in str(i)) == i:\n",
    "        print(i) #\n",
    "#         ⚙️ 关键点在这里：\n",
    "\n",
    "# 这一行里，sum(int(a)**3 for a in str(i))\n",
    "# → 是一个「生成器表达式」（generator expression）。\n",
    "\n",
    "# 它在 sum() 的小括号里直接写 for 时，\n",
    "# Python 会自动把它当成一个“隐式生成器”，\n",
    "# 整个表达式在一行里形成一个整体。\n",
    "#如果非要拆开写\n",
    "for i in range(100, 1000):\n",
    "    digits = str(i)                       \n",
    "    cubes = [int(a)**3 for a in digits]   # 这是关键一步，必须这么写。它是 Python 的一种“推导式”（comprehension）语法结构。固定格式是：\n",
    "# [表达式 for 变量 in 可迭代对象]\n",
    "    if sum(cubes) == i:                   \n",
    "        print(i)\n",
    "\n"
   ]
  }
 ],
 "metadata": {
  "kernelspec": {
   "display_name": "ai",
   "language": "python",
   "name": "python3"
  },
  "language_info": {
   "codemirror_mode": {
    "name": "ipython",
    "version": 3
   },
   "file_extension": ".py",
   "mimetype": "text/x-python",
   "name": "python",
   "nbconvert_exporter": "python",
   "pygments_lexer": "ipython3",
   "version": "3.10.16"
  }
 },
 "nbformat": 4,
 "nbformat_minor": 5
}
