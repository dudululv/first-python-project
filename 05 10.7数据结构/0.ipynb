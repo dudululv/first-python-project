{
 "cells": [
  {
   "cell_type": "code",
   "execution_count": 9,
   "id": "886746a9",
   "metadata": {},
   "outputs": [
    {
     "data": {
      "text/plain": [
       "'b'"
      ]
     },
     "execution_count": 9,
     "metadata": {},
     "output_type": "execute_result"
    }
   ],
   "source": [
    "dic1={}\n",
    "dic1.pop('a','b')"
   ]
  },
  {
   "cell_type": "code",
   "execution_count": 11,
   "id": "6491fdd9",
   "metadata": {},
   "outputs": [
    {
     "name": "stdout",
     "output_type": "stream",
     "text": [
      "0 0\n",
      "1 1\n",
      "2 2\n",
      "3 3\n",
      "4 4\n",
      "5 5\n",
      "6 6\n",
      "7 7\n",
      "8 8\n",
      "9 9\n"
     ]
    }
   ],
   "source": [
    "for i in range(10):\n",
    "    for j in str(i):\n",
    "        print(i,j)"
   ]
  },
  {
   "cell_type": "code",
   "execution_count": null,
   "id": "8c136345",
   "metadata": {},
   "outputs": [
    {
     "name": "stdout",
     "output_type": "stream",
     "text": [
      "twinkle : 6\n",
      "little : 3\n",
      "star : 2\n",
      "how : 2\n",
      "i : 2\n",
      "wonder : 2\n",
      "what : 2\n",
      "you : 3\n",
      "are : 2\n",
      "up : 1\n",
      "above : 1\n",
      "the : 4\n",
      "world : 1\n",
      "so : 1\n",
      "high : 1\n",
      "like : 1\n",
      "a : 1\n",
      "diamond : 1\n",
      "in : 1\n",
      "sky : 1\n",
      "when : 2\n",
      "blazing : 1\n",
      "sun : 1\n",
      "is : 1\n",
      "gone : 1\n",
      "he : 1\n",
      "nothing : 1\n",
      "shines : 1\n",
      "upon : 1\n",
      "then : 1\n",
      "show : 1\n",
      "your : 1\n",
      "light : 1\n",
      "all : 1\n",
      "night : 1\n"
     ]
    }
   ],
   "source": [
    "s = \"\"\"Twinkle, twinkle, little star,\n",
    "How I wonder what you are!\n",
    "Up above the world so high,\n",
    "Like a diamond in the sky.\n",
    "Twinkle, twinkle, little star,\n",
    "How I wonder what you are!\n",
    "When the blazing sun is gone,\n",
    "When he nothing shines upon,\n",
    "Then you show your little light,\n",
    "Twinkle, twinkle, all the night.\"\"\".lower()\n",
    "\n",
    "# 定义一个字典，保存单词和个数\n",
    "dict1 = {}\n",
    "# 定义一个变量，保存单词\n",
    "t = \"\"\n",
    "\n",
    "# 遍历字符串\n",
    "for i in s:\n",
    "    if 'a' <= i <= 'z':   # 如果是字母就拼到单词里\n",
    "        t += i\n",
    "    elif t != \"\":         # 遇到非字母，且当前已有单词\n",
    "        if t not in dict1:\n",
    "            dict1[t] = 1\n",
    "        else:\n",
    "            dict1[t] += 1\n",
    "        t = \"\"            # 记完之后清空临时单词\n",
    "\n",
    "# 防止最后一个单词遗漏\n",
    "if t != \"\":\n",
    "    dict1[t] = dict1.get(t, 0) + 1\n",
    "\n",
    "# 打印结果\n",
    "for word, count in dict1.items():\n",
    "    print(word, \":\", count)\n",
    "    \n"
   ]
  },
  {
   "cell_type": "code",
   "execution_count": 15,
   "id": "61478fdd",
   "metadata": {},
   "outputs": [
    {
     "data": {
      "text/plain": [
       "{'twinkle': 6,\n",
       " 'little': 3,\n",
       " 'star': 2,\n",
       " 'how': 2,\n",
       " 'i': 2,\n",
       " 'wonder': 2,\n",
       " 'what': 2,\n",
       " 'you': 3,\n",
       " 'are': 2,\n",
       " 'up': 1,\n",
       " 'above': 1,\n",
       " 'the': 4,\n",
       " 'world': 1,\n",
       " 'so': 1,\n",
       " 'high': 1,\n",
       " 'like': 1,\n",
       " 'a': 1,\n",
       " 'diamond': 1,\n",
       " 'in': 1,\n",
       " 'sky': 1,\n",
       " 'when': 2,\n",
       " 'blazing': 1,\n",
       " 'sun': 1,\n",
       " 'is': 1,\n",
       " 'gone': 1,\n",
       " 'he': 1,\n",
       " 'nothing': 1,\n",
       " 'shines': 1,\n",
       " 'upon': 1,\n",
       " 'then': 1,\n",
       " 'show': 1,\n",
       " 'your': 1,\n",
       " 'light': 1,\n",
       " 'all': 1,\n",
       " 'night': 1}"
      ]
     },
     "execution_count": 15,
     "metadata": {},
     "output_type": "execute_result"
    }
   ],
   "source": [
    "list=sorted(dict1.items(),key=lambda x:x[1],reverse=True)\n",
    "for i in list:\n",
    "    dict1[i[0]]=i[1]\n",
    "dict1"
   ]
  },
  {
   "cell_type": "code",
   "execution_count": 19,
   "id": "56073de4",
   "metadata": {},
   "outputs": [
    {
     "data": {
      "text/plain": [
       "{'a': 1,\n",
       " 'b': 2,\n",
       " 'c': 3,\n",
       " 'd': 4,\n",
       " 'e': 5,\n",
       " 'f': 6,\n",
       " 'g': 7,\n",
       " 'h': 8,\n",
       " 'i': 9,\n",
       " 'j': 10,\n",
       " 'k': 11,\n",
       " 'l': 12,\n",
       " 'm': 13,\n",
       " 'n': 14,\n",
       " 'o': 15,\n",
       " 'p': 16,\n",
       " 'q': 17,\n",
       " 'r': 18,\n",
       " 's': 19,\n",
       " 't': 20,\n",
       " 'u': 21,\n",
       " 'v': 22,\n",
       " 'w': 23,\n",
       " 'x': 24,\n",
       " 'y': 25,\n",
       " 'z': 26}"
      ]
     },
     "execution_count": 19,
     "metadata": {},
     "output_type": "execute_result"
    }
   ],
   "source": [
    "list=[('a',1),('b',2),('c',3),('d',4),('e',5),('f',6),('g',7),('h',8),('i',9),('j',10),('k',11),('l',12),('m',13),('n',14),('o',15),('p',16),('q',17),('r',18),('s',19),('t',20),('u',21),('v',22),('w',23),('x',24),('y',25),('z',26)]\n",
    "dict(list)\n",
    "\n"
   ]
  },
  {
   "cell_type": "code",
   "execution_count": 21,
   "id": "73094fab",
   "metadata": {},
   "outputs": [
    {
     "name": "stdout",
     "output_type": "stream",
     "text": [
      "[1, None, 3]\n"
     ]
    }
   ],
   "source": [
    "my_list = [1, None, 3]  # 表示第二个位置暂时空\n",
    "print(my_list)\n"
   ]
  },
  {
   "cell_type": "code",
   "execution_count": 22,
   "id": "0b28f6f7",
   "metadata": {},
   "outputs": [
    {
     "name": "stdout",
     "output_type": "stream",
     "text": [
      "8\n"
     ]
    }
   ],
   "source": [
    "\n",
    "add_lambda = lambda x, y: x + y\n",
    "\n",
    "print(add_lambda(3, 5))  # 输出 8"
   ]
  },
  {
   "cell_type": "code",
   "execution_count": 23,
   "id": "c9728be9",
   "metadata": {},
   "outputs": [
    {
     "name": "stdout",
     "output_type": "stream",
     "text": [
      "10\n"
     ]
    }
   ],
   "source": [
    "func = None\n",
    "\n",
    "# 如果func是None，用lambda做默认函数\n",
    "func = func or (lambda x: x*2)\n",
    "print(func(5))  # 10\n"
   ]
  }
 ],
 "metadata": {
  "kernelspec": {
   "display_name": "SF150",
   "language": "python",
   "name": "python3"
  },
  "language_info": {
   "codemirror_mode": {
    "name": "ipython",
    "version": 3
   },
   "file_extension": ".py",
   "mimetype": "text/x-python",
   "name": "python",
   "nbconvert_exporter": "python",
   "pygments_lexer": "ipython3",
   "version": "3.10.16"
  }
 },
 "nbformat": 4,
 "nbformat_minor": 5
}
