{
 "cells": [
  {
   "cell_type": "code",
   "execution_count": 1,
   "id": "3c7584db",
   "metadata": {},
   "outputs": [
    {
     "name": "stdout",
     "output_type": "stream",
     "text": [
      "去谈业务\n"
     ]
    }
   ],
   "source": [
    "day = int(input(\"请输入今天是星期几（1-7）：\"))\n",
    "\n",
    "if 1 <= day <= 5:  \n",
    "    weather = input(\"今天天气好吗？（好/不好）：\")\n",
    "    if weather == \"好\":\n",
    "        print(\"去谈业务\")\n",
    "    else:\n",
    "        print(\"在公司整理资料\")\n",
    "elif 6 <= day <= 7:  \n",
    "    temp = int(input(\"请输入今天的温度（℃）：\"))\n",
    "    if temp > 30:\n",
    "        print(\"去游泳\")\n",
    "    else:\n",
    "        print(\"去爬山\")\n",
    "else:\n",
    "    print(\"输入错误，只能输入 1~7\")\n"
   ]
  },
  {
   "cell_type": "code",
   "execution_count": 8,
   "id": "10b82459",
   "metadata": {},
   "outputs": [
    {
     "name": "stdout",
     "output_type": "stream",
     "text": [
      "1~100之间5的倍数的和是： 1050\n"
     ]
    }
   ],
   "source": [
    "s = sum(i for i in range(1, 101) if i % 5 == 0)\n",
    "print(\"1~100之间5的倍数的和是：\", s)\n"
   ]
  },
  {
   "cell_type": "code",
   "execution_count": 9,
   "id": "90aff866",
   "metadata": {},
   "outputs": [
    {
     "name": "stdout",
     "output_type": "stream",
     "text": [
      "1050\n"
     ]
    }
   ],
   "source": [
    "sum=0\n",
    "for i in range(1,101):\n",
    "    if i%5==0:\n",
    "        sum+=i\n",
    "print(sum)"
   ]
  },
  {
   "cell_type": "code",
   "execution_count": null,
   "id": "a2ec3adf",
   "metadata": {},
   "outputs": [
    {
     "name": "stdout",
     "output_type": "stream",
     "text": [
      "请输入**一个**字符！\n"
     ]
    }
   ],
   "source": [
    "ch = input(\"请输入一个字符：\")\n",
    "\n",
    "if len(ch) != 1:\n",
    "    print(\"请输入一个字符！\")\n",
    "else:\n",
    "    code = ord(ch)  # 获取字符的ASCII码值\n",
    "    \n",
    "    if 65 <= code <= 90:       # 'A'~'Z'\n",
    "        print(\"这是大写字母\")\n",
    "    elif 97 <= code <= 122:    # 'a'~'z'\n",
    "        print(\"这是小写字母\")\n",
    "    elif 48 <= code <= 57:     # '0'~'9'\n",
    "        print(\"这是数字\")\n",
    "    else:\n",
    "        print(\"这是其他字符\")\n"
   ]
  },
  {
   "cell_type": "code",
   "execution_count": 12,
   "id": "878cd630",
   "metadata": {},
   "outputs": [
    {
     "name": "stdout",
     "output_type": "stream",
     "text": [
      "这是其他字符\n"
     ]
    }
   ],
   "source": [
    "ch = input(\"请输入一个字符：\")\n",
    "A = \"ABCDEFGHIJKLMNOPQRSTUVWXYZ\"\n",
    "a = \"abcdefghijklmnopqrstuvwxyz\"\n",
    "num = \"0123456789\"\n",
    "\n",
    "if len(ch) != 1:\n",
    "    print(\"请输入一个字符！\")\n",
    "else:\n",
    "    if ch in A:\n",
    "        print(\"这是大写字母\")\n",
    "    elif ch in a:\n",
    "        print(\"这是小写字母\")\n",
    "    elif ch in num:\n",
    "        print(\"这是数字\")\n",
    "    else:\n",
    "        print(\"这是其他字符\")\n"
   ]
  },
  {
   "cell_type": "code",
   "execution_count": 7,
   "id": "47670954",
   "metadata": {},
   "outputs": [
    {
     "name": "stdout",
     "output_type": "stream",
     "text": [
      "输入错误！分数应在0~100之间。\n"
     ]
    }
   ],
   "source": [
    "score = int(input(\"请输入一个0~100之间的分数：\"))\n",
    "\n",
    "if 0 <= score <= 100:   # 判断输入是否合法\n",
    "    if score >= 90:\n",
    "        print(\"等级：优\")\n",
    "    elif score >= 80:\n",
    "        print(\"等级：良\")\n",
    "    elif score >= 70:\n",
    "        print(\"等级：中\")\n",
    "    elif score >= 60:\n",
    "        print(\"等级：及格\")\n",
    "    else:\n",
    "        print(\"等级：不及格\")\n",
    "else:\n",
    "    print(\"输入错误！分数应在0~100之间。\")\n"
   ]
  },
  {
   "cell_type": "code",
   "execution_count": null,
   "id": "7c2f1d9b",
   "metadata": {},
   "outputs": [],
   "source": [
    "i = 1\n",
    "odd_sum = 0   # 奇数和\n",
    "even_sum = 0  # 偶数和\n",
    "\n",
    "while i <= 100:\n",
    "    if i % 2 == 0:\n",
    "        even_sum += i\n",
    "    else:\n",
    "        odd_sum += i\n",
    "    i += 1\n",
    "\n",
    "print(\"1~100奇数的和：\", odd_sum)\n",
    "print(\"1~100偶数的和：\", even_sum)\n",
    "#分割符\n",
    "odd_sum = 0\n",
    "even_sum = 0\n",
    "\n",
    "for i in range(1, 101):\n",
    "    if i % 2 == 0:\n",
    "        even_sum += i\n",
    "    else:\n",
    "        odd_sum += i\n",
    "\n",
    "print(\"1~100奇数的和：\", odd_sum)\n",
    "print(\"1~100偶数的和：\", even_sum)\n"
   ]
  },
  {
   "cell_type": "code",
   "execution_count": 13,
   "id": "eec2f678",
   "metadata": {},
   "outputs": [
    {
     "name": "stdout",
     "output_type": "stream",
     "text": [
      "1-100之间的奇数和为：2500\n",
      "1-100之间的偶数和为：2550\n"
     ]
    }
   ],
   "source": [
    "i=0\n",
    "odd=0\n",
    "even=0\n",
    "while i<=100:\n",
    "    if i%2==0:\n",
    "        even+=i\n",
    "    else:\n",
    "        odd+=i\n",
    "    i+=1\n",
    "print(f\"1-100之间的奇数和为：{odd}\")\n",
    "print(f\"1-100之间的偶数和为：{even}\")"
   ]
  },
  {
   "cell_type": "code",
   "execution_count": 14,
   "id": "69cefe04",
   "metadata": {},
   "outputs": [
    {
     "name": "stdout",
     "output_type": "stream",
     "text": [
      "1-100之间的奇数和为：2500\n",
      "1-100之间的偶数和为：2550\n"
     ]
    }
   ],
   "source": [
    "i=0\n",
    "odd=0\n",
    "even=0\n",
    "for i in range (1,101):\n",
    "    if i%2==0:\n",
    "        even+=i\n",
    "    else:\n",
    "        odd+=i\n",
    "        \n",
    "print(f\"1-100之间的奇数和为：{odd}\")\n",
    "print(f\"1-100之间的偶数和为：{even}\")\n",
    "    "
   ]
  }
 ],
 "metadata": {
  "kernelspec": {
   "display_name": "SF150",
   "language": "python",
   "name": "python3"
  },
  "language_info": {
   "codemirror_mode": {
    "name": "ipython",
    "version": 3
   },
   "file_extension": ".py",
   "mimetype": "text/x-python",
   "name": "python",
   "nbconvert_exporter": "python",
   "pygments_lexer": "ipython3",
   "version": "3.10.16"
  }
 },
 "nbformat": 4,
 "nbformat_minor": 5
}
