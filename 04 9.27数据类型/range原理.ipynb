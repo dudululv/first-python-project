{
 "cells": [
  {
   "cell_type": "code",
   "execution_count": 1,
   "id": "d2ad0f05",
   "metadata": {},
   "outputs": [],
   "source": [
    "# range(start, stop, step)\n",
    "#         │\n",
    "#         ▼\n",
    "# 判断 step 是否为正 / 负\n",
    "# ──────────────\n",
    "# step > 0 ?\n",
    "#   ┌───────────────┐\n",
    "#   │ 是（正步长）   │\n",
    "#   │ 循环条件: start < stop │\n",
    "#   │ 若条件成立，执行循环体 │\n",
    "#   │ 否，循环体不执行     │\n",
    "#   └───────────────┘\n",
    "# step < 0 ?\n",
    "#   ┌───────────────┐\n",
    "#   │ 否（负步长）   │\n",
    "#   │ 循环条件: start > stop │\n",
    "#   │ 若条件成立，执行循环体 │\n",
    "#   │ 否，循环体不执行     │\n",
    "#   └───────────────┘\n",
    "\n",
    "# 示例1：正向循环\n",
    "# range(1, 5, 1)\n",
    "# i: 1 → 2 → 3 → 4\n",
    "# 循环体执行 ✔\n",
    "\n",
    "# 示例2：负向循环\n",
    "# range(8, 1, -1)\n",
    "# i: 8 → 7 → 6 → 5 → 4 → 3 → 2\n",
    "# 循环体执行 ✔\n",
    "\n",
    "# 示例3：逻辑不满足\n",
    "# range(8, 1, 1)  # 正步长，但 start > stop\n",
    "# 循环体不执行 ❌\n",
    "a='helloworld'\n",
    "for i in range(1,-1, 1):\n",
    "    print(a[i])"
   ]
  }
 ],
 "metadata": {
  "kernelspec": {
   "display_name": "ai",
   "language": "python",
   "name": "python3"
  },
  "language_info": {
   "codemirror_mode": {
    "name": "ipython",
    "version": 3
   },
   "file_extension": ".py",
   "mimetype": "text/x-python",
   "name": "python",
   "nbconvert_exporter": "python",
   "pygments_lexer": "ipython3",
   "version": "3.10.16"
  }
 },
 "nbformat": 4,
 "nbformat_minor": 5
}
