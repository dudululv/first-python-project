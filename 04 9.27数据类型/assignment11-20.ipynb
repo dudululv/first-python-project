{
 "cells": [
  {
   "cell_type": "code",
   "execution_count": 8,
   "id": "a8cb42a4",
   "metadata": {},
   "outputs": [
    {
     "name": "stdout",
     "output_type": "stream",
     "text": [
      "2.0\n",
      "3.0\n",
      "6.0\n",
      "最小值: 2.0\n",
      "最大值: 6.0\n"
     ]
    }
   ],
   "source": [
    "i = 1\n",
    "\n",
    "while True:\n",
    "    n = float(input(f'请输入第{i}个数(输入-1结束): '))\n",
    "    if n == -1:\n",
    "        break\n",
    "    print(n)\n",
    "    if i == 1:\n",
    "        min_ = n\n",
    "        max_ = n\n",
    "    else:\n",
    "        if min_ > n:\n",
    "            min_ = n\n",
    "        if max_ < n:\n",
    "            max_ = n\n",
    "    i += 1\n",
    "if min_ is not None:\n",
    "    print(f'最小值: {min_}')\n",
    "    print(f'最大值: {max_}')\n",
    "else:\n",
    "    print('没有输入任何数字')"
   ]
  },
  {
   "cell_type": "code",
   "execution_count": 9,
   "id": "cae6927c",
   "metadata": {},
   "outputs": [
    {
     "name": "stdout",
     "output_type": "stream",
     "text": [
      "22\n"
     ]
    }
   ],
   "source": [
    "i=1\n",
    "s=1\n",
    "while i<=10:\n",
    "    s=(i+1)*2\n",
    "    i+=1\n",
    "print(s)"
   ]
  }
 ],
 "metadata": {
  "kernelspec": {
   "display_name": "SF150",
   "language": "python",
   "name": "python3"
  },
  "language_info": {
   "codemirror_mode": {
    "name": "ipython",
    "version": 3
   },
   "file_extension": ".py",
   "mimetype": "text/x-python",
   "name": "python",
   "nbconvert_exporter": "python",
   "pygments_lexer": "ipython3",
   "version": "3.10.16"
  }
 },
 "nbformat": 4,
 "nbformat_minor": 5
}
