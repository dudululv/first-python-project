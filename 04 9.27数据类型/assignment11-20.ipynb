{
 "cells": [
  {
   "cell_type": "code",
   "execution_count": null,
   "id": "8a90e092",
   "metadata": {},
   "outputs": [],
   "source": [
    "# 初始化一个空列表，用来存储用户输入的数字\n",
    "numbers = []\n",
    "\n",
    "while True:\n",
    "    n = input(\"请输入一个数字（输入-1结束）：\")\n",
    "    try:\n",
    "        n = float(n)  # 转换成浮点数，支持小数\n",
    "    except ValueError:\n",
    "        print(\"请输入有效数字！\")\n",
    "        continue\n",
    "\n",
    "    if n == -1:  # 输入-1时结束\n",
    "        break\n",
    "    numbers.append(n)\n",
    "\n",
    "# 判断是否有输入数字\n",
    "if numbers:\n",
    "    max_num = max(numbers)\n",
    "    min_num = min(numbers)\n",
    "    print(f\"最大数是：{max_num}\")\n",
    "    print(f\"最小数是：{min_num}\")\n",
    "else:\n",
    "    print(\"没有输入有效数字。\")\n"
   ]
  },
  {
   "cell_type": "code",
   "execution_count": null,
   "id": "1e286d18",
   "metadata": {},
   "outputs": [],
   "source": [
    "# 已知条件\n",
    "last_day_peach = 1   # 第十天剩下的桃子\n",
    "total_days = 10      # 天数\n",
    "\n",
    "# 逆推计算\n",
    "peach = last_day_peach\n",
    "for day in range(total_days-1, 0, -1):  # 从第9天到第1天\n",
    "    peach = 2 * (peach + 1)\n",
    "\n",
    "print(f\"第1天小猴子摘的桃子数是：{peach}\")\n"
   ]
  },
  {
   "cell_type": "code",
   "execution_count": null,
   "id": "3854e574",
   "metadata": {},
   "outputs": [],
   "source": [
    "# 找出 1 到 10000 的所有自守数\n",
    "for n in range(1, 10001):\n",
    "    square = n ** 2\n",
    "    # 将平方转换为字符串，判断平方的末尾是否是原数\n",
    "    if str(square).endswith(str(n)):\n",
    "        print(n, end=' ')\n"
   ]
  },
  {
   "cell_type": "code",
   "execution_count": null,
   "id": "ba578dc6",
   "metadata": {},
   "outputs": [],
   "source": [
    "# 遍历 100-999 的所有三位数\n",
    "for n in range(100, 1000):\n",
    "    # 分别取百位、十位和个位\n",
    "    hundreds = n // 100\n",
    "    tens = (n // 10) % 10\n",
    "    units = n % 10\n",
    "    # 判断是否满足水仙花数条件\n",
    "    if hundreds**3 + tens**3 + units**3 == n:\n",
    "        print(n, end=' ')\n"
   ]
  }
 ],
 "metadata": {
  "kernelspec": {
   "display_name": "SF150",
   "language": "python",
   "name": "python3"
  },
  "language_info": {
   "name": "python",
   "version": "3.10.16"
  }
 },
 "nbformat": 4,
 "nbformat_minor": 5
}
