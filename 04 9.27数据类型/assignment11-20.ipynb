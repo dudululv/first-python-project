{
 "cells": [
  {
   "cell_type": "code",
   "execution_count": 1,
   "id": "8a90e092",
   "metadata": {},
   "outputs": [
    {
     "name": "stdout",
     "output_type": "stream",
     "text": [
      "没有输入有效数字。\n"
     ]
    }
   ],
   "source": [
    "# 11编程,任意输⼊n个数, 当输⼊-1时结束，找出其中最⼤数和最⼩数.\n",
    "num= []\n",
    "\n",
    "while True:\n",
    "    n = input(\"请输入一个数字（输入-1结束）：\")\n",
    "    \n",
    "    try:\n",
    "        n = float(n)  \n",
    "    except ValueError:\n",
    "        print(\"请输入有效数字！\")\n",
    "        continue\n",
    "\n",
    "    if n == -1:  \n",
    "        break\n",
    "    num.append(n)\n",
    "\n",
    "\n",
    "if num:\n",
    "    max_num = max(num)\n",
    "    min_num = min(num)\n",
    "    print(f\"最大数是：{max_num}\")\n",
    "    print(f\"最小数是：{min_num}\")\n",
    "else:\n",
    "    print(\"没有输入有效数字。\")\n"
   ]
  },
  {
   "cell_type": "code",
   "execution_count": null,
   "id": "1e286d18",
   "metadata": {},
   "outputs": [
    {
     "name": "stdout",
     "output_type": "stream",
     "text": [
      "第1天小猴子摘的桃子数是：1534\n"
     ]
    }
   ],
   "source": [
    "# 12⼩猴⼦摘来⼀些桃.它吃掉了⼀半,觉得不过瘾,⼜吃掉了⼀只.\n",
    "# 第⼆天,它也这样,先吃了剩下的⼀半,再多吃⼀只.第三天也如此.第⼗天⼩猴⼦⼀看,就剩⼀个桃⼦了.\n",
    "# 问⼩猴⼦那天共摘来多少只桃?\n",
    "last= 1  \n",
    "n = 10      \n",
    "\n",
    "peach = last\n",
    "for day in range(n-1): \n",
    "    peach = 2 * (peach + 1)\n",
    "\n",
    "print(f\"第1天小猴子摘的桃子数是：{peach}\")\n"
   ]
  },
  {
   "cell_type": "code",
   "execution_count": null,
   "id": "3854e574",
   "metadata": {},
   "outputs": [
    {
     "name": "stdout",
     "output_type": "stream",
     "text": [
      "1 5 6 25 76 376 625 9376 "
     ]
    }
   ],
   "source": [
    "# 13找出 1 到 10000 的所有自守数\n",
    "for n in range(1, 10001):\n",
    "    square = n ** 2\n",
    "    if str(square).endswith(str(n)):\n",
    "        print(n, end=' ')\n"
   ]
  },
  {
   "cell_type": "code",
   "execution_count": null,
   "id": "ba578dc6",
   "metadata": {},
   "outputs": [
    {
     "name": "stdout",
     "output_type": "stream",
     "text": [
      "153 370 371 407 "
     ]
    }
   ],
   "source": [
    "#  14 100-999 的所有水仙花数\n",
    "for n in range(100, 1000):\n",
    "   \n",
    "    hundreds = n // 100\n",
    "    tens = (n // 10) % 10\n",
    "    units = n % 10\n",
    "    \n",
    "    if hundreds**3 + tens**3 + units**3 == n:\n",
    "        print(n, end=' ')\n"
   ]
  },
  {
   "cell_type": "code",
   "execution_count": null,
   "id": "b50dc3a1",
   "metadata": {},
   "outputs": [
    {
     "name": "stdout",
     "output_type": "stream",
     "text": [
      "3 5 7 11 13 17 19 23 29 31 37 41 43 47 53 59 61 67 71 73 79 83 89 97 "
     ]
    }
   ],
   "source": [
    "# 15输出3到100之间的全部素数\n",
    "for num in range(3, 101):\n",
    "    for i in range(2, int(num**0.5) + 1):\n",
    "        if num % i == 0:\n",
    "            break\n",
    "    else:\n",
    "        print(num, end=\" \")\n"
   ]
  },
  {
   "cell_type": "code",
   "execution_count": 3,
   "id": "fd248914",
   "metadata": {},
   "outputs": [
    {
     "name": "stdout",
     "output_type": "stream",
     "text": [
      "122002101778601647\n"
     ]
    }
   ],
   "source": [
    "# 16计算1+3!+5!+...+（2n-1）! 前10 项和.\n",
    "n = 10\n",
    "total = 0\n",
    "for k in range(1, n+1):\n",
    "    odd=2*k-1\n",
    "    fac=1\n",
    "    for i in range(1, odd+1):\n",
    "        fac *= i\n",
    "    total += fac\n",
    "print(total)\n"
   ]
  },
  {
   "cell_type": "code",
   "execution_count": null,
   "id": "773b9e4a",
   "metadata": {},
   "outputs": [],
   "source": []
  },
  {
   "cell_type": "code",
   "execution_count": null,
   "id": "7810d3ea",
   "metadata": {},
   "outputs": [
    {
     "name": "stdout",
     "output_type": "stream",
     "text": [
      "286\n",
      "286\n"
     ]
    }
   ],
   "source": [
    "#17计算 S=1+1+2+1+2+3+...+1+2+...+n\n",
    "def series_sum(n):\n",
    "    return n*(n+1)*(n+2)//6\n",
    "# 例子：n=5\n",
    "print(series_sum(5))  # 输出 35\n",
    "\n",
    "k=0\n",
    "t=0\n",
    "n=int(input('请输入n：'))\n",
    "for i  in range(1, n+1):\n",
    "    k+=i \n",
    "    t += k\n",
    "print(t)\n"
   ]
  },
  {
   "cell_type": "code",
   "execution_count": null,
   "id": "d8f0eefd",
   "metadata": {},
   "outputs": [
    {
     "name": "stdout",
     "output_type": "stream",
     "text": [
      "385\n",
      "385\n"
     ]
    }
   ],
   "source": [
    "#18 ⽤⼦程序求级数的前n项和,级数为 s=1+1+3+1+3+5+1+...+2n-1\n",
    "def series_sum(n):\n",
    "    \"\"\"计算 S = 1 + (1+3) + (1+3+5) + ... + (1+3+5+...+(2n-1))\"\"\"\n",
    "    return n*(n+1)*(2*n+1)//6\n",
    "# 示例：前10项\n",
    "print(series_sum(10))  # 输出 385\n",
    "\n",
    "k=0\n",
    "t=0\n",
    "n=int(input('请输入n：'))\n",
    "for i  in range(1, n+1):\n",
    "    k+=i*2-1\n",
    "    t += k\n",
    "print(t)\n"
   ]
  },
  {
   "cell_type": "code",
   "execution_count": 25,
   "id": "c341619b",
   "metadata": {},
   "outputs": [
    {
     "data": {
      "text/plain": [
       "[(3, 2, 8, 93, 8649)]"
      ]
     },
     "execution_count": 25,
     "metadata": {},
     "output_type": "execute_result"
    }
   ],
   "source": [
    "#19 [□×(□3+□)]**2=8□□9这里面只有加减乘除，没有其他运算，而且方框只能是数字，而且第一个方框不是1\n",
    "solutions = []\n",
    "for a in range(2, 10):       \n",
    "    for b in range(0, 10):\n",
    "        for c in range(0, 10):\n",
    "            inner = 10*b + 3 + c\n",
    "            left = a * inner\n",
    "            square = left ** 2\n",
    "            s = str(square)\n",
    "            if len(s) == 4 and s[0] == '8' and s[-1] == '9':\n",
    "                solutions.append((a, b, c, left, square))\n",
    "solutions\n"
   ]
  },
  {
   "cell_type": "code",
   "execution_count": null,
   "id": "47b82206",
   "metadata": {},
   "outputs": [
    {
     "data": {
      "text/plain": [
       "[6, 28]"
      ]
     },
     "execution_count": 24,
     "metadata": {},
     "output_type": "execute_result"
    },
    {
     "name": "stdout",
     "output_type": "stream",
     "text": [
      "6\n",
      "28\n"
     ]
    }
   ],
   "source": [
    "#20 函数：判断一个数是否为完美数\n",
    "def is_perfect(n):\n",
    "    factors_sum = sum([i for i in range(1, n) if n % i == 0])\n",
    "    return factors_sum == n\n",
    "\n",
    "# 找出 100 以内的所有完美数\n",
    "perfect_numbers = [x for x in range(1, 101) if is_perfect(x)]\n",
    "perfect_numbers\n",
    "\n",
    "for num2 in range(1, 101):\n",
    "    t=0\n",
    "    for i in range(1,num2):\n",
    "        if num2%i==0:\n",
    "            t+=i\n",
    "    if num2==t:\n",
    "        print(num2)\n"
   ]
  }
 ],
 "metadata": {
  "kernelspec": {
   "display_name": "ai",
   "language": "python",
   "name": "python3"
  },
  "language_info": {
   "codemirror_mode": {
    "name": "ipython",
    "version": 3
   },
   "file_extension": ".py",
   "mimetype": "text/x-python",
   "name": "python",
   "nbconvert_exporter": "python",
   "pygments_lexer": "ipython3",
   "version": "3.10.16"
  }
 },
 "nbformat": 4,
 "nbformat_minor": 5
}
