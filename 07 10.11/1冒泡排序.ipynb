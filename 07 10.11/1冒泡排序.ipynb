{
 "cells": [
  {
   "cell_type": "code",
   "execution_count": 13,
   "id": "68ce3c65",
   "metadata": {},
   "outputs": [
    {
     "data": {
      "text/plain": [
       "[2, 8, 16, 7, 3, -8]"
      ]
     },
     "execution_count": 13,
     "metadata": {},
     "output_type": "execute_result"
    }
   ],
   "source": [
    "list1=[8,2,16,7,3,-8]\n",
    "n=list1[0]\n",
    "list1[0]=list1[1]\n",
    "list1[1]=n\n",
    "list1\n"
   ]
  },
  {
   "cell_type": "code",
   "execution_count": 14,
   "id": "4a7723c1",
   "metadata": {},
   "outputs": [
    {
     "data": {
      "text/plain": [
       "[2, 8, 16, 7, 3, -8]"
      ]
     },
     "execution_count": 14,
     "metadata": {},
     "output_type": "execute_result"
    }
   ],
   "source": [
    "list1=[8,2,16,7,3,-8]\n",
    "list1[0],list1[1]=list1[1],list1[0]\n",
    "list1"
   ]
  },
  {
   "cell_type": "code",
   "execution_count": 12,
   "id": "06e67252",
   "metadata": {},
   "outputs": [
    {
     "data": {
      "text/plain": [
       "[8, 2, 16, 7, 3, -8]"
      ]
     },
     "execution_count": 12,
     "metadata": {},
     "output_type": "execute_result"
    },
    {
     "name": "stdout",
     "output_type": "stream",
     "text": [
      "[-8, 2, 3, 7, 8, 16]\n"
     ]
    }
   ],
   "source": [
    "list1=[8,2,16,7,3,-8]\n",
    "list1\n",
    "for j in range(0,len(list1)-1):\n",
    "    for i in range(0,len(list1)-1-j,1):\n",
    "        if list1[i]>list1[i+1]:\n",
    "            list1[i],list1[i+1]=list1[i+1],list1[i]\n",
    "print(list1)"
   ]
  },
  {
   "cell_type": "code",
   "execution_count": null,
   "id": "f8292682",
   "metadata": {},
   "outputs": [],
   "source": [
    "list1 = [8, 2, 16, 7, 3, -8]\n",
    "n = len(list1)\n",
    "for j in range(n-1):\n",
    "    swapped = False\n",
    "    for i in range(n-1-j):\n",
    "        if list1[i] > list1[i+1]:\n",
    "            list1[i], list1[i+1] = list1[i+1], list1[i]\n",
    "            swapped = True\n",
    "    if not swapped:  # 没有发生交换 -> 提前结束\n",
    "        break\n",
    "print(list1) #这是修改后的，多了的swapped是为了判断该次有没有发生交换，没有就说明已经有序了，就可以提前结束\n"
   ]
  },
  {
   "cell_type": "code",
   "execution_count": null,
   "id": "4962ecaf",
   "metadata": {},
   "outputs": [],
   "source": []
  }
 ],
 "metadata": {
  "kernelspec": {
   "display_name": "SF150",
   "language": "python",
   "name": "python3"
  },
  "language_info": {
   "codemirror_mode": {
    "name": "ipython",
    "version": 3
   },
   "file_extension": ".py",
   "mimetype": "text/x-python",
   "name": "python",
   "nbconvert_exporter": "python",
   "pygments_lexer": "ipython3",
   "version": "3.10.16"
  }
 },
 "nbformat": 4,
 "nbformat_minor": 5
}
