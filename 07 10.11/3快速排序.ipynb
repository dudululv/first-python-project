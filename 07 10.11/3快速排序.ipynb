{
 "cells": [
  {
   "cell_type": "code",
   "execution_count": 1,
   "id": "e2f4fb26",
   "metadata": {},
   "outputs": [
    {
     "name": "stdout",
     "output_type": "stream",
     "text": [
      "[-8, 2, 3, 7, 8, 16]\n"
     ]
    }
   ],
   "source": [
    "def q_fun(lst, left, right):\n",
    "    if left >= right:\n",
    "        return  # 递归边界：当子数组长度 <=1 时停止\n",
    "\n",
    "    # 以最左边的元素作为基准数\n",
    "    base = lst[left]\n",
    "    low = left\n",
    "    high = right\n",
    "\n",
    "    while low < high:\n",
    "        # 从右边往左找比基准数小的元素\n",
    "        while lst[high] >= base and low < high:\n",
    "            high -= 1\n",
    "        # 从左边往右找比基准数大的元素\n",
    "        while lst[low] <= base and low < high:\n",
    "            low += 1\n",
    "        # 交换两个元素\n",
    "        if low < high:\n",
    "            lst[low], lst[high] = lst[high], lst[low]\n",
    "\n",
    "    # 基准数归位\n",
    "    lst[left], lst[low] = lst[low], lst[left]\n",
    "\n",
    "    # 递归排序左右两边\n",
    "    q_fun(lst, left, low - 1)\n",
    "    q_fun(lst, low + 1, right)\n",
    "\n",
    "\n",
    "# 测试\n",
    "list1 = [8, 2, 16, 7, 3, -8]\n",
    "q_fun(list1, 0, len(list1) - 1)\n",
    "print(list1)\n"
   ]
  },
  {
   "cell_type": "code",
   "execution_count": null,
   "id": "ef99bd97",
   "metadata": {},
   "outputs": [],
   "source": [
    "a=[5,4,3,2,1]\n",
    "left=0\n",
    "right=len(a)-1\n",
    "\n",
    "base=a[left]\n",
    "low=left\n",
    "high=right\n",
    "\n",
    "while low<high:\n",
    "    if a[low]>base:\n",
    "        low+=1\n",
    "        \n",
    "a[low],a[high]=a[high],a[low]\n",
    "print(a)\n",
    "\n",
    "    "
   ]
  }
 ],
 "metadata": {
  "kernelspec": {
   "display_name": "SF150",
   "language": "python",
   "name": "python3"
  },
  "language_info": {
   "codemirror_mode": {
    "name": "ipython",
    "version": 3
   },
   "file_extension": ".py",
   "mimetype": "text/x-python",
   "name": "python",
   "nbconvert_exporter": "python",
   "pygments_lexer": "ipython3",
   "version": "3.10.16"
  }
 },
 "nbformat": 4,
 "nbformat_minor": 5
}
