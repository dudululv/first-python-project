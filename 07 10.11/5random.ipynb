{
 "cells": [
  {
   "cell_type": "code",
   "execution_count": 46,
   "id": "8e971de9",
   "metadata": {},
   "outputs": [
    {
     "data": {
      "text/plain": [
       "9"
      ]
     },
     "execution_count": 46,
     "metadata": {},
     "output_type": "execute_result"
    },
    {
     "data": {
      "text/plain": [
       "2.091806730042274"
      ]
     },
     "execution_count": 46,
     "metadata": {},
     "output_type": "execute_result"
    },
    {
     "data": {
      "text/plain": [
       "4"
      ]
     },
     "execution_count": 46,
     "metadata": {},
     "output_type": "execute_result"
    },
    {
     "name": "stdout",
     "output_type": "stream",
     "text": [
      "None\n"
     ]
    },
    {
     "data": {
      "text/plain": [
       "3"
      ]
     },
     "execution_count": 46,
     "metadata": {},
     "output_type": "execute_result"
    },
    {
     "data": {
      "text/plain": [
       "5.135759063767962"
      ]
     },
     "execution_count": 46,
     "metadata": {},
     "output_type": "execute_result"
    },
    {
     "data": {
      "text/plain": [
       "2"
      ]
     },
     "execution_count": 46,
     "metadata": {},
     "output_type": "execute_result"
    }
   ],
   "source": [
    "import random\n",
    "random.randint(1, 10)\n",
    "random.uniform(1, 10)\n",
    "random.choice([1, 2, 3, 4, 5])\n",
    "random.shuffle([1, 2, 3, 4, 5])#random.shuffle() 是原地打乱列表，不返回新列表\n",
    "#shuffle 函数 返回值是 None，不像 sorted() 会返回一个新列表\n",
    "print(random.shuffle([1, 2, 3, 4, 5]))\n",
    "random.seed(100)\n",
    "random.randint(1, 10)\n",
    "random.uniform(1, 10)\n",
    "random.choice([1, 2, 3, 4, 5])\n",
    "random.shuffle([1, 2, 3, 4, 5])\n"
   ]
  },
  {
   "cell_type": "code",
   "execution_count": 48,
   "id": "6740c04d",
   "metadata": {},
   "outputs": [
    {
     "name": "stdout",
     "output_type": "stream",
     "text": [
      "16\n",
      "欢迎来到猜数字游戏！请猜一个1到100之间的整数。\n",
      "太小了！再试试。\n",
      "请输入有效的整数！\n",
      "请输入有效的整数！\n",
      "恭喜你，猜对了！答案就是 16。\n"
     ]
    }
   ],
   "source": [
    "import random\n",
    "target = random.randint(1, 100)\n",
    "print(target)\n",
    "print(\"欢迎来到猜数字游戏！请猜一个1到100之间的整数。\")\n",
    "while True:\n",
    "    guess = input(\"请输入你的猜测：\")\n",
    "    if not guess.isdigit():\n",
    "        print(\"请输入有效的整数！\")\n",
    "        continue\n",
    "    guess = int(guess)\n",
    "    if guess < target:\n",
    "        print(\"太小了！再试试。\")\n",
    "    elif guess > target:\n",
    "        print(\"太大了！再试试。\")\n",
    "    else:\n",
    "        print(f\"恭喜你，猜对了！答案就是 {target}。\")\n",
    "        break\n"
   ]
  },
  {
   "cell_type": "code",
   "execution_count": 49,
   "id": "478453b5",
   "metadata": {},
   "outputs": [
    {
     "name": "stdout",
     "output_type": "stream",
     "text": [
      "11\n",
      "欢迎来到猜数字游戏！请猜一个1到100之间的整数。\n",
      "between 1 and 100\n",
      "between 1 and 50\n",
      "between 7 and 100\n",
      "恭喜你，猜对了！答案就是 11。\n"
     ]
    }
   ],
   "source": [
    "import random\n",
    "target = random.randint(1, 100)\n",
    "print(target)\n",
    "print(\"欢迎来到猜数字游戏！请猜一个1到100之间的整数。\")\n",
    "while True:\n",
    "    guess = input(\"请输入你的猜测：\")\n",
    "    if not guess.isdigit():\n",
    "        print(\"请输入有效的整数！\")\n",
    "        continue\n",
    "    guess = int(guess)\n",
    "    if guess < target:\n",
    "        print(f\"between {guess} and 100\")\n",
    "    elif guess > target:\n",
    "        print(f\"between 1 and {guess}\")\n",
    "    else:\n",
    "        print(f\"恭喜你，猜对了！答案就是 {target}。\")\n",
    "        break\n"
   ]
  }
 ],
 "metadata": {
  "kernelspec": {
   "display_name": "SF150",
   "language": "python",
   "name": "python3"
  },
  "language_info": {
   "codemirror_mode": {
    "name": "ipython",
    "version": 3
   },
   "file_extension": ".py",
   "mimetype": "text/x-python",
   "name": "python",
   "nbconvert_exporter": "python",
   "pygments_lexer": "ipython3",
   "version": "3.10.16"
  }
 },
 "nbformat": 4,
 "nbformat_minor": 5
}
