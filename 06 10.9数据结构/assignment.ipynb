{
 "cells": [
  {
   "cell_type": "code",
   "execution_count": 23,
   "id": "f264dded",
   "metadata": {},
   "outputs": [
    {
     "name": "stdout",
     "output_type": "stream",
     "text": [
      "起始月份不能大于结束月份\n",
      "2月~3月平均访客量: 255\n"
     ]
    }
   ],
   "source": [
    "visitors = [200, 388, 123, 456, 987, 342, 767, 234, 124, 345, 123, 234]\n",
    "def aver(start, end):\n",
    "    if not (1 <= start <= 12) or not (1 <= end <= 12):\n",
    "        return \"月份必须在1~12之间\"\n",
    "    if start > end:\n",
    "        return \"起始月份不能大于结束月份\"\n",
    "    total = sum(visitors[start-1:end])\n",
    "    count = end - start + 1\n",
    "    return total // count  \n",
    "\n",
    "while True:\n",
    "    try:\n",
    "        start = int(input(\"请输入开始月份: \"))\n",
    "        end = int(input(\"请输入结束月份: \"))\n",
    "    except ValueError:\n",
    "        print(\"输入有误，应输入整数月份\")\n",
    "        continue\n",
    "    \n",
    "    result = aver(start, end)\n",
    "    if type(result) == str:  \n",
    "        print(result)  \n",
    "        continue       \n",
    "    else:\n",
    "        print(f\"{start}月~{end}月平均访客量: {result}\")\n",
    "        break         \n"
   ]
  },
  {
   "cell_type": "code",
   "execution_count": 17,
   "id": "7659960d",
   "metadata": {},
   "outputs": [
    {
     "name": "stdout",
     "output_type": "stream",
     "text": [
      "工龄 11111 年，对应年假天数：7 天\n"
     ]
    }
   ],
   "source": [
    "def annual_leave(years):\n",
    "    \"\"\"\n",
    "    根据工龄计算年假天数\n",
    "    输入的工龄\n",
    "    年假天数（整数）或 None（输入错误时）\n",
    "    \"\"\"\n",
    "    try:\n",
    "        years1 = int(years)\n",
    "    except ValueError:\n",
    "        print(\"输入有误，应该输入数字\")\n",
    "        return None\n",
    "\n",
    "    if years1< 5:\n",
    "        return 1\n",
    "    elif 5 <= years1 < 10:\n",
    "        return 5\n",
    "    else:\n",
    "        return 7\n",
    "\n",
    "years = input(\"请输入工龄：\")\n",
    "result = annual_leave(years)\n",
    "\n",
    "if result is not None:  \n",
    "    print(f\"工龄 {years} 年，对应年假天数：{result} 天\")"
   ]
  },
  {
   "cell_type": "code",
   "execution_count": null,
   "id": "d7d868ef",
   "metadata": {},
   "outputs": [
    {
     "name": "stdout",
     "output_type": "stream",
     "text": [
      "双色球号码生成器\n",
      "--------------------\n",
      "红球: [3, 9, 15, 17, 28, 31]\n",
      "蓝球: 8\n",
      "红球: [7, 8, 11, 17, 28, 30]\n",
      "蓝球: 16\n",
      "输入无效，只能输入 Y 或 N，程序退出\n",
      "谢谢使用！\n"
     ]
    }
   ],
   "source": [
    "import random\n",
    "def double_color():\n",
    "    \"\"\"\n",
    "    生成一注双色球号码\n",
    "    \"\"\"\n",
    "    red_balls = []\n",
    "    while len(red_balls) < 6:\n",
    "        ball = random.randint(1, 33)\n",
    "        if ball not in red_balls: \n",
    "            red_balls.append(ball)\n",
    "    red_balls.sort() \n",
    "    blue_ball = random.randint(1, 16)\n",
    "    return red_balls, blue_ball\n",
    "\n",
    "print(\"双色球号码生成器\")\n",
    "print(\"-\" * 20)  \n",
    "while True:\n",
    "    red_balls, blue_ball = double_color()\n",
    "    print(f\"红球: {red_balls}\")\n",
    "    print(f\"蓝球: {blue_ball}\")\n",
    "    choice = input(\"继续生成吗（Y/N）？\").strip().upper()\n",
    "    if choice == 'Y':\n",
    "        continue  \n",
    "    elif choice == 'N':\n",
    "        break     \n",
    "    else:\n",
    "        print(\"输入无效，只能输入 Y 或 N，程序退出\")\n",
    "        break\n",
    "print(\"谢谢使用！\")\n"
   ]
  }
 ],
 "metadata": {
  "kernelspec": {
   "display_name": "SF150",
   "language": "python",
   "name": "python3"
  },
  "language_info": {
   "codemirror_mode": {
    "name": "ipython",
    "version": 3
   },
   "file_extension": ".py",
   "mimetype": "text/x-python",
   "name": "python",
   "nbconvert_exporter": "python",
   "pygments_lexer": "ipython3",
   "version": "3.10.16"
  }
 },
 "nbformat": 4,
 "nbformat_minor": 5
}
