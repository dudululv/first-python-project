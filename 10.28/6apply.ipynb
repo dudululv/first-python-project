{
 "cells": [
  {
   "cell_type": "code",
   "execution_count": 1,
   "id": "e29a1653",
   "metadata": {},
   "outputs": [
    {
     "data": {
      "text/plain": [
       "0          AARON appindangoye\n",
       "1             AARON cresswell\n",
       "2                 AARON doran\n",
       "3               AARON galindo\n",
       "4                AARON hughes\n",
       "                 ...         \n",
       "11055          ZOUMANA camara\n",
       "11056            ZSOLT laczko\n",
       "11057               ZSOLT low\n",
       "11058     ZURAB khizanishvili\n",
       "11059    ZVJE zdan MISI movic\n",
       "Name: player_name, Length: 11060, dtype: object"
      ]
     },
     "execution_count": 1,
     "metadata": {},
     "output_type": "execute_result"
    }
   ],
   "source": [
    "# Series使用apply()函数\n",
    "# 实现对player数据集的球员名player_name字段值转大写\n",
    "# df.player_name.str.upper()\n",
    "# df.player_name.apply(lambda name:name.upper())\n",
    "# def fun(name):\n",
    "#    return name.upper()\n",
    "# df.player_name.apply(fun)\n",
    "import pandas as pd\n",
    "import numpy as np\n",
    "df = pd.read_csv('../data/player.csv')\n",
    "# 升级：第一个单词大写,第二个单词小写,第三个再大写...\n",
    "df.loc[df.index==11059, 'player_name'] = 'Zvje zdan Misi movic'\n",
    "\n",
    "def fun2(name: str) -> str:\n",
    "    list1 = name.split()\n",
    "    s = ''\n",
    "    for i in range(0, len(list1)):\n",
    "        if i % 2 == 0:  # 偶数索引（第1、3、5...个单词）\n",
    "            s += list1[i].upper() + ' '\n",
    "        else:  # 奇数索引（第2、4、6...个单词）\n",
    "            s += list1[i].lower() + ' '\n",
    "    return s.rstrip()  # 去除末尾空格\n",
    "\n",
    "df.player_name.apply(fun2)"
   ]
  },
  {
   "cell_type": "code",
   "execution_count": 2,
   "id": "8ff9016a",
   "metadata": {},
   "outputs": [
    {
     "data": {
      "text/plain": [
       "0         505942Aaron Appindangoye\n",
       "1            155782Aaron Cresswell\n",
       "2                162549Aaron Doran\n",
       "3               30572Aaron Galindo\n",
       "4                23780Aaron Hughes\n",
       "                   ...            \n",
       "11055          26357Zoumana Camara\n",
       "11056           111182Zsolt Laczko\n",
       "11057               36491Zsolt Low\n",
       "11058     35506Zurab Khizanishvili\n",
       "11059    39902Zvje zdan Misi movic\n",
       "Length: 11060, dtype: object"
      ]
     },
     "execution_count": 2,
     "metadata": {},
     "output_type": "execute_result"
    }
   ],
   "source": [
    "def fun(row) -> str:\n",
    "    return str(row['player_api_id']) + row['player_name']\n",
    "\n",
    "df.apply(fun, axis=1)  # 每次传一行数据"
   ]
  },
  {
   "cell_type": "code",
   "execution_count": 3,
   "id": "1fba7e2d",
   "metadata": {},
   "outputs": [
    {
     "data": {
      "text/plain": [
       "0         505942Aaron Appindangoye\n",
       "1            155782Aaron Cresswell\n",
       "2                162549Aaron Doran\n",
       "3               30572Aaron Galindo\n",
       "4                23780Aaron Hughes\n",
       "                   ...            \n",
       "11055          26357Zoumana Camara\n",
       "11056           111182Zsolt Laczko\n",
       "11057               36491Zsolt Low\n",
       "11058     35506Zurab Khizanishvili\n",
       "11059    39902Zvje zdan Misi movic\n",
       "Length: 11060, dtype: object"
      ]
     },
     "execution_count": 3,
     "metadata": {},
     "output_type": "execute_result"
    }
   ],
   "source": [
    "df.apply(lambda row: str(row['player_api_id']) + row['player_name'], axis=1)"
   ]
  },
  {
   "cell_type": "code",
   "execution_count": null,
   "id": "66c5d13a",
   "metadata": {},
   "outputs": [
    {
     "name": "stdout",
     "output_type": "stream",
     "text": [
      "<class 'pandas.core.frame.DataFrame'>\n",
      "RangeIndex: 11060 entries, 0 to 11059\n",
      "Data columns (total 5 columns):\n",
      " #   Column         Non-Null Count  Dtype \n",
      "---  ------         --------------  ----- \n",
      " 0   player_api_id  11060 non-null  object\n",
      " 1   player_name    11060 non-null  object\n",
      " 2   birthday       11060 non-null  object\n",
      " 3   height         11060 non-null  object\n",
      " 4   weight         11060 non-null  object\n",
      "dtypes: object(5)\n",
      "memory usage: 432.2+ KB\n"
     ]
    }
   ],
   "source": [
    "# DataFrame的apply函数传入列的应用\n",
    "# 实现修改所有数据列的类型为object\n",
    "def fun(col: pd.Series) -> pd.Series:\n",
    "    return col.astype('O')  # 修正：'O' 不是 '0'，表示object类型\n",
    "# 方法1：使用自定义函数\n",
    "df.apply(fun).info()\n"
   ]
  },
  {
   "cell_type": "code",
   "execution_count": 5,
   "id": "ad591fd0",
   "metadata": {},
   "outputs": [
    {
     "name": "stdout",
     "output_type": "stream",
     "text": [
      "<class 'pandas.core.frame.DataFrame'>\n",
      "RangeIndex: 11060 entries, 0 to 11059\n",
      "Data columns (total 5 columns):\n",
      " #   Column         Non-Null Count  Dtype \n",
      "---  ------         --------------  ----- \n",
      " 0   player_api_id  11060 non-null  object\n",
      " 1   player_name    11060 non-null  object\n",
      " 2   birthday       11060 non-null  object\n",
      " 3   height         11060 non-null  object\n",
      " 4   weight         11060 non-null  object\n",
      "dtypes: object(5)\n",
      "memory usage: 432.2+ KB\n"
     ]
    }
   ],
   "source": [
    "# 方法2：使用Lambda表达式（修正语法错误）\n",
    "df.apply(lambda col: col.astype('O')).info()"
   ]
  },
  {
   "cell_type": "code",
   "execution_count": null,
   "id": "b876a0cb",
   "metadata": {},
   "outputs": [],
   "source": []
  }
 ],
 "metadata": {
  "kernelspec": {
   "display_name": "ai",
   "language": "python",
   "name": "python3"
  },
  "language_info": {
   "codemirror_mode": {
    "name": "ipython",
    "version": 3
   },
   "file_extension": ".py",
   "mimetype": "text/x-python",
   "name": "python",
   "nbconvert_exporter": "python",
   "pygments_lexer": "ipython3",
   "version": "3.11.7"
  }
 },
 "nbformat": 4,
 "nbformat_minor": 5
}
