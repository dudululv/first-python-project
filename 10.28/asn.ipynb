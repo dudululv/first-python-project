{
 "cells": [
  {
   "cell_type": "code",
   "execution_count": 2,
   "id": "3d465f44",
   "metadata": {},
   "outputs": [
    {
     "name": "stdout",
     "output_type": "stream",
     "text": [
      "=== 均值统计 ===\n",
      "buildUpPlaySpeed 均值: 52.46\n",
      "buildUpPlayDribbling 均值: 48.61\n",
      "\n"
     ]
    }
   ],
   "source": [
    "import pandas as pd\n",
    "import numpy as np\n",
    "\n",
    "# 读取数据\n",
    "df = pd.read_csv('../data/team_attributes.csv')  \n",
    "\n",
    "# 1. 实现buildUpPlaySpeed、buildUpPlayDribbling数据列的均值统计\n",
    "mean_speed = df['buildUpPlaySpeed'].mean()\n",
    "mean_dribbling = df['buildUpPlayDribbling'].mean()\n",
    "\n",
    "print(\"=== 均值统计 ===\")\n",
    "print(f\"buildUpPlaySpeed 均值: {mean_speed:.2f}\")\n",
    "print(f\"buildUpPlayDribbling 均值: {mean_dribbling:.2f}\")\n",
    "print()"
   ]
  },
  {
   "cell_type": "code",
   "execution_count": null,
   "id": "6d66a170",
   "metadata": {},
   "outputs": [],
   "source": [
    "# 2. 显示buildUpPlaySpeed与buildUpPlayDribbling、buildUpPlayPassing的相关度\n",
    "corr_dribbling = df['buildUpPlaySpeed'].corr(df['buildUpPlayDribbling'])\n",
    "corr_passing = df['buildUpPlaySpeed'].corr(df['buildUpPlayPassing'])\n",
    "\n",
    "print(\"=== 相关度分析 ===\")\n",
    "print(f\"buildUpPlaySpeed 与 buildUpPlayDribbling 的相关度: {corr_dribbling:.4f}\")\n",
    "print(f\"buildUpPlaySpeed 与 buildUpPlayPassing 的相关度: {corr_passing:.4f}\")\n",
    "print()"
   ]
  },
  {
   "cell_type": "code",
   "execution_count": null,
   "id": "70edc9b3",
   "metadata": {},
   "outputs": [],
   "source": [
    "# 3. 列出buildUpPlaySpeed低于平均分的数据并按照从低到高排序\n",
    "below_avg_speed = df[df['buildUpPlaySpeed'] < mean_speed]\n",
    "below_avg_speed_sorted = below_avg_speed.sort_values('buildUpPlaySpeed')\n",
    "\n",
    "print(\"=== buildUpPlaySpeed低于平均分的数据（从低到高排序）===\")\n",
    "print(below_avg_speed_sorted)\n",
    "print()"
   ]
  },
  {
   "cell_type": "code",
   "execution_count": null,
   "id": "d3e33fea",
   "metadata": {},
   "outputs": [],
   "source": [
    "# 4. 统计buildUpPlaySpeedClass的唯一值数量与唯一值元素\n",
    "unique_count = df['buildUpPlaySpeedClass'].nunique()\n",
    "unique_values = df['buildUpPlaySpeedClass'].unique()\n",
    "\n",
    "print(\"=== buildUpPlaySpeedClass 唯一值统计 ===\")\n",
    "print(f\"唯一值数量: {unique_count}\")\n",
    "print(f\"唯一值元素: {list(unique_values)}\")\n",
    "print()"
   ]
  },
  {
   "cell_type": "code",
   "execution_count": null,
   "id": "fef9db96",
   "metadata": {},
   "outputs": [],
   "source": [
    "# 5. 统计buildUpPlaySpeedClass的唯一值分布\n",
    "value_counts = df['buildUpPlaySpeedClass'].value_counts()\n",
    "\n",
    "print(\"=== buildUpPlaySpeedClass 唯一值分布 ===\")\n",
    "print(value_counts)\n",
    "print()"
   ]
  },
  {
   "cell_type": "code",
   "execution_count": null,
   "id": "a9f1a5f4",
   "metadata": {},
   "outputs": [],
   "source": [
    "# 6. 只显示team_attributes表中buildUpPlaySpeedClass为Fast的球队名称\n",
    "fast_teams = df[df['buildUpPlaySpeedClass'] == 'Fast']\n",
    "\n",
    "print(\"=== buildUpPlaySpeedClass为Fast的球队名称 ===\")\n",
    "print(fast_teams)"
   ]
  },
  {
   "cell_type": "code",
   "execution_count": 4,
   "id": "8e25551d",
   "metadata": {},
   "outputs": [
    {
     "name": "stdout",
     "output_type": "stream",
     "text": [
      "=== 数据加载成功 ===\n"
     ]
    }
   ],
   "source": [
    "# 1. 加载比赛数据集\n",
    "df = pd.read_csv('../data/match.csv')    \n",
    "print(\"=== 数据加载成功 ===\")\n"
   ]
  },
  {
   "cell_type": "code",
   "execution_count": 5,
   "id": "77dbb7bb",
   "metadata": {},
   "outputs": [
    {
     "name": "stdout",
     "output_type": "stream",
     "text": [
      "=== 数据基本信息 ===\n",
      "数据集形状: (21361, 9)\n",
      "列名: ['league_id', 'season', 'stage', 'match_api_id', 'date', 'home_team_api_id', 'away_team_api_id', 'home_team_goal', 'away_team_goal']\n",
      "\n",
      "前5行数据:\n",
      "   league_id     season  stage  match_api_id            date  \\\n",
      "0          1  2008/2009     24        493017  2009/2/27 0:00   \n",
      "1          1  2008/2009     25        493025   2009/3/8 0:00   \n",
      "2          1  2008/2009     25        493027   2009/3/7 0:00   \n",
      "3          1  2008/2009     26        493034  2009/3/13 0:00   \n",
      "4          1  2008/2009     26        493040  2009/3/14 0:00   \n",
      "\n",
      "   home_team_api_id  away_team_api_id  home_team_goal  away_team_goal  \n",
      "0              8203              9987               2               1  \n",
      "1              9984              8342               1               3  \n",
      "2              8635             10000               2               0  \n",
      "3              8203              8635               2               1  \n",
      "4             10000              9999               0               0  \n",
      "\n",
      "数据信息:\n",
      "<class 'pandas.core.frame.DataFrame'>\n",
      "RangeIndex: 21361 entries, 0 to 21360\n",
      "Data columns (total 9 columns):\n",
      " #   Column            Non-Null Count  Dtype \n",
      "---  ------            --------------  ----- \n",
      " 0   league_id         21361 non-null  int64 \n",
      " 1   season            21361 non-null  object\n",
      " 2   stage             21361 non-null  int64 \n",
      " 3   match_api_id      21361 non-null  int64 \n",
      " 4   date              21361 non-null  object\n",
      " 5   home_team_api_id  21361 non-null  int64 \n",
      " 6   away_team_api_id  21361 non-null  int64 \n",
      " 7   home_team_goal    21361 non-null  int64 \n",
      " 8   away_team_goal    21361 non-null  int64 \n",
      "dtypes: int64(7), object(2)\n",
      "memory usage: 1.5+ MB\n",
      "None\n"
     ]
    }
   ],
   "source": [
    "# 2. 实现数据基本信息检视\n",
    "print(\"=== 数据基本信息 ===\")\n",
    "print(f\"数据集形状: {df.shape}\")  # 行数和列数\n",
    "print(f\"列名: {df.columns.tolist()}\")\n",
    "print(\"\\n前5行数据:\")\n",
    "print(df.head())\n",
    "print(\"\\n数据信息:\")\n",
    "print(df.info())\n"
   ]
  },
  {
   "cell_type": "code",
   "execution_count": 6,
   "id": "9c72d462",
   "metadata": {},
   "outputs": [
    {
     "name": "stdout",
     "output_type": "stream",
     "text": [
      "\n",
      "=== 空值检测 ===\n",
      "各列空值数量:\n",
      "league_id           0\n",
      "season              0\n",
      "stage               0\n",
      "match_api_id        0\n",
      "date                0\n",
      "home_team_api_id    0\n",
      "away_team_api_id    0\n",
      "home_team_goal      0\n",
      "away_team_goal      0\n",
      "dtype: int64\n",
      "\n",
      "总空值数量: 0\n",
      "\n",
      "数据集中没有空值\n"
     ]
    }
   ],
   "source": [
    "# 3. 通过isnull()判断各列是否存在空值\n",
    "print(\"\\n=== 空值检测 ===\")\n",
    "null_counts = df.isnull().sum()\n",
    "print(\"各列空值数量:\")\n",
    "print(null_counts)\n",
    "print(f\"\\n总空值数量: {df.isnull().sum().sum()}\")\n",
    "\n",
    "# 如果有空值的列，显示具体信息\n",
    "if null_counts.any():\n",
    "    print(\"\\n包含空值的列:\")\n",
    "    for col, count in null_counts[null_counts > 0].items():\n",
    "        print(f\"  {col}: {count} 个空值 ({count/len(df)*100:.2f}%)\")\n",
    "else:\n",
    "    print(\"\\n数据集中没有空值\")\n",
    "\n"
   ]
  },
  {
   "cell_type": "code",
   "execution_count": 7,
   "id": "fd6f9501",
   "metadata": {},
   "outputs": [
    {
     "name": "stdout",
     "output_type": "stream",
     "text": [
      "\n",
      "=== 删除缺失值 ===\n",
      "原始数据形状: (21361, 9)\n",
      "删除空值后形状: (21361, 9)\n",
      "删除了 0 行数据\n"
     ]
    }
   ],
   "source": [
    "# 4. 以默认方式删除数据集的缺失值\n",
    "print(\"\\n=== 删除缺失值 ===\")\n",
    "original_shape = df.shape\n",
    "df_cleaned = df.dropna()  # 默认删除包含任何空值的行\n",
    "new_shape = df_cleaned.shape\n",
    "\n",
    "print(f\"原始数据形状: {original_shape}\")\n",
    "print(f\"删除空值后形状: {new_shape}\")\n",
    "print(f\"删除了 {original_shape[0] - new_shape[0]} 行数据\")\n",
    "\n"
   ]
  },
  {
   "cell_type": "code",
   "execution_count": 8,
   "id": "edd96bec",
   "metadata": {},
   "outputs": [
    {
     "name": "stdout",
     "output_type": "stream",
     "text": [
      "\n",
      "=== 数据描述信息 ===\n",
      "数值型列的描述统计:\n",
      "          league_id         stage  match_api_id  home_team_api_id  \\\n",
      "count  21361.000000  21361.000000  2.136100e+04      21361.000000   \n",
      "mean   11226.894855     18.578859  1.251718e+06       9979.096765   \n",
      "std     7640.636869     10.469957  4.805970e+05      13151.299294   \n",
      "min        1.000000      1.000000  4.831300e+05       1601.000000   \n",
      "25%     4769.000000     10.000000  8.401550e+05       8530.000000   \n",
      "50%    10257.000000     19.000000  1.227832e+06       9747.000000   \n",
      "75%    19694.000000     27.000000  1.712696e+06       9911.000000   \n",
      "max    24558.000000     38.000000  2.216671e+06     274581.000000   \n",
      "\n",
      "       away_team_api_id  home_team_goal  away_team_goal  \n",
      "count      21361.000000    21361.000000    21361.000000  \n",
      "mean       10049.537849        1.557465        1.175226  \n",
      "std        13583.487751        1.303871        1.149807  \n",
      "min         1601.000000        0.000000        0.000000  \n",
      "25%         8530.000000        1.000000        0.000000  \n",
      "50%         9747.000000        1.000000        1.000000  \n",
      "75%         9911.000000        2.000000        2.000000  \n",
      "max       274581.000000       10.000000        9.000000  \n",
      "\n",
      "非数值型列的描述统计:\n",
      "           season           date\n",
      "count       21361          21361\n",
      "unique          8           1571\n",
      "top     2015/2016  2015/4/4 0:00\n",
      "freq         3018             51\n"
     ]
    }
   ],
   "source": [
    "# 5. 显示数据的描述信息\n",
    "print(\"\\n=== 数据描述信息 ===\")\n",
    "print(\"数值型列的描述统计:\")\n",
    "print(df_cleaned.describe())\n",
    "\n",
    "print(\"\\n非数值型列的描述统计:\")\n",
    "print(df_cleaned.describe(include=['object']))\n",
    "\n"
   ]
  },
  {
   "cell_type": "code",
   "execution_count": 11,
   "id": "a417b140",
   "metadata": {},
   "outputs": [
    {
     "name": "stdout",
     "output_type": "stream",
     "text": [
      "\n",
      "=== 进球数异常值检测 ===\n",
      "使用 'home_team_goal' 作为主队进球数列\n",
      "使用 'away_team_goal' 作为客队进球数列\n",
      "\n",
      "主队进球数分布:\n",
      "home_team_goal\n",
      "0     4800\n",
      "1     6867\n",
      "2     5228\n",
      "3     2730\n",
      "4     1173\n",
      "5      381\n",
      "6      137\n",
      "7       31\n",
      "8        8\n",
      "9        4\n",
      "10       2\n",
      "Name: count, dtype: int64\n",
      "\n",
      "客队进球数分布:\n",
      "away_team_goal\n",
      "0    7047\n",
      "1    7385\n",
      "2    4270\n",
      "3    1800\n",
      "4     609\n",
      "5     179\n",
      "6      56\n",
      "7       9\n",
      "8       5\n",
      "9       1\n",
      "Name: count, dtype: int64\n",
      "\n",
      "主队进球异常值 (>15): 0 个\n",
      "\n",
      "客队进球异常值 (>15): 0 个\n",
      "\n",
      "=== 过滤异常数据 ===\n",
      "过滤前数据量: 21361\n",
      "过滤后数据量: 21361\n",
      "过滤掉 0 行异常数据\n"
     ]
    }
   ],
   "source": [
    "# 6. 使用value_counts()检测主队进球和客队进球的异常值\n",
    "# 首先查找可能包含进球数的列名\n",
    "home_goal_cols = [col for col in df_cleaned.columns if 'home' in col.lower() and 'goal' in col.lower()]\n",
    "away_goal_cols = [col for col in df_cleaned.columns if 'away' in col.lower() and 'goal' in col.lower()]\n",
    "\n",
    "# 如果没有找到标准列名，尝试其他常见列名\n",
    "if not home_goal_cols:\n",
    "    home_goal_cols = [col for col in df_cleaned.columns if 'hgoal' in col.lower() or 'fthg' in col.lower()]\n",
    "if not away_goal_cols:\n",
    "    away_goal_cols = [col for col in df_cleaned.columns if 'agoal' in col.lower() or 'ftag' in col.lower()]\n",
    "\n",
    "if home_goal_cols and away_goal_cols:\n",
    "    home_goals_col = home_goal_cols[0]\n",
    "    away_goals_col = away_goal_cols[0]\n",
    "    \n",
    "    print(f\"\\n=== 进球数异常值检测 ===\")\n",
    "    print(f\"使用 '{home_goals_col}' 作为主队进球数列\")\n",
    "    print(f\"使用 '{away_goals_col}' 作为客队进球数列\")\n",
    "    \n",
    "    print(f\"\\n主队进球数分布:\")\n",
    "    home_goals_counts = df_cleaned[home_goals_col].value_counts().sort_index()\n",
    "    print(home_goals_counts)\n",
    "    \n",
    "    print(f\"\\n客队进球数分布:\")\n",
    "    away_goals_counts = df_cleaned[away_goals_col].value_counts().sort_index()\n",
    "    print(away_goals_counts)\n",
    "    \n",
    "    # 检测异常值 - 通常足球比赛进球数不会太多\n",
    "    # 假设进球数超过15为异常值\n",
    "    home_goals_outliers = df_cleaned[df_cleaned[home_goals_col] > 15]\n",
    "    away_goals_outliers = df_cleaned[df_cleaned[away_goals_col] > 15]\n",
    "    \n",
    "    print(f\"\\n主队进球异常值 (>15): {len(home_goals_outliers)} 个\")\n",
    "    if len(home_goals_outliers) > 0:\n",
    "        print(home_goals_outliers[[home_goals_col]])\n",
    "    \n",
    "    print(f\"\\n客队进球异常值 (>15): {len(away_goals_outliers)} 个\")\n",
    "    if len(away_goals_outliers) > 0:\n",
    "        print(away_goals_outliers[[away_goals_col]])\n",
    "      # 7. 过滤异常数据\n",
    "    print(\"\\n=== 过滤异常数据 ===\")\n",
    "    before_filter = len(df_cleaned)\n",
    "    df_filtered = df_cleaned[(df_cleaned[home_goals_col] <= 15) & (df_cleaned[away_goals_col] <= 15)]\n",
    "    after_filter = len(df_filtered)\n",
    "    \n",
    "    print(f\"过滤前数据量: {before_filter}\")\n",
    "    print(f\"过滤后数据量: {after_filter}\")\n",
    "    print(f\"过滤掉 {before_filter - after_filter} 行异常数据\")\n",
    "    \n",
    "else:\n",
    "    print(\"\\n=== 警告: 未找到明确的进球数列 ===\")\n",
    "    print(\"请手动指定进球数列名\")\n",
    "    print(\"可用列名:\", df_cleaned.columns.tolist())\n",
    "    df_filtered = df_cleaned\n",
    "\n"
   ]
  },
  {
   "cell_type": "code",
   "execution_count": 12,
   "id": "d90d5fdc",
   "metadata": {},
   "outputs": [
    {
     "name": "stdout",
     "output_type": "stream",
     "text": [
      "\n",
      "=== 重复数据检测 ===\n",
      "重复数据数量: 0\n",
      "数据集中没有重复数据\n",
      "\n",
      "=== 数据处理总结 ===\n",
      "原始数据形状: (21361, 9)\n",
      "最终数据形状: (21361, 9)\n",
      "总处理记录数: 0\n",
      "\n",
      "最终数据的前5行:\n",
      "   league_id     season  stage  match_api_id            date  \\\n",
      "0          1  2008/2009     24        493017  2009/2/27 0:00   \n",
      "1          1  2008/2009     25        493025   2009/3/8 0:00   \n",
      "2          1  2008/2009     25        493027   2009/3/7 0:00   \n",
      "3          1  2008/2009     26        493034  2009/3/13 0:00   \n",
      "4          1  2008/2009     26        493040  2009/3/14 0:00   \n",
      "\n",
      "   home_team_api_id  away_team_api_id  home_team_goal  away_team_goal  \n",
      "0              8203              9987               2               1  \n",
      "1              9984              8342               1               3  \n",
      "2              8635             10000               2               0  \n",
      "3              8203              8635               2               1  \n",
      "4             10000              9999               0               0  \n"
     ]
    }
   ],
   "source": [
    "# 8. 判断重复数据（以所有字段均相同为判断重复的标准）\n",
    "print(\"\\n=== 重复数据检测 ===\")\n",
    "duplicate_count = df_filtered.duplicated().sum()\n",
    "print(f\"重复数据数量: {duplicate_count}\")\n",
    "\n",
    "if duplicate_count > 0:\n",
    "    print(\"\\n重复的数据行:\")\n",
    "    duplicates = df_filtered[df_filtered.duplicated(keep=False)]  # 显示所有重复行\n",
    "    print(duplicates)\n",
    "    \n",
    "    # 删除重复数据\n",
    "    df_final = df_filtered.drop_duplicates()\n",
    "    print(f\"\\n删除重复数据后数据形状: {df_final.shape}\")\n",
    "else:\n",
    "    df_final = df_filtered\n",
    "    print(\"数据集中没有重复数据\")\n",
    "\n",
    "# 最终数据总结\n",
    "print(\"\\n=== 数据处理总结 ===\")\n",
    "print(f\"原始数据形状: {original_shape}\")\n",
    "print(f\"最终数据形状: {df_final.shape}\")\n",
    "print(f\"总处理记录数: {original_shape[0] - df_final.shape[0]}\")\n",
    "print(\"\\n最终数据的前5行:\")\n",
    "print(df_final.head())\n",
    "  "
   ]
  }
 ],
 "metadata": {
  "kernelspec": {
   "display_name": "ai",
   "language": "python",
   "name": "python3"
  },
  "language_info": {
   "codemirror_mode": {
    "name": "ipython",
    "version": 3
   },
   "file_extension": ".py",
   "mimetype": "text/x-python",
   "name": "python",
   "nbconvert_exporter": "python",
   "pygments_lexer": "ipython3",
   "version": "3.11.7"
  }
 },
 "nbformat": 4,
 "nbformat_minor": 5
}
