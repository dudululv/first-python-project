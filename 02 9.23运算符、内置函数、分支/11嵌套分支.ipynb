{
 "cells": [
  {
   "cell_type": "code",
   "execution_count": 3,
   "id": "a00327bc",
   "metadata": {},
   "outputs": [
    {
     "name": "stdout",
     "output_type": "stream",
     "text": [
      "1 年 1 月 有31天\n"
     ]
    }
   ],
   "source": [
    "y=int(input('请输入年份：'))\n",
    "m=int(input('请输入月份：'))\n",
    "if m==2:\n",
    "    if y%4==0 and y%100!=0 or y%400==0:\n",
    "        print(y,'年',m,'月','有29天')\n",
    "    else:\n",
    "        print(y,'年',m,'月','有28天')\n",
    "elif m==4 or m==6 or m==9 or m==11:\n",
    "    print(y,'年',m,'月','有30天')\n",
    "elif 1<=m<=12:\n",
    "    print(y,'年',m,'月','有31天')\n",
    "else:\n",
    "    print('月份请输入1-12')"
   ]
  },
  {
   "cell_type": "code",
   "execution_count": 6,
   "id": "623cd302",
   "metadata": {},
   "outputs": [
    {
     "data": {
      "text/plain": [
       "'公元2024年2月有29天'"
      ]
     },
     "execution_count": 6,
     "metadata": {},
     "output_type": "execute_result"
    }
   ],
   "source": [
    "def get_days(y, m):\n",
    "    \"\"\"\n",
    "    计算指定年份和月份的天数\n",
    "    参数：\n",
    "        y: 年份（公元前年份用负数表示，如公元前1年输入 -1）\n",
    "        m: 月份（1~12）\n",
    "    返回：\n",
    "        天数（int），或者错误提示（str）\n",
    "    \"\"\"\n",
    "    if not (1 <= m <= 12):\n",
    "        return \"月份请输入1-12\"\n",
    "\n",
    "    # 闰年判断（适用于公元前与公元后）\n",
    "    is_leap = (y % 4 == 0 and y % 100 != 0) or (y % 400 == 0)\n",
    "\n",
    "    # 各月份天数判断\n",
    "    if m == 2:\n",
    "        days = 29 if is_leap else 28\n",
    "    elif m in [4, 6, 9, 11]:\n",
    "        days = 30\n",
    "    else:\n",
    "        days = 31\n",
    "\n",
    "    # 输出格式\n",
    "    if y > 0:\n",
    "        return f\"公元{y}年{m}月有{days}天\"\n",
    "    else:\n",
    "        return f\"公元前{-y}年{m}月有{days}天\"\n",
    "\n",
    "get_days(2024, 2)\n",
    "\n"
   ]
  },
  {
   "cell_type": "code",
   "execution_count": 8,
   "id": "edbf73dd",
   "metadata": {},
   "outputs": [
    {
     "name": "stdout",
     "output_type": "stream",
     "text": [
      "您的消费金额为： 2\n"
     ]
    }
   ],
   "source": [
    "# 输入\n",
    "money = int(input(\"请输入消费金额：\"))\n",
    "vip = input(\"请输入您的会员等级：\")\n",
    "\n",
    "# 判断会员等级\n",
    "if vip == \"普通会员\":\n",
    "    if money >= 1000:\n",
    "        print(\"您的消费金额为：\", money * 0.9)\n",
    "    else:\n",
    "        print(\"您的消费金额为：\", money)\n",
    "elif vip == \"高级会员\":\n",
    "    if money >= 500:\n",
    "        print(\"您的消费金额为：\", money * 0.8)\n",
    "    else:\n",
    "        print(\"您的消费金额为：\", money)\n",
    "elif vip == \"至尊会员\":\n",
    "    print(\"您的消费金额为：\", money * 0.7)\n",
    "else:\n",
    "    print(\"您的消费金额为：\", money)\n"
   ]
  },
  {
   "cell_type": "code",
   "execution_count": 9,
   "id": "4870f1e0",
   "metadata": {},
   "outputs": [
    {
     "name": "stdout",
     "output_type": "stream",
     "text": [
      "您的消费金额为： 1.0\n"
     ]
    }
   ],
   "source": [
    "def calculate_payment(money, vip_level):\n",
    "    \"\"\"\n",
    "    计算消费金额\n",
    "    参数：\n",
    "        money: 消费金额（整数或浮点数）\n",
    "        vip_level: 会员等级，1=普通会员, 2=高级会员, 3=至尊会员\n",
    "    返回：\n",
    "        实际应付金额\n",
    "    \"\"\"\n",
    "    # 会员折扣规则\n",
    "    # 数字: (消费门槛, 折扣)\n",
    "    vip_rules = {\n",
    "        1: (1000, 0.9),   # 普通会员：满1000打9折\n",
    "        2: (500, 0.8),    # 高级会员：满500打8折\n",
    "        3: (0, 0.7),      # 至尊会员：无门槛打7折\n",
    "    }\n",
    "\n",
    "    if vip_level in vip_rules:\n",
    "        threshold, discount = vip_rules[vip_level]\n",
    "        if money >= threshold:\n",
    "            return money * discount\n",
    "        else:\n",
    "            return money\n",
    "    else:\n",
    "        # 非法会员等级\n",
    "        return money\n",
    "\n",
    "# 输入\n",
    "money = float(input(\"请输入消费金额：\"))\n",
    "vip_level = int(input(\"请输入您的会员等级（1=普通会员, 2=高级会员, 3=至尊会员）：\"))\n",
    "\n",
    "# 计算\n",
    "actual_payment = calculate_payment(money, vip_level)\n",
    "\n",
    "# 输出\n",
    "print(\"您的消费金额为：\", actual_payment)\n"
   ]
  }
 ],
 "metadata": {
  "kernelspec": {
   "display_name": "ai",
   "language": "python",
   "name": "python3"
  },
  "language_info": {
   "codemirror_mode": {
    "name": "ipython",
    "version": 3
   },
   "file_extension": ".py",
   "mimetype": "text/x-python",
   "name": "python",
   "nbconvert_exporter": "python",
   "pygments_lexer": "ipython3",
   "version": "3.10.16"
  }
 },
 "nbformat": 4,
 "nbformat_minor": 5
}
