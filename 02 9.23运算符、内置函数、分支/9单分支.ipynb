{
 "cells": [
  {
   "cell_type": "code",
   "execution_count": 4,
   "id": "d6466134",
   "metadata": {},
   "outputs": [
    {
     "name": "stdout",
     "output_type": "stream",
     "text": [
      "2 是偶数\n"
     ]
    }
   ],
   "source": [
    "#判断偶数\n",
    "a=int(input(\"请输入一个整数：\"))\n",
    "if a%2==0:\n",
    "    print(a,\"是偶数\")\n"
   ]
  },
  {
   "cell_type": "code",
   "execution_count": 11,
   "id": "1f8ed519",
   "metadata": {},
   "outputs": [
    {
     "name": "stdout",
     "output_type": "stream",
     "text": [
      "zero\n"
     ]
    }
   ],
   "source": [
    "#判断正负0\n",
    "a=float(input('put a number'))\n",
    "if a==0:\n",
    "    print('zero')\n",
    "if a>0:\n",
    "    print('positive')\n",
    "if a<0:\n",
    "    print('negative')\n"
   ]
  },
  {
   "cell_type": "code",
   "execution_count": null,
   "id": "753129c8",
   "metadata": {},
   "outputs": [],
   "source": [
    "#判断闰年\n",
    "a=int(input('enter a year'))\n",
    "if a%4==0 and a%100!=0 or a%400==0:\n",
    "    print('leap year')\n",
    "else:\n",
    "    print('common year')"
   ]
  }
 ],
 "metadata": {
  "kernelspec": {
   "display_name": "ai",
   "language": "python",
   "name": "python3"
  },
  "language_info": {
   "codemirror_mode": {
    "name": "ipython",
    "version": 3
   },
   "file_extension": ".py",
   "mimetype": "text/x-python",
   "name": "python",
   "nbconvert_exporter": "python",
   "pygments_lexer": "ipython3",
   "version": "3.10.16"
  }
 },
 "nbformat": 4,
 "nbformat_minor": 5
}
