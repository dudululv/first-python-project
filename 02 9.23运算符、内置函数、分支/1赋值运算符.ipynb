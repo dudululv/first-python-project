{
 "cells": [
  {
   "cell_type": "code",
   "execution_count": null,
   "id": "355a2ed8",
   "metadata": {},
   "outputs": [],
   "source": [
    "x=10    #integer\n",
    "print(x,id(x),type(x))  \n",
    "j,k,l=1,2,3  #特别注意，python里不允许一个语句中出现两个赋值，所以这里不能写成j=1,k=2,l=3的形式，会报错\n",
    "print(j,k,l)  #打包packing和解包UNpacking的本质是有序序列，所以可以用tuple和list，但是不能用set\n",
    "j=k=l=1  #链式赋值chained assignment\n",
    "print(j,k,l)"
   ]
  }
 ],
 "metadata": {
  "language_info": {
   "name": "python"
  }
 },
 "nbformat": 4,
 "nbformat_minor": 5
}
