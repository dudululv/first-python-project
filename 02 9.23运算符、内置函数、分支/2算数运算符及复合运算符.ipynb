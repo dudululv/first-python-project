{
 "cells": [
  {
   "cell_type": "code",
   "execution_count": 4,
   "id": "a0c78cd8",
   "metadata": {},
   "outputs": [
    {
     "name": "stdout",
     "output_type": "stream",
     "text": [
      "1 2 3 4 "
     ]
    }
   ],
   "source": [
    "n='1234'\n",
    "for i in n:\n",
    "    print(int(i),end=' ')"
   ]
  },
  {
   "cell_type": "code",
   "execution_count": null,
   "id": "2e53fda5",
   "metadata": {},
   "outputs": [
    {
     "name": "stdout",
     "output_type": "stream",
     "text": [
      "1 2 3 4\n"
     ]
    }
   ],
   "source": [
    "n=1234\n",
    "units=n%10\n",
    "tens=n//10%10\n",
    "hundreds=n//100%10\n",
    "thousands=n//1000\n",
    "print(thousands,hundreds,tens,units)\n",
    "#也可以写成\n",
    "#    units=n//1%10\n",
    "#     tens=n//10%10\n",
    "# hundreds=n//100%10\n",
    "#thousands=n//1000%10\n",
    "#这样写规律更为明显\n"
   ]
  }
 ],
 "metadata": {
  "kernelspec": {
   "display_name": "ai",
   "language": "python",
   "name": "python3"
  },
  "language_info": {
   "codemirror_mode": {
    "name": "ipython",
    "version": 3
   },
   "file_extension": ".py",
   "mimetype": "text/x-python",
   "name": "python",
   "nbconvert_exporter": "python",
   "pygments_lexer": "ipython3",
   "version": "3.10.16"
  }
 },
 "nbformat": 4,
 "nbformat_minor": 5
}
