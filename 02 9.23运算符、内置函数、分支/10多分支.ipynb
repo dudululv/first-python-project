{
 "cells": [
  {
   "cell_type": "code",
   "execution_count": 1,
   "id": "27eefc1c",
   "metadata": {},
   "outputs": [
    {
     "name": "stdout",
     "output_type": "stream",
     "text": [
      "november\n"
     ]
    }
   ],
   "source": [
    "#根据输入月份判断这几月有哪些节日\n",
    "month=int(input('enter a month'))\n",
    "if month==1:\n",
    "    print('new year')\n",
    "if month==2:\n",
    "    print('februrary')\n",
    "if month==3:\n",
    "    print('march')\n",
    "if month==4:\n",
    "    print('april')\n",
    "if month==5:\n",
    "    print('may')\n",
    "if month==6:\n",
    "    print('june')\n",
    "if month==7:\n",
    "    print('july')\n",
    "if month==8:\n",
    "    print('august')\n",
    "if month==9:\n",
    "    print('september')\n",
    "if month==10:\n",
    "    print('october')\n",
    "if month==11:\n",
    "    print('november')\n",
    "if month==12:\n",
    "    print('december')"
   ]
  },
  {
   "cell_type": "code",
   "execution_count": null,
   "id": "81781558",
   "metadata": {},
   "outputs": [
    {
     "ename": "IndentationError",
     "evalue": "unexpected indent (399199527.py, line 9)",
     "output_type": "error",
     "traceback": [
      "\u001b[1;36m  Cell \u001b[1;32mIn[8], line 9\u001b[1;36m\u001b[0m\n\u001b[1;33m    print(\"1在a中\")\u001b[0m\n\u001b[1;37m    ^\u001b[0m\n\u001b[1;31mIndentationError\u001b[0m\u001b[1;31m:\u001b[0m unexpected indent\n"
     ]
    }
   ],
   "source": [
    "a=[1]\n",
    "if 1 in a:\n",
    " print(\"1在a中\")\n",
    "else:\n",
    " print(\"2不在a中\")#说明缩进其实只要一个空格就好\n",
    " #同一个区域中，缩进需要保持一致\n",
    "if 2 not in a:\n",
    "    print(\"2不在a中\")\n",
    "     print(\"1在a中\")#说明缩进不一致时，会报错IndentationError: unexpected indent"
   ]
  }
 ],
 "metadata": {
  "kernelspec": {
   "display_name": "SF150",
   "language": "python",
   "name": "python3"
  },
  "language_info": {
   "codemirror_mode": {
    "name": "ipython",
    "version": 3
   },
   "file_extension": ".py",
   "mimetype": "text/x-python",
   "name": "python",
   "nbconvert_exporter": "python",
   "pygments_lexer": "ipython3",
   "version": "3.10.16"
  }
 },
 "nbformat": 4,
 "nbformat_minor": 5
}
