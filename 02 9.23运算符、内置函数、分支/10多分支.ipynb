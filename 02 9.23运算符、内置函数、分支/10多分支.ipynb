{
 "cells": [
  {
   "cell_type": "code",
   "execution_count": 1,
   "id": "27eefc1c",
   "metadata": {},
   "outputs": [
    {
     "name": "stdout",
     "output_type": "stream",
     "text": [
      "november\n"
     ]
    }
   ],
   "source": [
    "#根据输入月份判断这几月有哪些节日\n",
    "month=int(input('enter a month'))\n",
    "if month==1:\n",
    "    print('new year')\n",
    "if month==2:\n",
    "    print('februrary')\n",
    "if month==3:\n",
    "    print('march')\n",
    "if month==4:\n",
    "    print('april')\n",
    "if month==5:\n",
    "    print('may')\n",
    "if month==6:\n",
    "    print('june')\n",
    "if month==7:\n",
    "    print('july')\n",
    "if month==8:\n",
    "    print('august')\n",
    "if month==9:\n",
    "    print('september')\n",
    "if month==10:\n",
    "    print('october')\n",
    "if month==11:\n",
    "    print('november')\n",
    "if month==12:\n",
    "    print('december')"
   ]
  }
 ],
 "metadata": {
  "kernelspec": {
   "display_name": "ai",
   "language": "python",
   "name": "python3"
  },
  "language_info": {
   "codemirror_mode": {
    "name": "ipython",
    "version": 3
   },
   "file_extension": ".py",
   "mimetype": "text/x-python",
   "name": "python",
   "nbconvert_exporter": "python",
   "pygments_lexer": "ipython3",
   "version": "3.10.16"
  }
 },
 "nbformat": 4,
 "nbformat_minor": 5
}
