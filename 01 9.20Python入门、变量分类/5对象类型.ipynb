{
 "cells": [
  {
   "cell_type": "code",
   "execution_count": null,
   "id": "927be18c",
   "metadata": {},
   "outputs": [],
   "source": [
    "# 变量(variable) 本质上就是一个名字（name），它存储在某个命名空间(namespace)里，用来指向一个对象(object)。\n",
    "# 换句话说：\n",
    "# 对象 (Object) = 真实存在的数据（例如 123、\"hello\"、一个列表 [1,2,3]）。\n",
    "# 变量 (Variable) = 对象的名字（标签），它并不存放数据本身，而是存放“对对象的引用”。"
   ]
  },
  {
   "cell_type": "code",
   "execution_count": null,
   "id": "e861793e",
   "metadata": {},
   "outputs": [],
   "source": [
    "# 变量的类型\n",
    "# 严格来说，Python 的变量本身是没有类型的，它只是一个名字。\n",
    "# 有类型的是 变量所指向的对象。\n",
    "\n",
    "# 例如：\n",
    "# a = 123       # a 指向一个 int 对象\n",
    "# a = \"hello\"   # a 改指向一个 str 对象\n",
    "\n",
    "# 这里：\n",
    "# a 这个变量没有固定的“类型”。\n",
    "# 第一次它指向 int 类型对象 123。\n",
    "# 第二次它又指向 str 类型对象 \"hello\"。\n",
    "# 所以我们在 Python 中说“变量的类型”，其实是指 变量当前所引用的对象的类型。\n",
    "\n",
    "# Python 内置常见类型：\n",
    "# 数字类型：int（整数）、float（浮点数）、complex（复数）\n",
    "# 布尔类型：bool（True / False）\n",
    "# 字符串：str\n",
    "# 容器类型：\n",
    "# list（列表，可变序列）\n",
    "# tuple（元组，不可变序列）\n",
    "# dict（字典，键值对）\n",
    "# set（集合）\n",
    "# frozenset（冻结集合，不可变）\n",
    "# 特殊类型：NoneType（只有一个对象 None）"
   ]
  },
  {
   "cell_type": "code",
   "execution_count": null,
   "id": "2b32c617",
   "metadata": {},
   "outputs": [],
   "source": [
    "# Variable Types\n",
    "# Strictly speaking, variables in Python do not have types themselves.\n",
    "# They are just names.\n",
    "# What has a type is the object that the variable refers to.\n",
    "\n",
    "# Example:\n",
    "# a = 123       # a refers to an int object\n",
    "# a = \"hello\"   # a now refers to a str object\n",
    "\n",
    "# Here:\n",
    "# The variable a has no fixed type.\n",
    "# At first, it points to an int object 123.\n",
    "# Later, it points to a str object \"hello\".\n",
    "# So when we talk about the “type of a variable” in Python, we actually mean the type of the object it currently refers to.\n",
    "\n",
    "# Common Built-in Types in Python:\n",
    "# Numeric types: int (integer), float (floating-point), complex (complex numbers)\n",
    "# Boolean type: bool (True / False)\n",
    "# String: str\n",
    "# Container types:\n",
    "# list (mutable sequence)\n",
    "# tuple (immutable sequence)\n",
    "# dict (dictionary, key-value pairs)\n",
    "# set (set)\n",
    "# frozenset (immutable set)\n",
    "# Special type: NoneType (only one object: None)"
   ]
  }
 ],
 "metadata": {
  "language_info": {
   "name": "python"
  }
 },
 "nbformat": 4,
 "nbformat_minor": 5
}
