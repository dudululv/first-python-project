{
 "cells": [
  {
   "cell_type": "code",
   "execution_count": 7,
   "id": "f262f4f6",
   "metadata": {},
   "outputs": [
    {
     "data": {
      "text/plain": [
       "'这是一个多行注释，其实只是一个字符串，但没有人用它'"
      ]
     },
     "execution_count": 7,
     "metadata": {},
     "output_type": "execute_result"
    },
    {
     "name": "stdout",
     "output_type": "stream",
     "text": [
      "Hello\n"
     ]
    }
   ],
   "source": [
    "# 真正的注释：# 开头。\n",
    "\n",
    "# 三引号：\n",
    "# 用在 print 或赋值时 → 是字符串。\n",
    "# 单独放着不用时 → 被当成“文档注释/闲置字符串”，不会影响程序。\n",
    "#eg:\n",
    "'''这是一个多行注释，其实只是一个字符串，但没有人用它'''\n",
    "print('Hello')"
   ]
  },
  {
   "cell_type": "code",
   "execution_count": null,
   "id": "52900cd0",
   "metadata": {},
   "outputs": [],
   "source": [
    "#我们观察到上面的代码块中，‘’‘这是一个多行注释，其实只是一个字符串，但没有人用它’‘’被打印出来了\n",
    "#这是由于在在 .py 文件里，闲置的三引号字符串不会有任何输出，看起来像注释。\n",
    "#但在 Notebook/交互式环境下，它会被显示出来，所以严格来说三引号不是注释，而是“未使用的字符串常量”。\n",
    "# 详细示例见今日的0.py文件"
   ]
  },
  {
   "cell_type": "code",
   "execution_count": null,
   "id": "83c703d1",
   "metadata": {},
   "outputs": [],
   "source": [
    "#所以，在ipynb文件中，我们应该尽量使用#来进行注释"
   ]
  }
 ],
 "metadata": {
  "kernelspec": {
   "display_name": "ai",
   "language": "python",
   "name": "python3"
  },
  "language_info": {
   "codemirror_mode": {
    "name": "ipython",
    "version": 3
   },
   "file_extension": ".py",
   "mimetype": "text/x-python",
   "name": "python",
   "nbconvert_exporter": "python",
   "pygments_lexer": "ipython3",
   "version": "3.10.16"
  }
 },
 "nbformat": 4,
 "nbformat_minor": 5
}
