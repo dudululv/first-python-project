{
 "cells": [
  {
   "cell_type": "markdown",
   "id": "31839d21",
   "metadata": {},
   "source": [
    "immutable object"
   ]
  },
  {
   "cell_type": "code",
   "execution_count": 1,
   "id": "3593b0c6",
   "metadata": {},
   "outputs": [
    {
     "name": "stdout",
     "output_type": "stream",
     "text": [
      "10 2199771283984 <class 'int'>\n",
      "1 2 3\n"
     ]
    }
   ],
   "source": [
    "x=10    #integer\n",
    "print(x,id(x),type(x))  \n",
    "j,k,l=1,2,3  #特别注意，python里不允许一个语句中出现两个赋值，所以这里不能写成j=1,k=2,l=3的形式，会报错\n",
    "print(j,k,l)"
   ]
  },
  {
   "cell_type": "code",
   "execution_count": 11,
   "id": "323c2c92",
   "metadata": {},
   "outputs": [
    {
     "name": "stdout",
     "output_type": "stream",
     "text": [
      "1966879070928 1966879071056\n",
      "False\n"
     ]
    }
   ],
   "source": [
    "x=12.1  #float\n",
    "y=12.1\n",
    "print(id(x),id(y))\n",
    "print(x is y)  #这行代码在py中，x和y引用的是同一个对象；但是在ipynb中，x和y引用的是不同的对象，对比详见今天的0.pyline15-22\n",
    "#Python 对一些 小的、常用的 immutable 对象（如小整数、短字符串、部分浮点数） 会做 缓存（interning）或常量折叠（constant folding）。\n",
    "#Jupyter Notebook（或 IPython）不像 .py 文件那样一次性编译整个文件。\n",
    "\n",
    "# 每个 代码单元（cell） 都是单独执行的代码块，\n",
    "# 即每次运行一个 cell，相当于执行一个新的代码片段。\n",
    "\n",
    "# 即使你在同一个 cell 写 m=12.1; n=12.1，\n",
    "# Jupyter 的编译流程和标准 Python 不完全一致——它不会做 aggressive constant folding。\n",
    "\n",
    "# 因此，在 Jupyter 环境下：\n",
    "\n",
    "# 每次创建 12.1 时，都会生成一个新的浮点对象。"
   ]
  },
  {
   "cell_type": "code",
   "execution_count": 9,
   "id": "859ce6df",
   "metadata": {},
   "outputs": [
    {
     "name": "stdout",
     "output_type": "stream",
     "text": [
      "True\n"
     ]
    }
   ],
   "source": [
    "a=12\n",
    "b=12\n",
    "print(a is b)"
   ]
  }
 ],
 "metadata": {
  "kernelspec": {
   "display_name": "ai",
   "language": "python",
   "name": "python3"
  },
  "language_info": {
   "codemirror_mode": {
    "name": "ipython",
    "version": 3
   },
   "file_extension": ".py",
   "mimetype": "text/x-python",
   "name": "python",
   "nbconvert_exporter": "python",
   "pygments_lexer": "ipython3",
   "version": "3.10.16"
  }
 },
 "nbformat": 4,
 "nbformat_minor": 5
}
