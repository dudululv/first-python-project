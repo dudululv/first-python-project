{
 "cells": [
  {
   "cell_type": "markdown",
   "id": "31839d21",
   "metadata": {},
   "source": [
    "immutable object"
   ]
  },
  {
   "cell_type": "code",
   "execution_count": 1,
   "id": "3593b0c6",
   "metadata": {},
   "outputs": [
    {
     "name": "stdout",
     "output_type": "stream",
     "text": [
      "10 2199771283984 <class 'int'>\n",
      "1 2 3\n"
     ]
    }
   ],
   "source": [
    "x=10    #integer\n",
    "print(x,id(x),type(x))  \n",
    "j,k,l=1,2,3  #特别注意，python里不允许一个语句中出现两个赋值，所以这里不能写成j=1,k=2,l=3的形式，会报错\n",
    "print(j,k,l)"
   ]
  },
  {
   "cell_type": "code",
   "execution_count": 9,
   "id": "323c2c92",
   "metadata": {},
   "outputs": [
    {
     "name": "stdout",
     "output_type": "stream",
     "text": [
      "2199850173584 2199854540336\n"
     ]
    }
   ],
   "source": [
    "x=12.1  #float\n",
    "y=12.1\n",
    "print(id(x),id(y))  #所谓不可变是指，对象本身的值不能改变，xy只是变量的名字（引用），它随时可以指向别的对象"
   ]
  },
  {
   "cell_type": "code",
   "execution_count": 5,
   "id": "4bfb4909",
   "metadata": {},
   "outputs": [
    {
     "name": "stdout",
     "output_type": "stream",
     "text": [
      "12.1 2199854538992\n"
     ]
    }
   ],
   "source": [
    "y=12.1\n",
    "print(y,id(y))  #所谓不可变是指，对象本身的值不能改变，xy只是变量的名字（引用），它随时可以指向别的对象"
   ]
  }
 ],
 "metadata": {
  "kernelspec": {
   "display_name": "ai",
   "language": "python",
   "name": "python3"
  },
  "language_info": {
   "codemirror_mode": {
    "name": "ipython",
    "version": 3
   },
   "file_extension": ".py",
   "mimetype": "text/x-python",
   "name": "python",
   "nbconvert_exporter": "python",
   "pygments_lexer": "ipython3",
   "version": "3.10.16"
  }
 },
 "nbformat": 4,
 "nbformat_minor": 5
}
