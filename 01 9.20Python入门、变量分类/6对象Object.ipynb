{
 "cells": [
  {
   "cell_type": "code",
   "execution_count": null,
   "id": "2d69816c",
   "metadata": {},
   "outputs": [],
   "source": [
    "#python中，最常说的其实就是name和object\n",
    "#name它存储在某个命名空间(namespace)里，用来指向一个对象(object)，是指向object的引用，object是数据的存储位置\n",
    "#name可以指向不同的object，object的值可以改变，但是object的类型一旦确定，就不能改变"
   ]
  },
  {
   "cell_type": "code",
   "execution_count": 1,
   "id": "30fa337c",
   "metadata": {},
   "outputs": [
    {
     "name": "stdout",
     "output_type": "stream",
     "text": [
      "123 3039259398192 <class 'int'>\n"
     ]
    }
   ],
   "source": [
    "# Objects have an identity, a type and a value\n",
    "#这是说对象有身份、类型和值\n",
    "#身份：每个对象都有一个唯一的身份，这个身份可以用id()函数来获取\n",
    "#类型：每个对象都有一个类型，这个类型可以用type()函数来获取\n",
    "#值：每个对象都有一个值，这个值可以用print()函数来打印\n",
    "print(123,id(123),type(123))"
   ]
  },
  {
   "cell_type": "code",
   "execution_count": 3,
   "id": "7f597787",
   "metadata": {},
   "outputs": [
    {
     "name": "stdout",
     "output_type": "stream",
     "text": [
      "Objects have an identity, a type and a value\n",
      "空值对象，type=NoneType, value=None\n",
      "未定义变量，NameError: name \"y\" is not defined\n",
      "异常对象，type=ZeroDivisionError, value=\"division by zero\"\n",
      "所以，即使是特殊情况，定义也没有问题\n"
     ]
    }
   ],
   "source": [
    "print('Objects have an identity, a type and a value')\n",
    "#那么有没有特殊情况会出现object定义之外的情况呢？我们可以考虑以下情况：\n",
    "#  变量 / 名字 (Name / Variable)\n",
    "# ┌───────────────┐\n",
    "# │ x             │\n",
    "# └───────┬───────┘\n",
    "#         │ 指向\n",
    "#         ▼\n",
    "# 对象 Object\n",
    "# ┌────────────────────┐\n",
    "# │ id: 唯一标识        │\n",
    "# │ type: 对象类型      │\n",
    "# │ value: 对象值       │\n",
    "# └────────────────────┘\n",
    "\n",
    "# 示例1：正常对象\n",
    "# x = [1, 2, 3]\n",
    "# x ──▶ Object(id=140123..., type=list, value=[1,2,3])\n",
    "\n",
    "# 示例2：空值对象\n",
    "# x = None\n",
    "# x ──▶ Object(id=947362..., type=NoneType, value=None)\n",
    "print('空值对象，type=NoneType, value=None')\n",
    "# 示例3：未定义变量\n",
    "# print(y)\n",
    "# y ──X  # 没有指向任何对象，NameError\n",
    "print('未定义变量，NameError: name \"y\" is not defined')\n",
    "# 示例4：异常对象\n",
    "# 1 / 0  # ZeroDivisionError\n",
    "# 异常变量（隐式） ──▶ Object(id=..., type=ZeroDivisionError, value=\"division by zero\")\n",
    "print('异常对象，type=ZeroDivisionError, value=\"division by zero\"')\n",
    "#总结：\n",
    "# 对象类型\t id 特性\t                           说      明\n",
    "# None\t    全局唯一、固定\t                 单例对象，所有变量引用同一个对象\n",
    "# 异常对象\t 每次运行生成新对象，id 不固定\t   每次抛出的异常都是新的对象\n",
    "# 普通对象\t 动态分配\t                     变量指向它时 id 是它的内存地址\n",
    "print('所以，即使是特殊情况，定义也没有问题')"
   ]
  },
  {
   "cell_type": "code",
   "execution_count": null,
   "id": "709a41de",
   "metadata": {},
   "outputs": [],
   "source": [
    "# 异常对象 (Exception object)\n",
    "# 定义：Python 在运行时遇到错误情况，会创建一个 异常对象，这个对象本身是一个 Python 对象，有类型和值。\n",
    "# 特点：\n",
    "# 是对象，遵循“身份、类型、值”规则\n",
    "# 类型是某种 Exception 类，例如 ZeroDivisionError、IndexError\n",
    "# 可以捕获和操作，例如通过 try…except 获取"
   ]
  },
  {
   "cell_type": "code",
   "execution_count": 4,
   "id": "691e2761",
   "metadata": {},
   "outputs": [],
   "source": [
    "# 运行时报错 (Runtime Error)\n",
    "# 定义：Python 解释器在执行代码时检测到不允许的操作，就会 抛出异常，导致程序报错。\n",
    "# 特点：\n",
    "# 本质上是异常对象被“抛出”到解释器\n",
    "# 如果没有被捕获，就会显示错误信息（traceback）\n",
    "# 运行时报错是 现象/结果，而异常对象是 具体的对象"
   ]
  },
  {
   "cell_type": "code",
   "execution_count": 3,
   "id": "f83c7c74",
   "metadata": {},
   "outputs": [
    {
     "ename": "NameError",
     "evalue": "name 'i' is not defined",
     "output_type": "error",
     "traceback": [
      "\u001b[1;31m---------------------------------------------------------------------------\u001b[0m",
      "\u001b[1;31mNameError\u001b[0m                                 Traceback (most recent call last)",
      "Cell \u001b[1;32mIn[3], line 13\u001b[0m\n\u001b[0;32m     11\u001b[0m \u001b[38;5;28;01mfor\u001b[39;00m i \u001b[38;5;129;01min\u001b[39;00m \u001b[38;5;28mrange\u001b[39m(\u001b[38;5;241m8\u001b[39m,\u001b[38;5;241m1\u001b[39m,\u001b[38;5;241m1\u001b[39m):\n\u001b[0;32m     12\u001b[0m     \u001b[38;5;28;01mpass\u001b[39;00m\n\u001b[1;32m---> 13\u001b[0m \u001b[38;5;28mprint\u001b[39m(\u001b[43mi\u001b[49m)  \u001b[38;5;66;03m# NameError: name 'i' is not defined\u001b[39;00m\n",
      "\u001b[1;31mNameError\u001b[0m: name 'i' is not defined"
     ]
    }
   ],
   "source": [
    "#特殊情况\n",
    "a=\"123456789\"\n",
    "for i in range(8,1,1):\n",
    "    print(a[i])\n",
    "#运行此代码，发现出现了不属于上述的情况，既不报错，也不出现异常对象，而是直接不显示\n",
    "#这是属于【合法代码，但循环条件或逻辑导致循环体不执行】的情况\n",
    "#详细解释可见后面的range原理\n",
    "#在这种情况下，由于循环体根本没执行，i 没有被定义\n",
    "# i 这个名字不存在于命名空间 → 没有对象 → 没有 id、type、value\n",
    "# 访问 i 会报 NameError\n",
    "for i in range(8,1,1):\n",
    "    pass\n",
    "print(i)  # NameError: name 'i' is not defined\n",
    "\n",
    "\n"
   ]
  }
 ],
 "metadata": {
  "kernelspec": {
   "display_name": "ai",
   "language": "python",
   "name": "python3"
  },
  "language_info": {
   "codemirror_mode": {
    "name": "ipython",
    "version": 3
   },
   "file_extension": ".py",
   "mimetype": "text/x-python",
   "name": "python",
   "nbconvert_exporter": "python",
   "pygments_lexer": "ipython3",
   "version": "3.10.16"
  }
 },
 "nbformat": 4,
 "nbformat_minor": 5
}
