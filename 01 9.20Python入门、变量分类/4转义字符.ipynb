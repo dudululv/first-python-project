{
 "cells": [
  {
   "cell_type": "code",
   "execution_count": 11,
   "id": "2d0fdfc1",
   "metadata": {},
   "outputs": [
    {
     "name": "stdout",
     "output_type": "stream",
     "text": [
      "hello \n",
      " world\n",
      "hello \n",
      "\n",
      " world\n",
      "hello \\n\n",
      " world\n",
      "hello\\n\\nworld\n"
     ]
    }
   ],
   "source": [
    "# \\转义字符，用于表示一些特殊的字符 ，如\\n换行符\n",
    "print('hello \\n world')\n",
    "print('hello \\n\\n world')\n",
    "print('hello \\\\n\\n world')#由此可见，一个\\只能转义它身后的一个特殊字符，若有多个特殊字符，只能一个一个转义\n",
    "print('hello\\\\n\\\\nworld')"
   ]
  },
  {
   "cell_type": "code",
   "execution_count": 14,
   "id": "69012633",
   "metadata": {},
   "outputs": [
    {
     "name": "stdout",
     "output_type": "stream",
     "text": [
      "hello\tworld\n",
      "hello\t\tworld\n",
      "hello\\t\tworld\n",
      "hello\\t\\tworld\n",
      "helloo\tworld\n",
      "hellooo\tworld\n",
      "helloooo\tworld\n",
      "helloooohellooo\tworld\n"
     ]
    }
   ],
   "source": [
    "#\\t 制表符\n",
    "print('hello\\tworld')\n",
    "print('hello\\t\\tworld')\n",
    "print('hello\\\\t\\tworld')\n",
    "print('hello\\\\t\\\\tworld')\n",
    "print('helloo\\tworld')\n",
    "print('hellooo\\tworld')\n",
    "print('helloooo\\tworld')# 制表符的宽度是8个字符\n",
    "print('helloooohellooo\\tworld')# 制表符会统计前方的位数，不满8的倍数时自动用空格补满，恰好为8的倍数时再空出8位空格"
   ]
  },
  {
   "cell_type": "code",
   "execution_count": 33,
   "id": "06e07aba",
   "metadata": {},
   "outputs": [
    {
     "name": "stdout",
     "output_type": "stream",
     "text": [
      "hello 'world'\n",
      "hello \"world\"\n",
      "'\n"
     ]
    }
   ],
   "source": [
    "#同理，也能转义引号\n",
    "print('hello \\'world\\'')\n",
    "print('hello \\\"world\\\"')\n",
    "# print('\\')这么写会直接报错，因为\\'转义之后，前面的引号没有对应的结束引号\n",
    "print('\\'')#如果想要使用双引号或单引号，可以二者嵌套使用"
   ]
  },
  {
   "cell_type": "code",
   "execution_count": null,
   "id": "71a9bbd5",
   "metadata": {},
   "outputs": [
    {
     "name": "stdout",
     "output_type": "stream",
     "text": [
      "\\ \n",
      "\\\n",
      "\\\\ \n",
      "\\\\\n",
      "\\\\\\ \n"
     ]
    }
   ],
   "source": [
    "print('\\ ')\n",
    "print('\\\\')\n",
    "print('\\\\\\ ')\n",
    "print('\\\\\\\\')\n",
    "print('\\\\\\\\\\ ')\n",
    "#奇数个\\后面要加一个空格才能输出\n",
    "# 偶数（n）个\\则直接输出n/2个\\\n",
    "# 同时，输出的\\个数总与n-1个\\相同"
   ]
  },
  {
   "cell_type": "code",
   "execution_count": 5,
   "id": "128df08f",
   "metadata": {},
   "outputs": [
    {
     "name": "stdout",
     "output_type": "stream",
     "text": [
      "hello \n",
      "world\n",
      "world \n",
      "world123\n",
      "world456 \n"
     ]
    }
   ],
   "source": [
    "print('''hello \\nworld''')\n",
    "print('''hello \\rworld''')#🔹 原理：'\\r' 并不是移动字符，而是移动光标\n",
    "# \\r 只是把 光标移到当前行的开头，不会清空当前行的内容。\n",
    "# 后续打印的字符会 从光标位置开始覆盖原有字符。\n",
    "# 原本行里多余的字符不会自动删除，所以可能只覆盖部分。\n",
    "print('''hello \\rworld123''')\n",
    "print('''hello456 \\rworld''')"
   ]
  },
  {
   "cell_type": "code",
   "execution_count": 7,
   "id": "50ecc31a",
   "metadata": {},
   "outputs": [
    {
     "name": "stdout",
     "output_type": "stream",
     "text": [
      "hellworld\n"
     ]
    }
   ],
   "source": [
    "print('''hello\\bworld''')"
   ]
  }
 ],
 "metadata": {
  "kernelspec": {
   "display_name": "ai",
   "language": "python",
   "name": "python3"
  },
  "language_info": {
   "codemirror_mode": {
    "name": "ipython",
    "version": 3
   },
   "file_extension": ".py",
   "mimetype": "text/x-python",
   "name": "python",
   "nbconvert_exporter": "python",
   "pygments_lexer": "ipython3",
   "version": "3.10.16"
  }
 },
 "nbformat": 4,
 "nbformat_minor": 5
}
