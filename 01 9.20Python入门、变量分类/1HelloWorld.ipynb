{
 "cells": [
  {
   "cell_type": "code",
   "execution_count": 1,
   "id": "69e8783c",
   "metadata": {},
   "outputs": [
    {
     "name": "stdout",
     "output_type": "stream",
     "text": [
      "hello world\n"
     ]
    }
   ],
   "source": [
    "print('hello world')"
   ]
  },
  {
   "cell_type": "code",
   "execution_count": null,
   "id": "8e61a4b3",
   "metadata": {},
   "outputs": [
    {
     "name": "stdout",
     "output_type": "stream",
     "text": [
      "123\n",
      "3.14\n",
      "7\n"
     ]
    }
   ],
   "source": [
    "print(123)  #()里面直接输入视为数字,此处为整数\n",
    "print(3.14)  # 浮点数\n",
    "print(2+5)   # 表达式，结果是 7"
   ]
  },
  {
   "cell_type": "code",
   "execution_count": 3,
   "id": "c356b20e",
   "metadata": {},
   "outputs": [
    {
     "name": "stdout",
     "output_type": "stream",
     "text": [
      "10\n"
     ]
    }
   ],
   "source": [
    "x = 10\n",
    "print(x)   # 输出变量 x 的值，即 10\n",
    "# 如果你写了 print(y)，但 y 没有定义，就会报错：\n",
    "# NameError: name 'y' is not defined"
   ]
  }
 ],
 "metadata": {
  "kernelspec": {
   "display_name": "ai",
   "language": "python",
   "name": "python3"
  },
  "language_info": {
   "codemirror_mode": {
    "name": "ipython",
    "version": 3
   },
   "file_extension": ".py",
   "mimetype": "text/x-python",
   "name": "python",
   "nbconvert_exporter": "python",
   "pygments_lexer": "ipython3",
   "version": "3.10.16"
  }
 },
 "nbformat": 4,
 "nbformat_minor": 5
}
