{
 "cells": [
  {
   "cell_type": "code",
   "execution_count": 1,
   "id": "ff9e90ba",
   "metadata": {},
   "outputs": [
    {
     "name": "stdout",
     "output_type": "stream",
     "text": [
      "球员1评分:\n",
      "体能     98\n",
      "平衡     69\n",
      "进攻     73\n",
      "速度     88\n",
      "射门    100\n",
      "头球     99\n",
      "dtype: int64\n",
      "\n",
      "球员2评分:\n",
      "体能    71\n",
      "平衡    94\n",
      "进攻    99\n",
      "速度    92\n",
      "射门    76\n",
      "头球    89\n",
      "dtype: int64\n"
     ]
    }
   ],
   "source": [
    "import pandas as pd\n",
    "\n",
    "# 1. 创建两个球员各项评分的Series\n",
    "player1_scores = pd.Series({\n",
    "    '体能': 98,\n",
    "    '平衡': 69, \n",
    "    '进攻': 73,\n",
    "    '速度': 88,\n",
    "    '射门': 100,\n",
    "    '头球': 99\n",
    "})\n",
    "\n",
    "player2_scores = pd.Series({\n",
    "    '体能': 71,\n",
    "    '平衡': 94,\n",
    "    '进攻': 99,\n",
    "    '速度': 92,\n",
    "    '射门': 76,\n",
    "    '头球': 89\n",
    "})\n",
    "\n",
    "print(\"球员1评分:\")\n",
    "print(player1_scores)\n",
    "print(\"\\n球员2评分:\")\n",
    "print(player2_scores)"
   ]
  },
  {
   "cell_type": "code",
   "execution_count": 9,
   "id": "58b0b23a",
   "metadata": {},
   "outputs": [
    {
     "name": "stdout",
     "output_type": "stream",
     "text": [
      "球员1的索引: ['体能', '平衡', '进攻', '速度', '射门', '头球']\n",
      "球员1元素个数: 6\n",
      "球员2的索引: ['体能', '平衡', '进攻', '速度', '射门', '头球']\n",
      "球员2元素个数: 6\n",
      "方法1 - 直接.index:\n",
      "Index(['体能', '平衡', '进攻', '速度', '射门', '头球'], dtype='object')\n",
      "类型: <class 'pandas.core.indexes.base.Index'>\n"
     ]
    }
   ],
   "source": [
    "# 2. 获取球员评分Series的索引以及元素的个数\n",
    "print(\"球员1的索引:\", player1_scores.index.tolist())\n",
    "print(\"球员1元素个数:\", len(player1_scores))\n",
    "print(\"球员2的索引:\", player2_scores.index.tolist()) \n",
    "print(\"球员2元素个数:\", len(player2_scores))\n",
    "index_obj = player1_scores.index\n",
    "print(\"方法1 - 直接.index:\")\n",
    "print(index_obj)\n",
    "print(f\"类型: {type(index_obj)}\")"
   ]
  },
  {
   "cell_type": "code",
   "execution_count": 3,
   "id": "90323991",
   "metadata": {},
   "outputs": [
    {
     "name": "stdout",
     "output_type": "stream",
     "text": [
      "球员1平均分: 87.83\n",
      "球员2平均分: 86.83\n"
     ]
    }
   ],
   "source": [
    "# 3. 实现两个球员各项属性平均分的获取\n",
    "player1_avg = player1_scores.mean()\n",
    "player2_avg = player2_scores.mean()\n",
    "\n",
    "print(f\"球员1平均分: {player1_avg:.2f}\")\n",
    "print(f\"球员2平均分: {player2_avg:.2f}\")"
   ]
  },
  {
   "cell_type": "code",
   "execution_count": 4,
   "id": "186d6ec5",
   "metadata": {},
   "outputs": [
    {
     "name": "stdout",
     "output_type": "stream",
     "text": [
      "球员1的体能评分: 98\n",
      "球员1的进攻评分: 73\n",
      "球员2的体能评分: 71\n",
      "球员2的进攻评分: 99\n"
     ]
    }
   ],
   "source": [
    "# 4. 实现某个球员体能、进攻评分的获取\n",
    "print(\"球员1的体能评分:\", player1_scores['体能'])\n",
    "print(\"球员1的进攻评分:\", player1_scores['进攻'])\n",
    "\n",
    "# 或者使用loc\n",
    "print(\"球员2的体能评分:\", player2_scores.loc['体能'])\n",
    "print(\"球员2的进攻评分:\", player2_scores.loc['进攻'])"
   ]
  },
  {
   "cell_type": "code",
   "execution_count": 5,
   "id": "1ce85462",
   "metadata": {},
   "outputs": [
    {
     "name": "stdout",
     "output_type": "stream",
     "text": [
      "球员1超过95分的属性:\n",
      "体能     98\n",
      "射门    100\n",
      "头球     99\n",
      "dtype: int64\n",
      "\n",
      "球员2超过95分的属性:\n",
      "进攻    99\n",
      "dtype: int64\n"
     ]
    }
   ],
   "source": [
    "# 5. 实现每个球员超过95分的属性和评分\n",
    "player1_above_95 = player1_scores[player1_scores > 95]\n",
    "player2_above_95 = player2_scores[player2_scores > 95]\n",
    "\n",
    "print(\"球员1超过95分的属性:\")\n",
    "print(player1_above_95)\n",
    "print(\"\\n球员2超过95分的属性:\")\n",
    "print(player2_above_95)"
   ]
  },
  {
   "cell_type": "code",
   "execution_count": null,
   "id": "969d0949",
   "metadata": {},
   "outputs": [
    {
     "name": "stdout",
     "output_type": "stream",
     "text": [
      "球员1后三个属性评分:\n",
      "速度     88\n",
      "射门    100\n",
      "头球     99\n",
      "dtype: int64\n",
      "\n",
      "球员2后三个属性评分:\n",
      "速度    92\n",
      "射门    76\n",
      "头球    89\n",
      "dtype: int64\n",
      "\n",
      "球员1后三个属性(iloc):\n",
      "速度     88\n",
      "射门    100\n",
      "头球     99\n",
      "dtype: int64\n"
     ]
    }
   ],
   "source": [
    "# 6. 获取每个球员后三个属性的评分\n",
    "player1_last_three = player1_scores.tail(3)\n",
    "player2_last_three = player2_scores.tail(3)\n",
    "\n",
    "print(\"球员1后三个属性评分:\")\n",
    "print(player1_last_three)\n",
    "print(\"\\n球员2后三个属性评分:\")\n",
    "print(player2_last_three)\n",
    "\n",
    "# 或者使用iloc\n",
    "print(\"\\n球员1后三个属性(iloc):\")\n",
    "print(player1_scores.iloc[-3:])\n",
    "# 6. 获取每个球员后三个属性的评分（使用布尔索引）\n",
    "\n",
    "# 创建布尔掩码：标记后三个位置为True\n",
    "mask_last_three = [False, False, True, True, True]  # 对应6个属性中的后3个\n",
    "\n",
    "player1_last_three = player1_scores[mask_last_three]\n",
    "player2_last_three = player2_scores[mask_last_three]\n",
    "\n",
    "print(\"球员1后三个属性评分:\")\n",
    "print(player1_last_three)\n",
    "print(\"\\n球员2后三个属性评分:\")\n",
    "print(player2_last_three)"
   ]
  },
  {
   "cell_type": "code",
   "execution_count": 10,
   "id": "3d32e6a0",
   "metadata": {},
   "outputs": [
    {
     "data": {
      "text/plain": [
       "体能     98\n",
       "射门    100\n",
       "头球     99\n",
       "dtype: int64"
      ]
     },
     "execution_count": 10,
     "metadata": {},
     "output_type": "execute_result"
    },
    {
     "name": "stdout",
     "output_type": "stream",
     "text": [
      "球员1比球员2评分高的属性:\n",
      "体能: 球员1=98, 球员2=71, 优势=27\n",
      "射门: 球员1=100, 球员2=76, 优势=24\n",
      "头球: 球员1=99, 球员2=89, 优势=10\n",
      "\n",
      "详细对比:\n",
      "    球员1  球员2  分差\n",
      "体能   98   71  27\n",
      "平衡   69   94 -25\n",
      "进攻   73   99 -26\n",
      "速度   88   92  -4\n",
      "射门  100   76  24\n",
      "头球   99   89  10\n"
     ]
    }
   ],
   "source": [
    "# 7. 获取球员1比球员2评分高的属性以及评分\n",
    "player1_higher = player1_scores[player1_scores > player2_scores]\n",
    "player1_higher \n",
    "print(\"球员1比球员2评分高的属性:\")\n",
    "for attribute, score in player1_higher.items():\n",
    "    player2_score = player2_scores[attribute]\n",
    "    print(f\"{attribute}: 球员1={score}, 球员2={player2_score}, 优势={score - player2_score}\")\n",
    "\n",
    "# 或者用DataFrame更直观比较\n",
    "comparison_df = pd.DataFrame({\n",
    "    '球员1': player1_scores,\n",
    "    '球员2': player2_scores,\n",
    "    '分差': player1_scores - player2_scores\n",
    "})\n",
    "print(\"\\n详细对比:\")\n",
    "print(comparison_df)"
   ]
  },
  {
   "cell_type": "code",
   "execution_count": null,
   "id": "fa00c86d",
   "metadata": {},
   "outputs": [],
   "source": []
  }
 ],
 "metadata": {
  "kernelspec": {
   "display_name": "SF150",
   "language": "python",
   "name": "python3"
  },
  "language_info": {
   "codemirror_mode": {
    "name": "ipython",
    "version": 3
   },
   "file_extension": ".py",
   "mimetype": "text/x-python",
   "name": "python",
   "nbconvert_exporter": "python",
   "pygments_lexer": "ipython3",
   "version": "3.10.16"
  }
 },
 "nbformat": 4,
 "nbformat_minor": 5
}
