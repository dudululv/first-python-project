{
 "cells": [
  {
   "cell_type": "code",
   "execution_count": 1,
   "id": "3d81cd2e",
   "metadata": {},
   "outputs": [],
   "source": [
    "import numpy as np\n",
    "import random\n",
    "import pandas as pd\n"
   ]
  },
  {
   "cell_type": "code",
   "execution_count": 6,
   "id": "478170d4",
   "metadata": {},
   "outputs": [
    {
     "data": {
      "text/plain": [
       "0    1\n",
       "1    2\n",
       "2    3\n",
       "3    4\n",
       "4    5\n",
       "dtype: int64"
      ]
     },
     "execution_count": 6,
     "metadata": {},
     "output_type": "execute_result"
    },
    {
     "data": {
      "text/plain": [
       "a    1\n",
       "b    2\n",
       "c    3\n",
       "d    4\n",
       "e    5\n",
       "dtype: int64"
      ]
     },
     "execution_count": 6,
     "metadata": {},
     "output_type": "execute_result"
    },
    {
     "data": {
      "text/plain": [
       "0      0\n",
       "1      1\n",
       "2      2\n",
       "3      3\n",
       "4      4\n",
       "5      5\n",
       "6      6\n",
       "7      7\n",
       "8      8\n",
       "9      9\n",
       "10    10\n",
       "dtype: int64"
      ]
     },
     "execution_count": 6,
     "metadata": {},
     "output_type": "execute_result"
    },
    {
     "data": {
      "text/plain": [
       "a     97\n",
       "b     98\n",
       "c     99\n",
       "d    100\n",
       "e    101\n",
       "f    102\n",
       "g    103\n",
       "h    104\n",
       "i    105\n",
       "j    106\n",
       "dtype: int64"
      ]
     },
     "execution_count": 6,
     "metadata": {},
     "output_type": "execute_result"
    }
   ],
   "source": [
    "s1=pd.Series([1,2,3,4,5])\n",
    "s1\n",
    "s2=pd.Series([1,2,3,4,5],index=['a','b','c','d','e'])\n",
    "s2\n",
    "s3=pd.Series(tuple(i for i in range(11)))\n",
    "s3\n",
    "s4=pd.Series({chr(i):i for i in range(97,107)})\n",
    "s4"
   ]
  },
  {
   "cell_type": "code",
   "execution_count": 9,
   "id": "5caa8142",
   "metadata": {},
   "outputs": [
    {
     "data": {
      "text/plain": [
       "a    97\n",
       "b    98\n",
       "dtype: int64"
      ]
     },
     "execution_count": 9,
     "metadata": {},
     "output_type": "execute_result"
    }
   ],
   "source": [
    "s5=pd.Series({chr(i):i for i in range(97,107)},index=['a','b'])\n",
    "s5\n"
   ]
  },
  {
   "cell_type": "code",
   "execution_count": 10,
   "id": "9dfb0dea",
   "metadata": {},
   "outputs": [
    {
     "data": {
      "text/plain": [
       "x   NaN\n",
       "y   NaN\n",
       "dtype: float64"
      ]
     },
     "execution_count": 10,
     "metadata": {},
     "output_type": "execute_result"
    }
   ],
   "source": [
    "s6=pd.Series({chr(i):i for i in range(97,107)},index=['x','y'])\n",
    "s6"
   ]
  },
  {
   "cell_type": "code",
   "execution_count": 11,
   "id": "7e674c40",
   "metadata": {},
   "outputs": [
    {
     "data": {
      "text/plain": [
       "a     97\n",
       "b     98\n",
       "c     99\n",
       "d    100\n",
       "e    101\n",
       "f    102\n",
       "g    103\n",
       "h    104\n",
       "i    105\n",
       "j    106\n",
       "dtype: int64"
      ]
     },
     "execution_count": 11,
     "metadata": {},
     "output_type": "execute_result"
    },
    {
     "data": {
      "text/plain": [
       "Index(['a', 'b', 'c', 'd', 'e', 'f', 'g', 'h', 'i', 'j'], dtype='object')"
      ]
     },
     "execution_count": 11,
     "metadata": {},
     "output_type": "execute_result"
    },
    {
     "data": {
      "text/plain": [
       "array([ 97,  98,  99, 100, 101, 102, 103, 104, 105, 106], dtype=int64)"
      ]
     },
     "execution_count": 11,
     "metadata": {},
     "output_type": "execute_result"
    },
    {
     "data": {
      "text/plain": [
       "10"
      ]
     },
     "execution_count": 11,
     "metadata": {},
     "output_type": "execute_result"
    },
    {
     "data": {
      "text/plain": [
       "dtype('int64')"
      ]
     },
     "execution_count": 11,
     "metadata": {},
     "output_type": "execute_result"
    },
    {
     "data": {
      "text/plain": [
       "dtype('float64')"
      ]
     },
     "execution_count": 11,
     "metadata": {},
     "output_type": "execute_result"
    }
   ],
   "source": [
    "#相关属性\n",
    "s4\n",
    "# index获取Series的索引\n",
    "s4.index\n",
    "# values获取Series的所有元素值\n",
    "s4.values\n",
    "# size获得Series元素的个数\n",
    "s4.size\n",
    "# dtype获得每个元素的类型，Series要求每个元素类型一致\n",
    "# 修改类型可以使用astype()\n",
    "s4.dtype\n",
    "s5=s4.astype('float')\n",
    "s5.dtype"
   ]
  },
  {
   "cell_type": "code",
   "execution_count": 19,
   "id": "4b6adff0",
   "metadata": {},
   "outputs": [
    {
     "data": {
      "text/plain": [
       "1    1\n",
       "2    2\n",
       "3    3\n",
       "4    4\n",
       "5    5\n",
       "dtype: int64"
      ]
     },
     "execution_count": 19,
     "metadata": {},
     "output_type": "execute_result"
    },
    {
     "data": {
      "text/plain": [
       "2"
      ]
     },
     "execution_count": 19,
     "metadata": {},
     "output_type": "execute_result"
    },
    {
     "data": {
      "text/plain": [
       "3"
      ]
     },
     "execution_count": 19,
     "metadata": {},
     "output_type": "execute_result"
    },
    {
     "data": {
      "text/plain": [
       "1    10\n",
       "2    20\n",
       "3    30\n",
       "4    40\n",
       "5    50\n",
       "dtype: int64"
      ]
     },
     "execution_count": 19,
     "metadata": {},
     "output_type": "execute_result"
    },
    {
     "data": {
      "text/plain": [
       "1    11\n",
       "2    12\n",
       "3    13\n",
       "4    14\n",
       "5    15\n",
       "dtype: int64"
      ]
     },
     "execution_count": 19,
     "metadata": {},
     "output_type": "execute_result"
    },
    {
     "data": {
      "text/plain": [
       "1     1\n",
       "2     4\n",
       "3     9\n",
       "4    16\n",
       "5    25\n",
       "dtype: int64"
      ]
     },
     "execution_count": 19,
     "metadata": {},
     "output_type": "execute_result"
    },
    {
     "data": {
      "text/plain": [
       "a   NaN\n",
       "b   NaN\n",
       "c   NaN\n",
       "d   NaN\n",
       "e   NaN\n",
       "f   NaN\n",
       "1   NaN\n",
       "2   NaN\n",
       "3   NaN\n",
       "4   NaN\n",
       "5   NaN\n",
       "dtype: float64"
      ]
     },
     "execution_count": 19,
     "metadata": {},
     "output_type": "execute_result"
    },
    {
     "data": {
      "text/plain": [
       "array([ 2,  4,  6,  8, 10], dtype=int64)"
      ]
     },
     "execution_count": 19,
     "metadata": {},
     "output_type": "execute_result"
    }
   ],
   "source": [
    "s2=pd.Series([1,2,3,4,5],index=[i for i in range(1,6)])\n",
    "s2\n",
    "s2.loc[2]\n",
    "s2.iloc[2]\n",
    "s2*10\n",
    "s2+10\n",
    "s2**2\n",
    "s3=pd.Series([1,2,3,4,5,6],index=['a','b','c','d','e','f'])\n",
    "s3+s2\n",
    "s3.values[:5] + s2.values"
   ]
  },
  {
   "cell_type": "code",
   "execution_count": 22,
   "id": "f89870d4",
   "metadata": {},
   "outputs": [
    {
     "data": {
      "text/plain": [
       "1    1\n",
       "3    3\n",
       "5    5\n",
       "dtype: int64"
      ]
     },
     "execution_count": 22,
     "metadata": {},
     "output_type": "execute_result"
    },
    {
     "data": {
      "text/plain": [
       "3    3\n",
       "4    4\n",
       "5    5\n",
       "dtype: int64"
      ]
     },
     "execution_count": 22,
     "metadata": {},
     "output_type": "execute_result"
    }
   ],
   "source": [
    "s2[[1,3,5]]\n",
    "s2[s2>2]"
   ]
  },
  {
   "cell_type": "code",
   "execution_count": 25,
   "id": "2189c8bb",
   "metadata": {},
   "outputs": [
    {
     "data": {
      "text/plain": [
       "a     97\n",
       "b     98\n",
       "c     99\n",
       "d    100\n",
       "e    101\n",
       "dtype: int64"
      ]
     },
     "execution_count": 25,
     "metadata": {},
     "output_type": "execute_result"
    },
    {
     "data": {
      "text/plain": [
       "[True, True, True, False, False]"
      ]
     },
     "execution_count": 25,
     "metadata": {},
     "output_type": "execute_result"
    },
    {
     "data": {
      "text/plain": [
       "a    97\n",
       "b    98\n",
       "c    99\n",
       "dtype: int64"
      ]
     },
     "execution_count": 25,
     "metadata": {},
     "output_type": "execute_result"
    },
    {
     "data": {
      "text/plain": [
       "d    100\n",
       "e    101\n",
       "dtype: int64"
      ]
     },
     "execution_count": 25,
     "metadata": {},
     "output_type": "execute_result"
    },
    {
     "data": {
      "text/plain": [
       "2"
      ]
     },
     "execution_count": 25,
     "metadata": {},
     "output_type": "execute_result"
    },
    {
     "data": {
      "text/plain": [
       "0"
      ]
     },
     "execution_count": 25,
     "metadata": {},
     "output_type": "execute_result"
    },
    {
     "data": {
      "text/plain": [
       "2"
      ]
     },
     "execution_count": 25,
     "metadata": {},
     "output_type": "execute_result"
    },
    {
     "data": {
      "text/plain": [
       "2"
      ]
     },
     "execution_count": 25,
     "metadata": {},
     "output_type": "execute_result"
    },
    {
     "data": {
      "text/plain": [
       "2"
      ]
     },
     "execution_count": 25,
     "metadata": {},
     "output_type": "execute_result"
    }
   ],
   "source": [
    "#索引 获取多个元素\n",
    "s1= pd.Series({chr(i):i for i in range(97,97+5)})\n",
    "s1\n",
    "#整数列表\n",
    "#s1[[0,2,4]]#位置索引\n",
    "#s1[['a','c''e']] #标签索引\n",
    "#s1.Loc[['a','c','e']] ##标签索引\n",
    "#s1.iloc[[0,2,4]]##位置索引\n",
    "#布尔列表\n",
    "[True]*3+[False]*2\n",
    "s1[[True]*3+[False]*2]\n",
    "s1[s1>99]\n",
    "#统计个数 大于99的个数\n",
    "s1[s1>99].size\n",
    "len(s1[s1>991])\n",
    "s1[s1>99].shape[0]\n",
    "(s1>99).sum()\n",
    "sum(s1>99)"
   ]
  },
  {
   "cell_type": "code",
   "execution_count": 26,
   "id": "f1fa67bb",
   "metadata": {},
   "outputs": [
    {
     "data": {
      "text/plain": [
       "a     97\n",
       "b     98\n",
       "c     99\n",
       "d    100\n",
       "e    101\n",
       "dtype: int64"
      ]
     },
     "execution_count": 26,
     "metadata": {},
     "output_type": "execute_result"
    },
    {
     "data": {
      "text/plain": [
       "a     97\n",
       "b     98\n",
       "c     99\n",
       "d    100\n",
       "dtype: int64"
      ]
     },
     "execution_count": 26,
     "metadata": {},
     "output_type": "execute_result"
    },
    {
     "data": {
      "text/plain": [
       "a     97\n",
       "b     98\n",
       "c     99\n",
       "d    100\n",
       "dtype: int64"
      ]
     },
     "execution_count": 26,
     "metadata": {},
     "output_type": "execute_result"
    },
    {
     "data": {
      "text/plain": [
       "a    97\n",
       "c    99\n",
       "dtype: int64"
      ]
     },
     "execution_count": 26,
     "metadata": {},
     "output_type": "execute_result"
    }
   ],
   "source": [
    "#切片\n",
    "s1\n",
    "s1.loc['a':'d']#标签索引包含end\n",
    "s1.iloc[0:4]#位置索引不包含end\n",
    "s1.loc['a':'d':2]"
   ]
  },
  {
   "cell_type": "code",
   "execution_count": null,
   "id": "f63552d5",
   "metadata": {},
   "outputs": [
    {
     "data": {
      "text/plain": [
       "a    1900\n",
       "b      98\n",
       "c      99\n",
       "d     100\n",
       "e     101\n",
       "dtype: int64"
      ]
     },
     "execution_count": 28,
     "metadata": {},
     "output_type": "execute_result"
    },
    {
     "data": {
      "text/plain": [
       "a    1900\n",
       "b      98\n",
       "c      99\n",
       "d     100\n",
       "e     101\n",
       "dtype: int64"
      ]
     },
     "execution_count": 28,
     "metadata": {},
     "output_type": "execute_result"
    }
   ],
   "source": [
    "#追加和修改\n",
    "s1\n",
    "#s1.loc['a']=19#有则修改\n",
    "#s1.loc['z']=1000#无则添加\n",
    "s1.iloc[0]=1900#有则修改\n",
    "#s1.iloc[100]=1000#无则会报错\n",
    "s1"
   ]
  },
  {
   "cell_type": "code",
   "execution_count": 29,
   "id": "026af11d",
   "metadata": {},
   "outputs": [
    {
     "data": {
      "text/plain": [
       "a    1900\n",
       "b      98\n",
       "c      99\n",
       "d     100\n",
       "e     101\n",
       "dtype: int64"
      ]
     },
     "execution_count": 29,
     "metadata": {},
     "output_type": "execute_result"
    },
    {
     "data": {
      "text/plain": [
       "c     99\n",
       "d    100\n",
       "e    101\n",
       "dtype: int64"
      ]
     },
     "execution_count": 29,
     "metadata": {},
     "output_type": "execute_result"
    }
   ],
   "source": [
    "#删除\n",
    "s1\n",
    "# s1.drop('z')#返回一个新的Series\n",
    "#s1.drop('z',inplace=True)#原地删除inplace=True\n",
    "#删除没有的时，会报错keyError\n",
    "s1.drop(['a','b'])#返回一个新的Series"
   ]
  }
 ],
 "metadata": {
  "kernelspec": {
   "display_name": "SF150",
   "language": "python",
   "name": "python3"
  },
  "language_info": {
   "codemirror_mode": {
    "name": "ipython",
    "version": 3
   },
   "file_extension": ".py",
   "mimetype": "text/x-python",
   "name": "python",
   "nbconvert_exporter": "python",
   "pygments_lexer": "ipython3",
   "version": "3.10.16"
  }
 },
 "nbformat": 4,
 "nbformat_minor": 5
}
