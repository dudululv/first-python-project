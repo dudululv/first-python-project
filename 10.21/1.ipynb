{
 "cells": [
  {
   "cell_type": "code",
   "execution_count": 1,
   "id": "75f7840b",
   "metadata": {},
   "outputs": [
    {
     "data": {
      "text/html": [
       "<table border='1' style='border-collapse: collapse; text-align: center;'><tr><th>库名</th><th>状态</th></tr><tr><td>numpy</td><td style='color:green'>✅ 已安装，版本：1.26.4</td></tr><tr><td>pandas</td><td style='color:green'>✅ 已安装，版本：1.5.3</td></tr><tr><td>matplotlib</td><td style='color:green'>✅ 已安装，版本：3.5.3</td></tr><tr><td>seaborn</td><td style='color:green'>✅ 已安装，版本：0.12.2</td></tr></table>"
      ],
      "text/plain": [
       "<IPython.core.display.HTML object>"
      ]
     },
     "metadata": {},
     "output_type": "display_data"
    }
   ],
   "source": [
    "import importlib\n",
    "\n",
    "# 要检查的库及存储结果\n",
    "packages = [\"numpy\", \"pandas\", \"matplotlib\", \"seaborn\"]\n",
    "results = {}\n",
    "\n",
    "for pkg in packages:\n",
    "    try:\n",
    "        module = importlib.import_module(pkg)\n",
    "        version = getattr(module, \"__version__\", \"未知版本\")\n",
    "        results[pkg] = f\"✅ 已安装，版本：{version}\"\n",
    "    except ImportError:\n",
    "        results[pkg] = \"❌ 未安装\"\n",
    "\n",
    "# 在 Notebook 中漂亮显示结果\n",
    "from IPython.display import display, HTML\n",
    "\n",
    "html = \"<table border='1' style='border-collapse: collapse; text-align: center;'>\"\n",
    "html += \"<tr><th>库名</th><th>状态</th></tr>\"\n",
    "for pkg, status in results.items():\n",
    "    color = \"green\" if \"✅\" in status else \"red\"\n",
    "    html += f\"<tr><td>{pkg}</td><td style='color:{color}'>{status}</td></tr>\"\n",
    "html += \"</table>\"\n",
    "\n",
    "display(HTML(html))\n"
   ]
  },
  {
   "cell_type": "code",
   "execution_count": 2,
   "id": "53c7aee9",
   "metadata": {},
   "outputs": [],
   "source": [
    "import numpy as np\n",
    "import pandas as pd\n",
    "import matplotlib.pyplot as plt\n",
    "import seaborn as sns\n"
   ]
  },
  {
   "cell_type": "code",
   "execution_count": 4,
   "id": "b3c81346",
   "metadata": {},
   "outputs": [
    {
     "name": "stdout",
     "output_type": "stream",
     "text": [
      "[0, 2, 12, 36, 80, 150, 252, 392, 576, 810]\n"
     ]
    }
   ],
   "source": [
    "def python_sum(n):\n",
    "    a = [i**2 for i in range(n)]\n",
    "    b = [i**3 for i in range(n)]\n",
    "    return [a[i] + b[i] for i in range(n)]\n",
    "\n",
    "# 调用函数\n",
    "result = python_sum(10)\n",
    "print(result)\n"
   ]
  },
  {
   "cell_type": "code",
   "execution_count": null,
   "id": "daab037d",
   "metadata": {},
   "outputs": [],
   "source": [
    "def python_sum(n):\n",
    "    a = [i**2 for i in range(n)]\n",
    "    b = [i**3 for i in range(n)]\n",
    "    return [a[i] + b[i] for i in range(n)]\n",
    "\n",
    "# 调用函数\n",
    "result = python_sum(10)\n",
    "print(result)"
   ]
  },
  {
   "cell_type": "code",
   "execution_count": 5,
   "id": "bc2ba044",
   "metadata": {},
   "outputs": [
    {
     "name": "stdout",
     "output_type": "stream",
     "text": [
      "\n",
      "# conda environments:\n",
      "#\n",
      "# *  -> active\n",
      "# + -> frozen\n",
      "base                     C:\\pf\\anaconda\n",
      "SF150                *   C:\\pf\\anaconda\\envs\\SF150\n",
      "SF151                    C:\\pf\\anaconda\\envs\\SF151\n",
      "\n",
      "\n",
      "Note: you may need to restart the kernel to use updated packages.\n"
     ]
    }
   ],
   "source": [
    "%conda env list"
   ]
  },
  {
   "cell_type": "code",
   "execution_count": 6,
   "id": "335808c7",
   "metadata": {},
   "outputs": [
    {
     "name": "stdout",
     "output_type": "stream",
     "text": [
      "[  0   2  12  36  80 150 252 392 576 810]\n"
     ]
    }
   ],
   "source": [
    "import numpy as np\n",
    "\n",
    "def numpy_sum(n):\n",
    "    arr = np.arange(n)        # [0, 1, 2, ..., n-1]\n",
    "    a = arr ** 2\n",
    "    b = arr ** 3\n",
    "    return a + b\n",
    "\n",
    "# 调用函数\n",
    "result = numpy_sum(10)\n",
    "print(result)\n"
   ]
  },
  {
   "cell_type": "code",
   "execution_count": 7,
   "id": "f0b1fdc8",
   "metadata": {},
   "outputs": [
    {
     "name": "stdout",
     "output_type": "stream",
     "text": [
      "6.6 ms ± 73.6 μs per loop (mean ± std. dev. of 7 runs, 100 loops each)\n",
      "34.6 μs ± 336 ns per loop (mean ± std. dev. of 7 runs, 10,000 loops each)\n"
     ]
    }
   ],
   "source": [
    "%timeit python_sum(10000) \n",
    "%timeit numpy_sum(10000)"
   ]
  },
  {
   "cell_type": "code",
   "execution_count": 9,
   "id": "192a4533",
   "metadata": {},
   "outputs": [
    {
     "name": "stdout",
     "output_type": "stream",
     "text": [
      "69.1 ms ± 410 μs per loop (mean ± std. dev. of 7 runs, 10 loops each)\n",
      "315 μs ± 12.1 μs per loop (mean ± std. dev. of 7 runs, 1,000 loops each)\n"
     ]
    }
   ],
   "source": [
    "%timeit python_sum(100000) \n",
    "%timeit numpy_sum(100000)"
   ]
  },
  {
   "cell_type": "code",
   "execution_count": 10,
   "id": "ff217894",
   "metadata": {},
   "outputs": [
    {
     "name": "stdout",
     "output_type": "stream",
     "text": [
      "729 ms ± 5.7 ms per loop (mean ± std. dev. of 7 runs, 1 loop each)\n",
      "5.72 ms ± 68.7 μs per loop (mean ± std. dev. of 7 runs, 100 loops each)\n"
     ]
    }
   ],
   "source": [
    "%timeit python_sum(1000000) \n",
    "%timeit numpy_sum(1000000)"
   ]
  },
  {
   "cell_type": "code",
   "execution_count": 16,
   "id": "f65114d0",
   "metadata": {},
   "outputs": [
    {
     "data": {
      "text/plain": [
       "<AxesSubplot:title={'center':'时间对比'}>"
      ]
     },
     "execution_count": 16,
     "metadata": {},
     "output_type": "execute_result"
    },
    {
     "name": "stderr",
     "output_type": "stream",
     "text": [
      "c:\\pf\\anaconda\\envs\\SF150\\lib\\site-packages\\IPython\\core\\events.py:82: UserWarning: Glyph 26102 (\\N{CJK UNIFIED IDEOGRAPH-65F6}) missing from current font.\n",
      "  func(*args, **kwargs)\n",
      "c:\\pf\\anaconda\\envs\\SF150\\lib\\site-packages\\IPython\\core\\events.py:82: UserWarning: Glyph 38388 (\\N{CJK UNIFIED IDEOGRAPH-95F4}) missing from current font.\n",
      "  func(*args, **kwargs)\n",
      "c:\\pf\\anaconda\\envs\\SF150\\lib\\site-packages\\IPython\\core\\events.py:82: UserWarning: Glyph 23545 (\\N{CJK UNIFIED IDEOGRAPH-5BF9}) missing from current font.\n",
      "  func(*args, **kwargs)\n",
      "c:\\pf\\anaconda\\envs\\SF150\\lib\\site-packages\\IPython\\core\\events.py:82: UserWarning: Glyph 27604 (\\N{CJK UNIFIED IDEOGRAPH-6BD4}) missing from current font.\n",
      "  func(*args, **kwargs)\n",
      "c:\\pf\\anaconda\\envs\\SF150\\lib\\site-packages\\IPython\\core\\pylabtools.py:170: UserWarning: Glyph 26102 (\\N{CJK UNIFIED IDEOGRAPH-65F6}) missing from current font.\n",
      "  fig.canvas.print_figure(bytes_io, **kw)\n",
      "c:\\pf\\anaconda\\envs\\SF150\\lib\\site-packages\\IPython\\core\\pylabtools.py:170: UserWarning: Glyph 38388 (\\N{CJK UNIFIED IDEOGRAPH-95F4}) missing from current font.\n",
      "  fig.canvas.print_figure(bytes_io, **kw)\n",
      "c:\\pf\\anaconda\\envs\\SF150\\lib\\site-packages\\IPython\\core\\pylabtools.py:170: UserWarning: Glyph 23545 (\\N{CJK UNIFIED IDEOGRAPH-5BF9}) missing from current font.\n",
      "  fig.canvas.print_figure(bytes_io, **kw)\n",
      "c:\\pf\\anaconda\\envs\\SF150\\lib\\site-packages\\IPython\\core\\pylabtools.py:170: UserWarning: Glyph 27604 (\\N{CJK UNIFIED IDEOGRAPH-6BD4}) missing from current font.\n",
      "  fig.canvas.print_figure(bytes_io, **kw)\n"
     ]
    },
    {
     "data": {
      "image/png": "[encoded data removed]",
      "text/plain": [
       "<Figure size 640x480 with 1 Axes>"
      ]
     },
     "metadata": {},
     "output_type": "display_data"
    }
   ],
   "source": [
    "pd.DataFrame({\n",
    "    'python': [6.6*1000, 69.1*1000, 729*1000],\n",
    "    'numpy': [34.6, 315, 5.72*1000]\n",
    "    },  index=['10000', '100000', '1000000']).plot.bar(title='时间对比')\n"
   ]
  }
 ],
 "metadata": {
  "kernelspec": {
   "display_name": "SF150",
   "language": "python",
   "name": "python3"
  },
  "language_info": {
   "codemirror_mode": {
    "name": "ipython",
    "version": 3
   },
   "file_extension": ".py",
   "mimetype": "text/x-python",
   "name": "python",
   "nbconvert_exporter": "python",
   "pygments_lexer": "ipython3",
   "version": "3.10.16"
  }
 },
 "nbformat": 4,
 "nbformat_minor": 5
}
