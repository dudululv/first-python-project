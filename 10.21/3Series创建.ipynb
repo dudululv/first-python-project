{
 "cells": [
  {
   "cell_type": "code",
   "execution_count": 2,
   "id": "2fd26cbc",
   "metadata": {},
   "outputs": [
    {
     "name": "stdout",
     "output_type": "stream",
     "text": [
      "['1Numpy安装.ipynb', '2Numpy函数.ipynb', '3Series创建.ipynb', 'asn_footballplayers.ipynb']\n"
     ]
    }
   ],
   "source": [
    "import os\n",
    "print(os.listdir())\n"
   ]
  },
  {
   "cell_type": "code",
   "execution_count": 5,
   "id": "3d81cd2e",
   "metadata": {},
   "outputs": [
    {
     "ename": "ModuleNotFoundError",
     "evalue": "No module named 'numpy'",
     "output_type": "error",
     "traceback": [
      "\u001b[1;31m---------------------------------------------------------------------------\u001b[0m",
      "\u001b[1;31mModuleNotFoundError\u001b[0m                       Traceback (most recent call last)",
      "Cell \u001b[1;32mIn[5], line 1\u001b[0m\n\u001b[1;32m----> 1\u001b[0m \u001b[38;5;28;01mimport\u001b[39;00m\u001b[38;5;250m \u001b[39m\u001b[38;5;21;01mnumpy\u001b[39;00m\u001b[38;5;250m \u001b[39m\u001b[38;5;28;01mas\u001b[39;00m\u001b[38;5;250m \u001b[39m\u001b[38;5;21;01mnp\u001b[39;00m\n\u001b[0;32m      2\u001b[0m \u001b[38;5;28;01mimport\u001b[39;00m\u001b[38;5;250m \u001b[39m\u001b[38;5;21;01mrandom\u001b[39;00m\n\u001b[0;32m      3\u001b[0m \u001b[38;5;28;01mimport\u001b[39;00m\u001b[38;5;250m \u001b[39m\u001b[38;5;21;01mpandas\u001b[39;00m\u001b[38;5;250m \u001b[39m\u001b[38;5;28;01mas\u001b[39;00m\u001b[38;5;250m \u001b[39m\u001b[38;5;21;01mpd\u001b[39;00m\n",
      "\u001b[1;31mModuleNotFoundError\u001b[0m: No module named 'numpy'"
     ]
    }
   ],
   "source": [
    "import numpy as np\n",
    "import random\n",
    "import pandas as pd\n"
   ]
  },
  {
   "cell_type": "code",
   "execution_count": null,
   "id": "80928c8b",
   "metadata": {},
   "outputs": [],
   "source": [
    "a1=pd.Series(1)\n",
    "a1"
   ]
  },
  {
   "cell_type": "code",
   "execution_count": null,
   "id": "478170d4",
   "metadata": {},
   "outputs": [],
   "source": [
    "s1=pd.Series([1,2,3,4,5])\n",
    "s1\n",
    "s2=pd.Series([1,2,3,4,5],index=['a','b','c','d','e'])\n",
    "s2\n",
    "s3=pd.Series(tuple(i for i in range(11)))\n",
    "s3\n",
    "s4=pd.Series({chr(i):i for i in range(97,107)})\n",
    "s4"
   ]
  },
  {
   "cell_type": "code",
   "execution_count": null,
   "id": "5caa8142",
   "metadata": {},
   "outputs": [],
   "source": [
    "s5=pd.Series({chr(i):i for i in range(97,107)},index=['a','b'])\n",
    "s5\n"
   ]
  },
  {
   "cell_type": "code",
   "execution_count": null,
   "id": "9dfb0dea",
   "metadata": {},
   "outputs": [],
   "source": [
    "s6=pd.Series({chr(i):i for i in range(97,107)},index=['x','y'])\n",
    "s6"
   ]
  },
  {
   "cell_type": "code",
   "execution_count": null,
   "id": "7e674c40",
   "metadata": {},
   "outputs": [],
   "source": [
    "#相关属性\n",
    "s4\n",
    "# index获取Series的索引\n",
    "s4.index\n",
    "# values获取Series的所有元素值\n",
    "s4.values\n",
    "# size获得Series元素的个数\n",
    "s4.size\n",
    "# dtype获得每个元素的类型，Series要求每个元素类型一致\n",
    "# 修改类型可以使用astype()\n",
    "s4.dtype\n",
    "s5=s4.astype('float')\n",
    "s5.dtype"
   ]
  },
  {
   "cell_type": "code",
   "execution_count": null,
   "id": "4b6adff0",
   "metadata": {},
   "outputs": [],
   "source": [
    "s2=pd.Series([1,2,3,4,5],index=[i for i in range(1,6)])\n",
    "s2\n",
    "s2.loc[2]\n",
    "s2.iloc[2]\n",
    "s2*10\n",
    "s2+10\n",
    "s2**2\n",
    "s3=pd.Series([1,2,3,4,5,6],index=['a','b','c','d','e','f'])\n",
    "s3+s2\n",
    "s3.values[:5] + s2.values"
   ]
  },
  {
   "cell_type": "code",
   "execution_count": null,
   "id": "f89870d4",
   "metadata": {},
   "outputs": [],
   "source": [
    "s2[[1,3,5]]\n",
    "s2[s2>2]"
   ]
  },
  {
   "cell_type": "code",
   "execution_count": null,
   "id": "2189c8bb",
   "metadata": {},
   "outputs": [],
   "source": [
    "#索引 获取多个元素\n",
    "s1= pd.Series({chr(i):i for i in range(97,97+5)})\n",
    "s1\n",
    "#整数列表\n",
    "#s1[[0,2,4]]#位置索引\n",
    "#s1[['a','c''e']] #标签索引\n",
    "#s1.Loc[['a','c','e']] ##标签索引\n",
    "#s1.iloc[[0,2,4]]##位置索引\n",
    "#布尔列表\n",
    "[True]*3+[False]*2\n",
    "s1[[True]*3+[False]*2]\n",
    "s1[s1>99]\n",
    "#统计个数 大于99的个数\n",
    "s1[s1>99].size\n",
    "len(s1[s1>991])\n",
    "s1[s1>99].shape[0]\n",
    "(s1>99).sum()\n",
    "sum(s1>99)"
   ]
  },
  {
   "cell_type": "code",
   "execution_count": null,
   "id": "f1fa67bb",
   "metadata": {},
   "outputs": [],
   "source": [
    "#切片\n",
    "s1\n",
    "s1.loc['a':'d']#标签索引包含end\n",
    "s1.iloc[0:4]#位置索引不包含end\n",
    "s1.loc['a':'d':2]"
   ]
  },
  {
   "cell_type": "code",
   "execution_count": null,
   "id": "f63552d5",
   "metadata": {},
   "outputs": [],
   "source": [
    "#追加和修改\n",
    "s1\n",
    "#s1.loc['a']=19#有则修改\n",
    "#s1.loc['z']=1000#无则添加\n",
    "s1.iloc[0]=1900#有则修改\n",
    "#s1.iloc[100]=1000#无则会报错\n",
    "s1"
   ]
  },
  {
   "cell_type": "code",
   "execution_count": null,
   "id": "026af11d",
   "metadata": {},
   "outputs": [],
   "source": [
    "#删除\n",
    "s1\n",
    "# s1.drop('z')#返回一个新的Series\n",
    "#s1.drop('z',inplace=True)#原地删除inplace=True\n",
    "#删除没有的时，会报错keyError\n",
    "s1.drop(['a','b'])#返回一个新的Series"
   ]
  }
 ],
 "metadata": {
  "kernelspec": {
   "display_name": "ai",
   "language": "python",
   "name": "python3"
  },
  "language_info": {
   "codemirror_mode": {
    "name": "ipython",
    "version": 3
   },
   "file_extension": ".py",
   "mimetype": "text/x-python",
   "name": "python",
   "nbconvert_exporter": "python",
   "pygments_lexer": "ipython3",
   "version": "3.10.16"
  }
 },
 "nbformat": 4,
 "nbformat_minor": 5
}
