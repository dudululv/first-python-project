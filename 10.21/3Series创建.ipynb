{
 "cells": [
  {
   "cell_type": "code",
   "execution_count": 1,
   "id": "2fd26cbc",
   "metadata": {},
   "outputs": [
    {
     "name": "stdout",
     "output_type": "stream",
     "text": [
      "['1Numpy安装.ipynb', '2Numpy函数.ipynb', '3Series创建.ipynb', 'asn_footballplayers.ipynb']\n"
     ]
    }
   ],
   "source": [
    "import os\n",
    "print(os.listdir())\n"
   ]
  },
  {
   "cell_type": "code",
   "execution_count": 2,
   "id": "3d81cd2e",
   "metadata": {},
   "outputs": [],
   "source": [
    "import numpy as np\n",
    "import random\n",
    "import pandas as pd\n"
   ]
  },
  {
   "cell_type": "code",
   "execution_count": 5,
   "id": "80928c8b",
   "metadata": {},
   "outputs": [
    {
     "ename": "TypeError",
     "evalue": "Index(...) must be called with a collection of some kind, 2 was passed",
     "output_type": "error",
     "traceback": [
      "\u001b[31m---------------------------------------------------------------------------\u001b[39m",
      "\u001b[31mTypeError\u001b[39m                                 Traceback (most recent call last)",
      "\u001b[36mCell\u001b[39m\u001b[36m \u001b[39m\u001b[32mIn[5]\u001b[39m\u001b[32m, line 1\u001b[39m\n\u001b[32m----> \u001b[39m\u001b[32m1\u001b[39m a1=\u001b[43mpd\u001b[49m\u001b[43m.\u001b[49m\u001b[43mSeries\u001b[49m\u001b[43m(\u001b[49m\u001b[32;43m1\u001b[39;49m\u001b[43m,\u001b[49m\u001b[32;43m2\u001b[39;49m\u001b[43m)\u001b[49m\n\u001b[32m      2\u001b[39m a1\n",
      "\u001b[36mFile \u001b[39m\u001b[32mc:\\ai\\anaconda3\\envs\\ai\\Lib\\site-packages\\pandas\\core\\series.py:490\u001b[39m, in \u001b[36mSeries.__init__\u001b[39m\u001b[34m(self, data, index, dtype, name, copy, fastpath)\u001b[39m\n\u001b[32m    487\u001b[39m name = ibase.maybe_extract_name(name, data, \u001b[38;5;28mtype\u001b[39m(\u001b[38;5;28mself\u001b[39m))\n\u001b[32m    489\u001b[39m \u001b[38;5;28;01mif\u001b[39;00m index \u001b[38;5;129;01mis\u001b[39;00m \u001b[38;5;129;01mnot\u001b[39;00m \u001b[38;5;28;01mNone\u001b[39;00m:\n\u001b[32m--> \u001b[39m\u001b[32m490\u001b[39m     index = \u001b[43mensure_index\u001b[49m\u001b[43m(\u001b[49m\u001b[43mindex\u001b[49m\u001b[43m)\u001b[49m\n\u001b[32m    492\u001b[39m \u001b[38;5;28;01mif\u001b[39;00m dtype \u001b[38;5;129;01mis\u001b[39;00m \u001b[38;5;129;01mnot\u001b[39;00m \u001b[38;5;28;01mNone\u001b[39;00m:\n\u001b[32m    493\u001b[39m     dtype = \u001b[38;5;28mself\u001b[39m._validate_dtype(dtype)\n",
      "\u001b[36mFile \u001b[39m\u001b[32mc:\\ai\\anaconda3\\envs\\ai\\Lib\\site-packages\\pandas\\core\\indexes\\base.py:7649\u001b[39m, in \u001b[36mensure_index\u001b[39m\u001b[34m(index_like, copy)\u001b[39m\n\u001b[32m   7647\u001b[39m         \u001b[38;5;28;01mreturn\u001b[39;00m Index(index_like, copy=copy, tupleize_cols=\u001b[38;5;28;01mFalse\u001b[39;00m)\n\u001b[32m   7648\u001b[39m \u001b[38;5;28;01melse\u001b[39;00m:\n\u001b[32m-> \u001b[39m\u001b[32m7649\u001b[39m     \u001b[38;5;28;01mreturn\u001b[39;00m \u001b[43mIndex\u001b[49m\u001b[43m(\u001b[49m\u001b[43mindex_like\u001b[49m\u001b[43m,\u001b[49m\u001b[43m \u001b[49m\u001b[43mcopy\u001b[49m\u001b[43m=\u001b[49m\u001b[43mcopy\u001b[49m\u001b[43m)\u001b[49m\n",
      "\u001b[36mFile \u001b[39m\u001b[32mc:\\ai\\anaconda3\\envs\\ai\\Lib\\site-packages\\pandas\\core\\indexes\\base.py:526\u001b[39m, in \u001b[36mIndex.__new__\u001b[39m\u001b[34m(cls, data, dtype, copy, name, tupleize_cols)\u001b[39m\n\u001b[32m    523\u001b[39m         data = com.asarray_tuplesafe(data, dtype=_dtype_obj)\n\u001b[32m    525\u001b[39m \u001b[38;5;28;01melif\u001b[39;00m is_scalar(data):\n\u001b[32m--> \u001b[39m\u001b[32m526\u001b[39m     \u001b[38;5;28;01mraise\u001b[39;00m \u001b[38;5;28;43mcls\u001b[39;49m\u001b[43m.\u001b[49m\u001b[43m_raise_scalar_data_error\u001b[49m\u001b[43m(\u001b[49m\u001b[43mdata\u001b[49m\u001b[43m)\u001b[49m\n\u001b[32m    527\u001b[39m \u001b[38;5;28;01melif\u001b[39;00m \u001b[38;5;28mhasattr\u001b[39m(data, \u001b[33m\"\u001b[39m\u001b[33m__array__\u001b[39m\u001b[33m\"\u001b[39m):\n\u001b[32m    528\u001b[39m     \u001b[38;5;28;01mreturn\u001b[39;00m \u001b[38;5;28mcls\u001b[39m(np.asarray(data), dtype=dtype, copy=copy, name=name)\n",
      "\u001b[36mFile \u001b[39m\u001b[32mc:\\ai\\anaconda3\\envs\\ai\\Lib\\site-packages\\pandas\\core\\indexes\\base.py:5289\u001b[39m, in \u001b[36mIndex._raise_scalar_data_error\u001b[39m\u001b[34m(cls, data)\u001b[39m\n\u001b[32m   5284\u001b[39m \u001b[38;5;129m@final\u001b[39m\n\u001b[32m   5285\u001b[39m \u001b[38;5;129m@classmethod\u001b[39m\n\u001b[32m   5286\u001b[39m \u001b[38;5;28;01mdef\u001b[39;00m\u001b[38;5;250m \u001b[39m\u001b[34m_raise_scalar_data_error\u001b[39m(\u001b[38;5;28mcls\u001b[39m, data):\n\u001b[32m   5287\u001b[39m     \u001b[38;5;66;03m# We return the TypeError so that we can raise it from the constructor\u001b[39;00m\n\u001b[32m   5288\u001b[39m     \u001b[38;5;66;03m#  in order to keep mypy happy\u001b[39;00m\n\u001b[32m-> \u001b[39m\u001b[32m5289\u001b[39m     \u001b[38;5;28;01mraise\u001b[39;00m \u001b[38;5;167;01mTypeError\u001b[39;00m(\n\u001b[32m   5290\u001b[39m         \u001b[33mf\u001b[39m\u001b[33m\"\u001b[39m\u001b[38;5;132;01m{\u001b[39;00m\u001b[38;5;28mcls\u001b[39m.\u001b[34m__name__\u001b[39m\u001b[38;5;132;01m}\u001b[39;00m\u001b[33m(...) must be called with a collection of some \u001b[39m\u001b[33m\"\u001b[39m\n\u001b[32m   5291\u001b[39m         \u001b[33mf\u001b[39m\u001b[33m\"\u001b[39m\u001b[33mkind, \u001b[39m\u001b[38;5;132;01m{\u001b[39;00m\u001b[38;5;28mrepr\u001b[39m(data)\u001b[38;5;250m \u001b[39m\u001b[38;5;28;01mif\u001b[39;00m\u001b[38;5;250m \u001b[39m\u001b[38;5;129;01mnot\u001b[39;00m\u001b[38;5;250m \u001b[39m\u001b[38;5;28misinstance\u001b[39m(data,\u001b[38;5;250m \u001b[39mnp.generic)\u001b[38;5;250m \u001b[39m\u001b[38;5;28;01melse\u001b[39;00m\u001b[38;5;250m \u001b[39m\u001b[38;5;28mstr\u001b[39m(data)\u001b[38;5;132;01m}\u001b[39;00m\u001b[33m \u001b[39m\u001b[33m\"\u001b[39m\n\u001b[32m   5292\u001b[39m         \u001b[33m\"\u001b[39m\u001b[33mwas passed\u001b[39m\u001b[33m\"\u001b[39m\n\u001b[32m   5293\u001b[39m     )\n",
      "\u001b[31mTypeError\u001b[39m: Index(...) must be called with a collection of some kind, 2 was passed"
     ]
    }
   ],
   "source": [
    "a1=pd.Series(1,2)\n",
    "a1"
   ]
  },
  {
   "cell_type": "code",
   "execution_count": 7,
   "id": "f2dcf3b4",
   "metadata": {},
   "outputs": [
    {
     "data": {
      "text/plain": [
       "2    1\n",
       "dtype: int64"
      ]
     },
     "execution_count": 7,
     "metadata": {},
     "output_type": "execute_result"
    }
   ],
   "source": [
    "b1=pd.Series(1,[2])\n",
    "b1"
   ]
  },
  {
   "cell_type": "code",
   "execution_count": null,
   "id": "478170d4",
   "metadata": {},
   "outputs": [],
   "source": [
    "s1=pd.Series([1,2,3,4,5])\n",
    "s1\n",
    "s2=pd.Series([1,2,3,4,5],index=['a','b','c','d','e'])\n",
    "s2\n",
    "s3=pd.Series(tuple(i for i in range(11)))\n",
    "s3\n",
    "s4=pd.Series({chr(i):i for i in range(97,107)})\n",
    "s4"
   ]
  },
  {
   "cell_type": "code",
   "execution_count": null,
   "id": "5caa8142",
   "metadata": {},
   "outputs": [],
   "source": [
    "s5=pd.Series({chr(i):i for i in range(97,107)},index=['a','b'])\n",
    "s5\n"
   ]
  },
  {
   "cell_type": "code",
   "execution_count": null,
   "id": "9dfb0dea",
   "metadata": {},
   "outputs": [],
   "source": [
    "s6=pd.Series({chr(i):i for i in range(97,107)},index=['x','y'])\n",
    "s6"
   ]
  },
  {
   "cell_type": "code",
   "execution_count": null,
   "id": "7e674c40",
   "metadata": {},
   "outputs": [],
   "source": [
    "#相关属性\n",
    "s4\n",
    "# index获取Series的索引\n",
    "s4.index\n",
    "# values获取Series的所有元素值\n",
    "s4.values\n",
    "# size获得Series元素的个数\n",
    "s4.size\n",
    "# dtype获得每个元素的类型，Series要求每个元素类型一致\n",
    "# 修改类型可以使用astype()\n",
    "s4.dtype\n",
    "s5=s4.astype('float')\n",
    "s5.dtype"
   ]
  },
  {
   "cell_type": "code",
   "execution_count": null,
   "id": "4b6adff0",
   "metadata": {},
   "outputs": [],
   "source": [
    "s2=pd.Series([1,2,3,4,5],index=[i for i in range(1,6)])\n",
    "s2\n",
    "s2.loc[2]\n",
    "s2.iloc[2]\n",
    "s2*10\n",
    "s2+10\n",
    "s2**2\n",
    "s3=pd.Series([1,2,3,4,5,6],index=['a','b','c','d','e','f'])\n",
    "s3+s2\n",
    "s3.values[:5] + s2.values"
   ]
  },
  {
   "cell_type": "code",
   "execution_count": null,
   "id": "f89870d4",
   "metadata": {},
   "outputs": [],
   "source": [
    "s2[[1,3,5]]\n",
    "s2[s2>2]"
   ]
  },
  {
   "cell_type": "code",
   "execution_count": null,
   "id": "2189c8bb",
   "metadata": {},
   "outputs": [],
   "source": [
    "#索引 获取多个元素\n",
    "s1= pd.Series({chr(i):i for i in range(97,97+5)})\n",
    "s1\n",
    "#整数列表\n",
    "#s1[[0,2,4]]#位置索引\n",
    "#s1[['a','c''e']] #标签索引\n",
    "#s1.Loc[['a','c','e']] ##标签索引\n",
    "#s1.iloc[[0,2,4]]##位置索引\n",
    "#布尔列表\n",
    "[True]*3+[False]*2\n",
    "s1[[True]*3+[False]*2]\n",
    "s1[s1>99]\n",
    "#统计个数 大于99的个数\n",
    "s1[s1>99].size\n",
    "len(s1[s1>991])\n",
    "s1[s1>99].shape[0]\n",
    "(s1>99).sum()\n",
    "sum(s1>99)"
   ]
  },
  {
   "cell_type": "code",
   "execution_count": null,
   "id": "f1fa67bb",
   "metadata": {},
   "outputs": [],
   "source": [
    "#切片\n",
    "s1\n",
    "s1.loc['a':'d']#标签索引包含end\n",
    "s1.iloc[0:4]#位置索引不包含end\n",
    "s1.loc['a':'d':2]"
   ]
  },
  {
   "cell_type": "code",
   "execution_count": null,
   "id": "f63552d5",
   "metadata": {},
   "outputs": [],
   "source": [
    "#追加和修改\n",
    "s1\n",
    "#s1.loc['a']=19#有则修改\n",
    "#s1.loc['z']=1000#无则添加\n",
    "s1.iloc[0]=1900#有则修改\n",
    "#s1.iloc[100]=1000#无则会报错\n",
    "s1"
   ]
  },
  {
   "cell_type": "code",
   "execution_count": null,
   "id": "026af11d",
   "metadata": {},
   "outputs": [],
   "source": [
    "#删除\n",
    "s1\n",
    "# s1.drop('z')#返回一个新的Series\n",
    "#s1.drop('z',inplace=True)#原地删除inplace=True\n",
    "#删除没有的时，会报错keyError\n",
    "s1.drop(['a','b'])#返回一个新的Series"
   ]
  }
 ],
 "metadata": {
  "kernelspec": {
   "display_name": "ai",
   "language": "python",
   "name": "python3"
  },
  "language_info": {
   "codemirror_mode": {
    "name": "ipython",
    "version": 3
   },
   "file_extension": ".py",
   "mimetype": "text/x-python",
   "name": "python",
   "nbconvert_exporter": "python",
   "pygments_lexer": "ipython3",
   "version": "3.11.7"
  }
 },
 "nbformat": 4,
 "nbformat_minor": 5
}
