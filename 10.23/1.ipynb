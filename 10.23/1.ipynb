{
 "cells": [
  {
   "cell_type": "code",
   "execution_count": 3,
   "id": "61b53f7b",
   "metadata": {},
   "outputs": [],
   "source": [
    "import numpy as np\n",
    "import pandas as pd"
   ]
  },
  {
   "cell_type": "code",
   "execution_count": 10,
   "id": "fbfc0b14",
   "metadata": {},
   "outputs": [
    {
     "data": {
      "text/plain": [
       "a    1\n",
       "b    2\n",
       "c    3\n",
       "d    4\n",
       "e    5\n",
       "f    6\n",
       "dtype: int64"
      ]
     },
     "execution_count": 10,
     "metadata": {},
     "output_type": "execute_result"
    },
    {
     "data": {
      "text/plain": [
       "b    10\n",
       "c    20\n",
       "d    30\n",
       "e    40\n",
       "f    50\n",
       "g    60\n",
       "dtype: int64"
      ]
     },
     "execution_count": 10,
     "metadata": {},
     "output_type": "execute_result"
    },
    {
     "data": {
      "text/plain": [
       "a     NaN\n",
       "b    12.0\n",
       "c    23.0\n",
       "d    34.0\n",
       "e    45.0\n",
       "f    56.0\n",
       "g     NaN\n",
       "dtype: float64"
      ]
     },
     "execution_count": 10,
     "metadata": {},
     "output_type": "execute_result"
    },
    {
     "data": {
      "text/plain": [
       "a     NaN\n",
       "b    -8.0\n",
       "c   -17.0\n",
       "d   -26.0\n",
       "e   -35.0\n",
       "f   -44.0\n",
       "g     NaN\n",
       "dtype: float64"
      ]
     },
     "execution_count": 10,
     "metadata": {},
     "output_type": "execute_result"
    },
    {
     "data": {
      "text/plain": [
       "a      NaN\n",
       "b     20.0\n",
       "c     60.0\n",
       "d    120.0\n",
       "e    200.0\n",
       "f    300.0\n",
       "g      NaN\n",
       "dtype: float64"
      ]
     },
     "execution_count": 10,
     "metadata": {},
     "output_type": "execute_result"
    },
    {
     "data": {
      "text/plain": [
       "a         NaN\n",
       "b    0.200000\n",
       "c    0.150000\n",
       "d    0.133333\n",
       "e    0.125000\n",
       "f    0.120000\n",
       "g         NaN\n",
       "dtype: float64"
      ]
     },
     "execution_count": 10,
     "metadata": {},
     "output_type": "execute_result"
    },
    {
     "data": {
      "text/plain": [
       "a     1.0\n",
       "b    -8.0\n",
       "c   -17.0\n",
       "d   -26.0\n",
       "e   -35.0\n",
       "f   -44.0\n",
       "g   -60.0\n",
       "dtype: float64"
      ]
     },
     "execution_count": 10,
     "metadata": {},
     "output_type": "execute_result"
    },
    {
     "data": {
      "text/plain": [
       "a      0\n",
       "b     20\n",
       "c     60\n",
       "d    120\n",
       "e    200\n",
       "f    300\n",
       "g      0\n",
       "dtype: int32"
      ]
     },
     "execution_count": 10,
     "metadata": {},
     "output_type": "execute_result"
    },
    {
     "data": {
      "text/plain": [
       "a         inf\n",
       "b    0.200000\n",
       "c    0.150000\n",
       "d    0.133333\n",
       "e    0.125000\n",
       "f    0.120000\n",
       "g    0.000000\n",
       "dtype: float64"
      ]
     },
     "execution_count": 10,
     "metadata": {},
     "output_type": "execute_result"
    }
   ],
   "source": [
    "s1=pd.Series([i for i in range(1,7)],index=[chr(i+96) for i in range(1,7)])\n",
    "s1\n",
    "s2=pd.Series([i*10 for i in range(1,7)],index=[chr(i) for i in range(98,104)])\n",
    "s2\n",
    "s1.add(s2)\n",
    "s1.sub(s2)\n",
    "s1.mul(s2)\n",
    "s1.div(s2)\n",
    "#实现对无法匹配的值进行填充,填充完再计算,如果有nan,整数结果会自动转换为浮点数\n",
    "a=s1.add(s2,fill_value=0)\n",
    "s1.sub(s2,fill_value=0)\n",
    "s1.mul(s2,fill_value=0).astype('int')#字符串写法更安全、通用性更高\n",
    "s1.div(s2,fill_value=0)\n",
    "\n",
    "\n"
   ]
  },
  {
   "cell_type": "code",
   "execution_count": 12,
   "id": "a761bd2f",
   "metadata": {},
   "outputs": [
    {
     "data": {
      "text/plain": [
       "a    False\n",
       "b    False\n",
       "c    False\n",
       "d    False\n",
       "e    False\n",
       "f    False\n",
       "g    False\n",
       "dtype: bool"
      ]
     },
     "execution_count": 12,
     "metadata": {},
     "output_type": "execute_result"
    },
    {
     "data": {
      "text/plain": [
       "a    True\n",
       "b    True\n",
       "c    True\n",
       "d    True\n",
       "e    True\n",
       "f    True\n",
       "g    True\n",
       "dtype: bool"
      ]
     },
     "execution_count": 12,
     "metadata": {},
     "output_type": "execute_result"
    }
   ],
   "source": [
    "a.isnull()\n",
    "a.notnull()\n"
   ]
  },
  {
   "cell_type": "code",
   "execution_count": null,
   "id": "483e8771",
   "metadata": {},
   "outputs": [
    {
     "data": {
      "text/plain": [
       "0     2\n",
       "1    11\n",
       "2    47\n",
       "3    14\n",
       "4    77\n",
       "dtype: int32"
      ]
     },
     "execution_count": 14,
     "metadata": {},
     "output_type": "execute_result"
    },
    {
     "data": {
      "text/plain": [
       "151"
      ]
     },
     "execution_count": 14,
     "metadata": {},
     "output_type": "execute_result"
    },
    {
     "data": {
      "text/plain": [
       "30.2"
      ]
     },
     "execution_count": 14,
     "metadata": {},
     "output_type": "execute_result"
    },
    {
     "data": {
      "text/plain": [
       "14.0"
      ]
     },
     "execution_count": 14,
     "metadata": {},
     "output_type": "execute_result"
    },
    {
     "data": {
      "text/plain": [
       "0     2\n",
       "1    11\n",
       "2    14\n",
       "3    47\n",
       "4    77\n",
       "dtype: int32"
      ]
     },
     "execution_count": 14,
     "metadata": {},
     "output_type": "execute_result"
    },
    {
     "data": {
      "text/plain": [
       "count     5.000000\n",
       "mean     30.200000\n",
       "std      31.220186\n",
       "min       2.000000\n",
       "25%      11.000000\n",
       "50%      14.000000\n",
       "75%      47.000000\n",
       "max      77.000000\n",
       "dtype: float64"
      ]
     },
     "execution_count": 14,
     "metadata": {},
     "output_type": "execute_result"
    }
   ],
   "source": [
    "s3=pd.Series(np.random.randint(0,100,size=5))\n",
    "s3\n",
    "s3.sum()\n",
    "s3.mean()\n",
    "s3.median()\n",
    "s3.mode() #众数,如果有多个众数,返回所有众数\n",
    "s3.describe()\n"
   ]
  },
  {
   "cell_type": "code",
   "execution_count": 15,
   "id": "797ffda5",
   "metadata": {},
   "outputs": [
    {
     "data": {
      "text/plain": [
       "6"
      ]
     },
     "execution_count": 15,
     "metadata": {},
     "output_type": "execute_result"
    },
    {
     "data": {
      "text/plain": [
       "6"
      ]
     },
     "execution_count": 15,
     "metadata": {},
     "output_type": "execute_result"
    },
    {
     "data": {
      "text/plain": [
       "6"
      ]
     },
     "execution_count": 15,
     "metadata": {},
     "output_type": "execute_result"
    }
   ],
   "source": [
    "#求小于50的元素的个数\n",
    "s1[s1<50].size\n",
    "(s1<50).sum()\n",
    "s1[s1<50].count()"
   ]
  },
  {
   "cell_type": "code",
   "execution_count": 16,
   "id": "0fd4c703",
   "metadata": {},
   "outputs": [
    {
     "data": {
      "text/plain": [
       "0    NaN\n",
       "1      a\n",
       "2      b\n",
       "dtype: object"
      ]
     },
     "execution_count": 16,
     "metadata": {},
     "output_type": "execute_result"
    },
    {
     "data": {
      "text/plain": [
       "3"
      ]
     },
     "execution_count": 16,
     "metadata": {},
     "output_type": "execute_result"
    },
    {
     "data": {
      "text/plain": [
       "1"
      ]
     },
     "execution_count": 16,
     "metadata": {},
     "output_type": "execute_result"
    },
    {
     "data": {
      "text/plain": [
       "1"
      ]
     },
     "execution_count": 16,
     "metadata": {},
     "output_type": "execute_result"
    }
   ],
   "source": [
    "#计算空值的个数\n",
    "s2 = pd.Series([np.NaN,'a','b'])\n",
    "s2\n",
    "s2.size\n",
    "s2.isnull().sum()\n",
    "s2.isna().sum() #isna（）和isnull（)一样,notnull（）和notna（）一样\n"
   ]
  },
  {
   "cell_type": "code",
   "execution_count": 19,
   "id": "ee97db40",
   "metadata": {},
   "outputs": [
    {
     "data": {
      "text/plain": [
       "0    abc我\n",
       "1     bc爱\n",
       "2    123你\n",
       "dtype: object"
      ]
     },
     "execution_count": 19,
     "metadata": {},
     "output_type": "execute_result"
    },
    {
     "data": {
      "text/plain": [
       "0    我\n",
       "1    爱\n",
       "2    你\n",
       "dtype: object"
      ]
     },
     "execution_count": 19,
     "metadata": {},
     "output_type": "execute_result"
    },
    {
     "data": {
      "text/plain": [
       "0       \n",
       "1       \n",
       "2    123\n",
       "dtype: object"
      ]
     },
     "execution_count": 19,
     "metadata": {},
     "output_type": "execute_result"
    },
    {
     "data": {
      "text/plain": [
       "0    abc\n",
       "1     bc\n",
       "2       \n",
       "dtype: object"
      ]
     },
     "execution_count": 19,
     "metadata": {},
     "output_type": "execute_result"
    }
   ],
   "source": [
    "#repLace（）替换函数\n",
    "s1=pd.Series(['abc我','bc爱','123你'])\n",
    "s1\n",
    "#把非中文替换为空[\\u4e0θ－\\u9fa5]这是中文的范围\n",
    "s1.str.replace('[^\\u4e00-\\u9fa5]','',regex=True)#regex=True表示使用正则表达式\n",
    "#只要数字\n",
    "s1.str.replace('[^0-9]+','',regex=True)\n",
    "#只要英文\n",
    "s1.str.replace('[^a-zA-Z]+','',regex=True)"
   ]
  },
  {
   "cell_type": "code",
   "execution_count": 21,
   "id": "28b57cf8",
   "metadata": {},
   "outputs": [
    {
     "data": {
      "text/plain": [
       "0    1\n",
       "1    1\n",
       "2    0\n",
       "dtype: int64"
      ]
     },
     "execution_count": 21,
     "metadata": {},
     "output_type": "execute_result"
    },
    {
     "data": {
      "text/plain": [
       "2"
      ]
     },
     "execution_count": 21,
     "metadata": {},
     "output_type": "execute_result"
    },
    {
     "data": {
      "text/plain": [
       "2"
      ]
     },
     "execution_count": 21,
     "metadata": {},
     "output_type": "execute_result"
    },
    {
     "data": {
      "text/plain": [
       "2"
      ]
     },
     "execution_count": 21,
     "metadata": {},
     "output_type": "execute_result"
    }
   ],
   "source": [
    "s1.str.count('c')\n",
    "s1.str.count('c').sum()\n",
    "s1.str.count('c').values.sum()\n",
    "sum(s1.str.count('c'))"
   ]
  },
  {
   "cell_type": "code",
   "execution_count": 22,
   "id": "b9e94b19",
   "metadata": {},
   "outputs": [
    {
     "data": {
      "text/plain": [
       "0     True\n",
       "1     True\n",
       "2    False\n",
       "dtype: bool"
      ]
     },
     "execution_count": 22,
     "metadata": {},
     "output_type": "execute_result"
    }
   ],
   "source": [
    "s1.str.contains('c')\n"
   ]
  },
  {
   "cell_type": "code",
   "execution_count": 24,
   "id": "b59c2961",
   "metadata": {},
   "outputs": [
    {
     "data": {
      "text/plain": [
       "0    [, 我, 和, 你]\n",
       "1       [你, 和, ]\n",
       "2        [, 她, ]\n",
       "dtype: object"
      ]
     },
     "execution_count": 24,
     "metadata": {},
     "output_type": "execute_result"
    }
   ],
   "source": [
    "\n",
    "#split（）分割函数\n",
    "s = pd.Series(['aa我bb和cc你','你a和c','123她abc'])\n",
    "#按非中文分割\n",
    "s.str.split('[^\\u4e00-\\u9fa5]+',regex=True)"
   ]
  },
  {
   "cell_type": "code",
   "execution_count": 1,
   "id": "88f169fe",
   "metadata": {},
   "outputs": [
    {
     "name": "stdout",
     "output_type": "stream",
     "text": [
      "✅ numpy 已安装，版本: 1.26.2\n",
      "✅ pandas 已安装，版本: 2.2.2\n",
      "✅ seaborn 已安装，版本: 0.13.2\n",
      "✅ matplotlib 已安装，版本: 3.9.0\n"
     ]
    }
   ],
   "source": [
    "# 检查 numpy\n",
    "try:\n",
    "    import numpy as np\n",
    "    print(f\"✅ numpy 已安装，版本: {np.__version__}\")\n",
    "except ImportError:\n",
    "    print(\"❌ numpy 未安装\")\n",
    "\n",
    "# 检查 pandas\n",
    "try:\n",
    "    import pandas as pd\n",
    "    print(f\"✅ pandas 已安装，版本: {pd.__version__}\")\n",
    "except ImportError:\n",
    "    print(\"❌ pandas 未安装\")\n",
    "\n",
    "# 检查 seaborn\n",
    "try:\n",
    "    import seaborn as sns\n",
    "    print(f\"✅ seaborn 已安装，版本: {sns.__version__}\")\n",
    "except ImportError:\n",
    "    print(\"❌ seaborn 未安装\")\n",
    "\n",
    "# 检查 matplotlib\n",
    "try:\n",
    "    import matplotlib\n",
    "    print(f\"✅ matplotlib 已安装，版本: {matplotlib.__version__}\")\n",
    "except ImportError:\n",
    "    print(\"❌ matplotlib 未安装\")"
   ]
  }
 ],
 "metadata": {
  "kernelspec": {
   "display_name": "ai",
   "language": "python",
   "name": "python3"
  },
  "language_info": {
   "codemirror_mode": {
    "name": "ipython",
    "version": 3
   },
   "file_extension": ".py",
   "mimetype": "text/x-python",
   "name": "python",
   "nbconvert_exporter": "python",
   "pygments_lexer": "ipython3",
   "version": "3.11.7"
  }
 },
 "nbformat": 4,
 "nbformat_minor": 5
}
