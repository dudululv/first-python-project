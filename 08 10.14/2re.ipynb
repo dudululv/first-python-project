{
 "cells": [
  {
   "cell_type": "code",
   "execution_count": 4,
   "id": "e9084c75",
   "metadata": {},
   "outputs": [
    {
     "name": "stdout",
     "output_type": "stream",
     "text": [
      "None\n",
      "<re.Match object; span=(10, 15), match='apple'>\n"
     ]
    }
   ],
   "source": [
    "import re\n",
    "p='apple'\n",
    "t='I have an apple,banana,pear'\n",
    "m=re.match(p,t)\n",
    "n=re.search(p,t)\n",
    "print(m)\n",
    "print(n)\n"
   ]
  },
  {
   "cell_type": "code",
   "execution_count": 8,
   "id": "07f3946d",
   "metadata": {},
   "outputs": [
    {
     "name": "stdout",
     "output_type": "stream",
     "text": [
      "手机号格式正确\n"
     ]
    }
   ],
   "source": [
    "p=r'1[3-9][0-9]{9}'\n",
    "phone=input('请输入手机号：')\n",
    "if re.match(p,phone):\n",
    "    print('手机号格式正确')\n",
    "else:\n",
    "    print('手机号格式错误')"
   ]
  },
  {
   "cell_type": "code",
   "execution_count": 16,
   "id": "8f462f74",
   "metadata": {},
   "outputs": [
    {
     "name": "stdout",
     "output_type": "stream",
     "text": [
      "['123']\n"
     ]
    }
   ],
   "source": [
    "t='time is 1, 123 ,2'\n",
    "p=r'\\d{3}'\n",
    "m=re.findall(p,t)\n",
    "print(m)\n"
   ]
  },
  {
   "cell_type": "code",
   "execution_count": 17,
   "id": "9c221a98",
   "metadata": {},
   "outputs": [
    {
     "name": "stdout",
     "output_type": "stream",
     "text": [
      "['999', '456']\n"
     ]
    }
   ],
   "source": [
    "t = 'id=999, code=4567, key=12'\n",
    "m = re.findall(r'\\d{3}', t)\n",
    "print(m)\n"
   ]
  },
  {
   "cell_type": "code",
   "execution_count": null,
   "id": "b1398e6e",
   "metadata": {},
   "outputs": [
    {
     "data": {
      "text/plain": [
       "['aa', '', 'a', '', '', '', 'aaaaa', '']"
      ]
     },
     "execution_count": 19,
     "metadata": {},
     "output_type": "execute_result"
    },
    {
     "data": {
      "text/plain": [
       "['aa', 'aaa', 'aa']"
      ]
     },
     "execution_count": 19,
     "metadata": {},
     "output_type": "execute_result"
    }
   ],
   "source": [
    "text = \"aa abc aaaaa\"\n",
    "re.findall(r'a*', text)  \n",
    "re.findall(r'a{2,3}', text) \n"
   ]
  },
  {
   "cell_type": "code",
   "execution_count": 26,
   "id": "25c300c3",
   "metadata": {},
   "outputs": [
    {
     "data": {
      "text/plain": [
       "['a', 'a', 'a', 'a']"
      ]
     },
     "execution_count": 26,
     "metadata": {},
     "output_type": "execute_result"
    },
    {
     "data": {
      "text/plain": [
       "['a', 'e', 'a', 'a', 'a']"
      ]
     },
     "execution_count": 26,
     "metadata": {},
     "output_type": "execute_result"
    },
    {
     "data": {
      "text/plain": [
       "['1', '0', '1']"
      ]
     },
     "execution_count": 26,
     "metadata": {},
     "output_type": "execute_result"
    },
    {
     "data": {
      "text/plain": [
       "['R', 'o', 'o', 'm', ' ']"
      ]
     },
     "execution_count": 26,
     "metadata": {},
     "output_type": "execute_result"
    }
   ],
   "source": [
    "import re\n",
    "re.findall(r'a', 'apple banana')  # ['a', 'a', 'a', 'a']\n",
    "re.findall(r'[aeiou]', 'apple banana')  # ['a', 'e', 'a', 'a', 'a']\n",
    "re.findall(r'[0-9]', 'Room 101')  # ['1', '0', '1']\n",
    "re.findall(r'[^0-9]', 'Room 101')  # ['R', 'o', 'o', 'm', ' ']\n",
    "\n",
    "\n",
    "\n"
   ]
  },
  {
   "cell_type": "code",
   "execution_count": null,
   "id": "e76b3c6c",
   "metadata": {},
   "outputs": [
    {
     "data": {
      "text/plain": [
       "['aa', '', 'a', '', '', '', 'aaaaa', '']"
      ]
     },
     "execution_count": 32,
     "metadata": {},
     "output_type": "execute_result"
    },
    {
     "data": {
      "text/plain": [
       "['aa', 'a', 'aaaaa']"
      ]
     },
     "execution_count": 32,
     "metadata": {},
     "output_type": "execute_result"
    },
    {
     "data": {
      "text/plain": [
       "['a', 'a', '', 'a', '', '', '', 'a', 'a', 'a', 'a', 'a', '']"
      ]
     },
     "execution_count": 32,
     "metadata": {},
     "output_type": "execute_result"
    },
    {
     "data": {
      "text/plain": [
       "['aa', 'aa', 'aa']"
      ]
     },
     "execution_count": 32,
     "metadata": {},
     "output_type": "execute_result"
    },
    {
     "data": {
      "text/plain": [
       "['aa', 'aaaaa']"
      ]
     },
     "execution_count": 32,
     "metadata": {},
     "output_type": "execute_result"
    },
    {
     "data": {
      "text/plain": [
       "['aa', 'aaa', 'aa']"
      ]
     },
     "execution_count": 32,
     "metadata": {},
     "output_type": "execute_result"
    }
   ],
   "source": [
    "text = \"aa abc aaaaa\"\n",
    "re.findall(r'a*', text)  \n",
    "re.findall(r'a+', text)  # ['aa', 'a', 'aaaaa']\n",
    "re.findall(r'a?', text)  \n",
    "re.findall(r'a{2}', text)  \n",
    "re.findall(r'a{2,}', text)  # ['aa', 'aaaaa']\n",
    "re.findall(r'a{2,3}', text)  \n",
    "\n"
   ]
  },
  {
   "cell_type": "code",
   "execution_count": null,
   "id": "ece449c5",
   "metadata": {},
   "outputs": [
    {
     "data": {
      "text/plain": [
       "['1', '0', '1']"
      ]
     },
     "execution_count": 36,
     "metadata": {},
     "output_type": "execute_result"
    },
    {
     "data": {
      "text/plain": [
       "['H', 'i', '1', '2', '3']"
      ]
     },
     "execution_count": 36,
     "metadata": {},
     "output_type": "execute_result"
    },
    {
     "data": {
      "text/plain": [
       "[' ']"
      ]
     },
     "execution_count": 36,
     "metadata": {},
     "output_type": "execute_result"
    },
    {
     "data": {
      "text/plain": [
       "['H', 'i', '1', '2', '3']"
      ]
     },
     "execution_count": 36,
     "metadata": {},
     "output_type": "execute_result"
    }
   ],
   "source": [
    "re.findall(r'\\d', 'Room 101')  # ['1', '0', '1']\n",
    "re.findall(r'\\w', 'Hi! 123')  # ['H', 'i', '1', '2', '3']\n",
    "re.findall(r'\\s', 'Hi! 123') \n",
    "re.findall(r'.', 'Hi\\n123')  # ['H', 'i', '1', '2', '3']\n",
    "\n",
    "\n"
   ]
  },
  {
   "cell_type": "code",
   "execution_count": 38,
   "id": "430304f1",
   "metadata": {},
   "outputs": [
    {
     "data": {
      "text/plain": [
       "['Hello']"
      ]
     },
     "execution_count": 38,
     "metadata": {},
     "output_type": "execute_result"
    },
    {
     "data": {
      "text/plain": [
       "[]"
      ]
     },
     "execution_count": 38,
     "metadata": {},
     "output_type": "execute_result"
    },
    {
     "data": {
      "text/plain": [
       "['world']"
      ]
     },
     "execution_count": 38,
     "metadata": {},
     "output_type": "execute_result"
    },
    {
     "data": {
      "text/plain": [
       "[]"
      ]
     },
     "execution_count": 38,
     "metadata": {},
     "output_type": "execute_result"
    }
   ],
   "source": [
    "re.findall(r'^Hello', 'Hello world')  # ['Hello']\n",
    "re.findall(r'^Hello', 'Say Hello')    # []\n",
    "re.findall(r'world$', 'Hello world')  # ['world']\n",
    "re.findall(r'world$', 'world Hello')  # []\n",
    "\n"
   ]
  },
  {
   "cell_type": "code",
   "execution_count": 39,
   "id": "b17b9523",
   "metadata": {},
   "outputs": [
    {
     "data": {
      "text/plain": [
       "['.', '.']"
      ]
     },
     "execution_count": 39,
     "metadata": {},
     "output_type": "execute_result"
    }
   ],
   "source": [
    "re.findall(r'\\.', 'a.b.c')  # ['.', '.']\n"
   ]
  },
  {
   "cell_type": "code",
   "execution_count": 46,
   "id": "13c5d471",
   "metadata": {},
   "outputs": [
    {
     "data": {
      "text/plain": [
       "<re.Match object; span=(0, 5), match='Hello'>"
      ]
     },
     "execution_count": 46,
     "metadata": {},
     "output_type": "execute_result"
    },
    {
     "data": {
      "text/plain": [
       "<re.Match object; span=(4, 9), match='Hello'>"
      ]
     },
     "execution_count": 46,
     "metadata": {},
     "output_type": "execute_result"
    },
    {
     "data": {
      "text/plain": [
       "'Room ###'"
      ]
     },
     "execution_count": 46,
     "metadata": {},
     "output_type": "execute_result"
    },
    {
     "data": {
      "text/plain": [
       "['1', '0', '1']"
      ]
     },
     "execution_count": 46,
     "metadata": {},
     "output_type": "execute_result"
    },
    {
     "data": {
      "text/plain": [
       "['Hello', 'world']"
      ]
     },
     "execution_count": 46,
     "metadata": {},
     "output_type": "execute_result"
    }
   ],
   "source": [
    "re.match(r'Hello', 'Hello world')  # <re.Match object>\n",
    "re.match(r'Hello', 'Say Hello')    # None\n",
    "re.search(r'Hello', 'Say Hello')   # <re.Match object>\n",
    "re.sub(r'\\d', '#', 'Room 101')  # 'Room ###'\n",
    "re.findall(r'\\d', 'Room 101')  # ['1', '0', '1']\n",
    "re.split(r'\\s+', 'Hello   world')  # ['Hello', 'world']\n",
    "\n",
    "\n",
    "\n"
   ]
  },
  {
   "cell_type": "code",
   "execution_count": 47,
   "id": "dd144850",
   "metadata": {},
   "outputs": [
    {
     "ename": "SyntaxError",
     "evalue": "invalid syntax (3438957838.py, line 6)",
     "output_type": "error",
     "traceback": [
      "\u001b[1;36m  Cell \u001b[1;32mIn[47], line 6\u001b[1;36m\u001b[0m\n\u001b[1;33m    finally:\u001b[0m\n\u001b[1;37m    ^\u001b[0m\n\u001b[1;31mSyntaxError\u001b[0m\u001b[1;31m:\u001b[0m invalid syntax\n"
     ]
    }
   ],
   "source": [
    "a=int(input('请输入一个数字'))\n",
    "if a%2==0:\n",
    "    print('偶数')\n",
    "else:\n",
    "    print('奇数')\n",
    "finally:\n",
    "    print('程序结束')"
   ]
  }
 ],
 "metadata": {
  "kernelspec": {
   "display_name": "SF150",
   "language": "python",
   "name": "python3"
  },
  "language_info": {
   "codemirror_mode": {
    "name": "ipython",
    "version": 3
   },
   "file_extension": ".py",
   "mimetype": "text/x-python",
   "name": "python",
   "nbconvert_exporter": "python",
   "pygments_lexer": "ipython3",
   "version": "3.10.16"
  }
 },
 "nbformat": 4,
 "nbformat_minor": 5
}
