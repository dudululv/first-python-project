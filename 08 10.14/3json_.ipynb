{
 "cells": [
  {
   "cell_type": "code",
   "execution_count": 4,
   "id": "38cd77e0",
   "metadata": {},
   "outputs": [
    {
     "name": "stdout",
     "output_type": "stream",
     "text": [
      "\"aa aaa aa\" <class 'str'>\n",
      "aa aaa aa <class 'str'>\n"
     ]
    }
   ],
   "source": [
    "import json\n",
    "a='aa aaa aa'\n",
    "j=json.dumps(a)\n",
    "print(j,type(j))\n",
    "b=json.loads(j)\n",
    "print(b,type(b))\n"
   ]
  }
 ],
 "metadata": {
  "kernelspec": {
   "display_name": "SF150",
   "language": "python",
   "name": "python3"
  },
  "language_info": {
   "codemirror_mode": {
    "name": "ipython",
    "version": 3
   },
   "file_extension": ".py",
   "mimetype": "text/x-python",
   "name": "python",
   "nbconvert_exporter": "python",
   "pygments_lexer": "ipython3",
   "version": "3.10.16"
  }
 },
 "nbformat": 4,
 "nbformat_minor": 5
}
