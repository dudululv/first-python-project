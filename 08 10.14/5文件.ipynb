{
 "cells": [
  {
   "cell_type": "code",
   "execution_count": 15,
   "id": "31d53f6c",
   "metadata": {},
   "outputs": [
    {
     "name": "stdout",
     "output_type": "stream",
     "text": [
      "i l y\n",
      "h l s\n",
      "t l t当前工作目录: c:\\github\\first-python-project\\08 10.14\n"
     ]
    }
   ],
   "source": [
    "file = open('a.txt', mode='r', encoding='utf-8')\n",
    "# file.read()\n",
    "# file.readline(5)\n",
    "context_list = file.readlines()\n",
    "for e in context_list:\n",
    "    print(e, end='')\n",
    "    import os\n",
    "print(\"当前工作目录:\", os.getcwd())\n"
   ]
  },
  {
   "cell_type": "code",
   "execution_count": 16,
   "id": "5c5685db",
   "metadata": {},
   "outputs": [
    {
     "data": {
      "text/plain": [
       "11"
      ]
     },
     "execution_count": 16,
     "metadata": {},
     "output_type": "execute_result"
    }
   ],
   "source": [
    "file=open('c.txt', mode='w', encoding='utf-8')\n",
    "file.write('hello world')\n",
    "file.writelines(['hello world\\n', 'hello world\\n'])\n",
    "file.close()"
   ]
  },
  {
   "cell_type": "code",
   "execution_count": 17,
   "id": "b0be194f",
   "metadata": {},
   "outputs": [
    {
     "data": {
      "text/plain": [
       "4"
      ]
     },
     "execution_count": 17,
     "metadata": {},
     "output_type": "execute_result"
    }
   ],
   "source": [
    "file=open('e.txt', mode='a', encoding='utf-8')\n",
    "file.write('ip1\\n')\n",
    "file.writelines(['ip2\\n', 'ip3\\n'])\n",
    "file.close()"
   ]
  },
  {
   "cell_type": "code",
   "execution_count": 21,
   "id": "5c63aab3",
   "metadata": {},
   "outputs": [
    {
     "data": {
      "text/plain": [
       "4"
      ]
     },
     "execution_count": 21,
     "metadata": {},
     "output_type": "execute_result"
    }
   ],
   "source": [
    "file=open('../07 10.11/g.txt', mode='w', encoding='utf-8')\n",
    "file.write('ip1\\n')\n",
    "file.writelines(['ip2\\n', 'ip3\\n'])\n",
    "file.close()"
   ]
  },
  {
   "cell_type": "code",
   "execution_count": null,
   "id": "ac172b09",
   "metadata": {},
   "outputs": [],
   "source": [
    "file1=open('f.txt', mode='r', encoding='utf-8')\n",
    "f1=file1.read()\n",
    "file1.close()\n",
    "file2=open('g.txt', mode='w', encoding='utf-8')\n",
    "f2=file2.write(f1)\n",
    "file2.close()\n"
   ]
  }
 ],
 "metadata": {
  "kernelspec": {
   "display_name": "SF150",
   "language": "python",
   "name": "python3"
  },
  "language_info": {
   "codemirror_mode": {
    "name": "ipython",
    "version": 3
   },
   "file_extension": ".py",
   "mimetype": "text/x-python",
   "name": "python",
   "nbconvert_exporter": "python",
   "pygments_lexer": "ipython3",
   "version": "3.10.16"
  }
 },
 "nbformat": 4,
 "nbformat_minor": 5
}
