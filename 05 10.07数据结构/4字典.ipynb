{
 "cells": [
  {
   "cell_type": "code",
   "execution_count": 1,
   "id": "763b2ffe",
   "metadata": {},
   "outputs": [],
   "source": [
    "# 字典（Dictionary）是Python中的一种无序、可变的数据类型，用于存储键-值（key-value）对。字典使用花括号 {} 表示，其中的每个键值对使用冒号 : 分隔，键和值之间使用逗号 , 分隔。\n",
    "# 以下是一些字典的特点和用法：\n",
    "# 1. 无序性：字典中的键-值对没有固定的顺序，不像列表和元组是有序的。\n",
    "# 2. 键的唯一性：字典中的键是唯一的，每个键只能对应一个值。如果对同一个键赋值多次，后面的值会覆盖前面的值。\n",
    "#     1. 字典的键只能是不可变类型\n",
    "#     2. 数字、元组、字符串\n",
    "# 3. 可变性：字典可以进行添加、修改和删除操作，可以根据需要动态地改变字典的内容。\n",
    "# 4. 可以包含不同类型的值：字典的值可以是任意类型，例如整数、字符串、列表、元组等。\n",
    "# 5. 可迭代性：可以使用循环遍历字典中的键或值，也可以使用键来访问对应的值。"
   ]
  },
  {
   "cell_type": "code",
   "execution_count": 20,
   "id": "0a5f13e0",
   "metadata": {},
   "outputs": [
    {
     "name": "stdout",
     "output_type": "stream",
     "text": [
      "{'a': 1, 'b': 2, 'c': 3, 'd': ['gump', 'jean']}\n",
      "1\n",
      "2\n",
      "3\n"
     ]
    },
    {
     "data": {
      "text/plain": [
       "1"
      ]
     },
     "execution_count": 20,
     "metadata": {},
     "output_type": "execute_result"
    },
    {
     "data": {
      "text/plain": [
       "'jean'"
      ]
     },
     "execution_count": 20,
     "metadata": {},
     "output_type": "execute_result"
    },
    {
     "data": {
      "text/plain": [
       "{'a': 1, 'c': 3, 'd': ['jean', 4]}"
      ]
     },
     "execution_count": 20,
     "metadata": {},
     "output_type": "execute_result"
    }
   ],
   "source": [
    "dic1={'a':1,'b':2,'c':3,'d':['gump','jean']}\n",
    "print(dic1)\n",
    "print(dic1['a'])\n",
    "print(dic1['b'])\n",
    "print(dic1['c'])\n",
    "dic1['a']\n",
    "dic1['d'][1]\n",
    "dic1['d'].append(4)\n",
    "dic1['d'].remove('gump')\n",
    "del dic1['b']\n",
    "dic1\n"
   ]
  },
  {
   "cell_type": "code",
   "execution_count": 22,
   "id": "6ae644d9",
   "metadata": {},
   "outputs": [
    {
     "data": {
      "text/plain": [
       "{}"
      ]
     },
     "execution_count": 22,
     "metadata": {},
     "output_type": "execute_result"
    }
   ],
   "source": [
    "dic1={'a':1,'b':2,'c':3,'d':['gump','jean']}\n",
    "dic1.clear()\n",
    "dic1"
   ]
  },
  {
   "cell_type": "code",
   "execution_count": null,
   "id": "ebd1be2f",
   "metadata": {},
   "outputs": [
    {
     "data": {
      "text/plain": [
       "{'a': 1, 'b': 2, 'c': 3, 'd': ['gump', 'jean']}"
      ]
     },
     "execution_count": 39,
     "metadata": {},
     "output_type": "execute_result"
    },
    {
     "data": {
      "text/plain": [
       "{'a': 0, 'b': 0, 'c': 0, 'd': 0}"
      ]
     },
     "execution_count": 39,
     "metadata": {},
     "output_type": "execute_result"
    },
    {
     "data": {
      "text/plain": [
       "1"
      ]
     },
     "execution_count": 39,
     "metadata": {},
     "output_type": "execute_result"
    },
    {
     "data": {
      "text/plain": [
       "0"
      ]
     },
     "execution_count": 39,
     "metadata": {},
     "output_type": "execute_result"
    },
    {
     "name": "stdout",
     "output_type": "stream",
     "text": [
      "dict_items([('a', 1), ('b', 2), ('c', 3), ('d', ['gump', 'jean'])])\n"
     ]
    },
    {
     "data": {
      "text/plain": [
       "dict_keys(['a', 'b', 'c', 'd'])"
      ]
     },
     "execution_count": 39,
     "metadata": {},
     "output_type": "execute_result"
    },
    {
     "data": {
      "text/plain": [
       "dict_values([1, 2, 3, ['gump', 'jean']])"
      ]
     },
     "execution_count": 39,
     "metadata": {},
     "output_type": "execute_result"
    },
    {
     "data": {
      "text/plain": [
       "0"
      ]
     },
     "execution_count": 39,
     "metadata": {},
     "output_type": "execute_result"
    },
    {
     "data": {
      "text/plain": [
       "{'a': 1, 'b': 2, 'c': 3, 'd': ['gump', 'jean'], 'e': 0}"
      ]
     },
     "execution_count": 39,
     "metadata": {},
     "output_type": "execute_result"
    },
    {
     "data": {
      "text/plain": [
       "{'a': 1, 'b': 2, 'c': 3, 'd': ['gump', 'jean'], 'e': 0, 1: 'a', 2: 'b', 3: 'c'}"
      ]
     },
     "execution_count": 39,
     "metadata": {},
     "output_type": "execute_result"
    },
    {
     "data": {
      "text/plain": [
       "1"
      ]
     },
     "execution_count": 39,
     "metadata": {},
     "output_type": "execute_result"
    },
    {
     "data": {
      "text/plain": [
       "{'b': 2, 'c': 3, 'd': ['gump', 'jean'], 'e': 0, 1: 'a', 2: 'b', 3: 'c'}"
      ]
     },
     "execution_count": 39,
     "metadata": {},
     "output_type": "execute_result"
    },
    {
     "data": {
      "text/plain": [
       "10"
      ]
     },
     "execution_count": 39,
     "metadata": {},
     "output_type": "execute_result"
    },
    {
     "data": {
      "text/plain": [
       "(3, 'c')"
      ]
     },
     "execution_count": 39,
     "metadata": {},
     "output_type": "execute_result"
    },
    {
     "data": {
      "text/plain": [
       "{'b': 2, 'c': 3, 'd': ['gump', 'jean'], 'e': 0, 1: 'a', 2: 'b'}"
      ]
     },
     "execution_count": 39,
     "metadata": {},
     "output_type": "execute_result"
    }
   ],
   "source": [
    "dic1={'a':1,'b':2,'c':3,'d':['gump','jean']}\n",
    "dic2=dic1.copy()\n",
    "dic2#still a shallow copy\n",
    "dic3=dic1.fromkeys(['a','b','c','d'],0)\n",
    "dic3\n",
    "dic1.get('a')\n",
    "dic1.get('e',0)#if 'e' is not in dic1, return 0\n",
    "print(dic1.items())\n",
    "dict.keys(dic1)\n",
    "dic1.values()\n",
    "dic1.setdefault('e',0)#if 'e' is not in dic1, add it with value 0\n",
    "dic1\n",
    "dic4={1:'a',2:'b',3:'c'}\n",
    "dic1.update(dic4)\n",
    "dic1\n",
    "dic1.pop('a')#remove the key 'a' and return the value 1\n",
    "dic1\n",
    "dic1.pop('h',10)#if 'h' is not in dic1, return 10\n",
    "dic1.popitem()#remove the last item and return it\n",
    "dic1\n"
   ]
  },
  {
   "cell_type": "code",
   "execution_count": null,
   "id": "7d39e423",
   "metadata": {},
   "outputs": [
    {
     "name": "stdout",
     "output_type": "stream",
     "text": [
      "b\n",
      "c\n",
      "d\n",
      "e\n",
      "1\n",
      "2\n",
      "2\n",
      "3\n",
      "['gump', 'jean']\n",
      "0\n",
      "a\n",
      "b\n",
      "('b', 2)\n",
      "('c', 3)\n",
      "('d', ['gump', 'jean'])\n",
      "('e', 0)\n",
      "(1, 'a')\n",
      "(2, 'b')\n",
      "b 2\n",
      "c 3\n",
      "d ['gump', 'jean']\n",
      "e 0\n",
      "1 a\n",
      "2 b\n"
     ]
    }
   ],
   "source": [
    "for i in dic1:#default is keys\n",
    "    print(i)\n",
    "for i in dic1.values():\n",
    "    print(i)\n",
    "for i in dic1.items():\n",
    "    print(i)\n",
    "for k,v in dic1.items():\n",
    "    print(k,v)"
   ]
  }
 ],
 "metadata": {
  "kernelspec": {
   "display_name": "SF150",
   "language": "python",
   "name": "python3"
  },
  "language_info": {
   "codemirror_mode": {
    "name": "ipython",
    "version": 3
   },
   "file_extension": ".py",
   "mimetype": "text/x-python",
   "name": "python",
   "nbconvert_exporter": "python",
   "pygments_lexer": "ipython3",
   "version": "3.10.16"
  }
 },
 "nbformat": 4,
 "nbformat_minor": 5
}
