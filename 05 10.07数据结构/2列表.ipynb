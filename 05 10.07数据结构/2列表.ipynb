{
 "cells": [
  {
   "cell_type": "code",
   "execution_count": 14,
   "id": "edb8352e",
   "metadata": {},
   "outputs": [
    {
     "name": "stdout",
     "output_type": "stream",
     "text": [
      "[1, 2, 3, 4, 5, 'a', 'b', 'c', 'd', 'e']\n",
      "[1, 2, 3, 4, 5, 1, 2, 3, 4, 5, 'a', 'b', 'c', 'd', 'e', 1, 2, 3, 4, 5, 1, 2, 3, 4, 5, 'a', 'b', 'c', 'd', 'e']\n"
     ]
    }
   ],
   "source": [
    "list1=[1,2,3,4,5]\n",
    "list2=['a','b','c','d','e']\n",
    "list3=list1+list2\n",
    "print(list3)\n",
    "list4=(list1*2+list2)*2\n",
    "print(list4)\n",
    "\n"
   ]
  },
  {
   "cell_type": "code",
   "execution_count": 25,
   "id": "6f254d53",
   "metadata": {},
   "outputs": [
    {
     "name": "stdout",
     "output_type": "stream",
     "text": [
      "1\n",
      "2\n",
      "100\n",
      "4\n",
      "5\n",
      "1\n",
      "2\n",
      "100\n",
      "4\n",
      "5\n"
     ]
    }
   ],
   "source": [
    "\n",
    "for i in list1:\n",
    "    print(i)\n",
    "\n",
    "for i in range(len(list1)):\n",
    "    \n",
    "    if i==2:\n",
    "        list1[i]=100\n",
    "    print(list1[i])"
   ]
  },
  {
   "cell_type": "code",
   "execution_count": 35,
   "id": "6416f1e3",
   "metadata": {},
   "outputs": [
    {
     "name": "stdout",
     "output_type": "stream",
     "text": [
      "['forrest', 'jean', 3, 'gump']\n"
     ]
    },
    {
     "data": {
      "text/plain": [
       "1"
      ]
     },
     "execution_count": 35,
     "metadata": {},
     "output_type": "execute_result"
    },
    {
     "name": "stdout",
     "output_type": "stream",
     "text": [
      "['forrest', 'jean', 3, 'gump', 'jean', 'jean']\n"
     ]
    },
    {
     "data": {
      "text/plain": [
       "1"
      ]
     },
     "execution_count": 35,
     "metadata": {},
     "output_type": "execute_result"
    },
    {
     "name": "stdout",
     "output_type": "stream",
     "text": [
      "['odd', 'forrest', 'jean', 3, 'gump', 'jean', 'jean', 'even']\n"
     ]
    }
   ],
   "source": [
    "list5=['forrest','jean',3]\n",
    "list5.append('gump')\n",
    "print(list5)\n",
    "list5.count('forrest')\n",
    "list5.extend(['jean','jean'])\n",
    "print(list5)\n",
    "list5.index('jean')\n",
    "list5.insert(0,'odd')\n",
    "list5.insert(100,'even')\n",
    "print(list5)\n"
   ]
  },
  {
   "cell_type": "code",
   "execution_count": 42,
   "id": "b83f9e70",
   "metadata": {},
   "outputs": [
    {
     "data": {
      "text/plain": [
       "[1, 2, 3, 4]"
      ]
     },
     "execution_count": 42,
     "metadata": {},
     "output_type": "execute_result"
    },
    {
     "data": {
      "text/plain": [
       "[0, 10, 20, 30, 40, 5, 6, 7, 8, 9]"
      ]
     },
     "execution_count": 42,
     "metadata": {},
     "output_type": "execute_result"
    },
    {
     "data": {
      "text/plain": [
       "[0, 1, 2, 3, 4, 5, 6, 7, 8, 9]"
      ]
     },
     "execution_count": 42,
     "metadata": {},
     "output_type": "execute_result"
    },
    {
     "name": "stdout",
     "output_type": "stream",
     "text": [
      "******************************\n"
     ]
    },
    {
     "data": {
      "text/plain": [
       "[1, 2, 3, 4, 5, 6, 7, 8]"
      ]
     },
     "execution_count": 42,
     "metadata": {},
     "output_type": "execute_result"
    },
    {
     "data": {
      "text/plain": [
       "[]"
      ]
     },
     "execution_count": 42,
     "metadata": {},
     "output_type": "execute_result"
    }
   ],
   "source": [
    "list6=[0,1,2,3,4,5,6,7,8,9]\n",
    "list6[1:5]\n",
    "list6[1:5]=[10,20,30,40]\n",
    "list6\n",
    "list6[1:5]=[1,2,3,4]\n",
    "list6\n",
    "print('*'*30)\n",
    "list6[1:-1]\n",
    "list6[8:-8:1]"
   ]
  },
  {
   "cell_type": "code",
   "execution_count": null,
   "id": "678720a5",
   "metadata": {},
   "outputs": [
    {
     "data": {
      "text/plain": [
       "9"
      ]
     },
     "execution_count": 48,
     "metadata": {},
     "output_type": "execute_result"
    },
    {
     "data": {
      "text/plain": [
       "[0, 1, 2, 3, 4, 5, 6, 7, 8]"
      ]
     },
     "execution_count": 48,
     "metadata": {},
     "output_type": "execute_result"
    },
    {
     "data": {
      "text/plain": [
       "[1, 2, 3, 4, 5, 6, 7, 8]"
      ]
     },
     "execution_count": 48,
     "metadata": {},
     "output_type": "execute_result"
    }
   ],
   "source": [
    "list7=[0,1,2,3,4,5,6,7,8,9]\n",
    "list7.pop()\n",
    "list7\n",
    "_=list7.pop(0)#下划线加等号：_ 是一个 普通变量名，Python 并没有什么特殊机制，唯一的约定是：\n",
    "\n",
    "# 在 REPL 中，_ 默认保存 上一个表达式的返回值\n",
    "\n",
    "# 但是现在你明确地把 pop() 的返回值赋值给 _，这行代码本身的返回值就是 None\n",
    "\n",
    "# REPL/Notebook 不会显示 None，所以你就看不到 9 了\n",
    "\n",
    "# ⚡ 本质上：通过赋值给变量，把返回值“吃掉”了，就不会自动显示。\n",
    "list7\n"
   ]
  },
  {
   "cell_type": "code",
   "execution_count": 50,
   "id": "f4ef69a9",
   "metadata": {},
   "outputs": [
    {
     "data": {
      "text/plain": [
       "['suan', 'cheng', 'jia', 'cheng']"
      ]
     },
     "execution_count": 50,
     "metadata": {},
     "output_type": "execute_result"
    },
    {
     "data": {
      "text/plain": [
       "['suan', 'jia']"
      ]
     },
     "execution_count": 50,
     "metadata": {},
     "output_type": "execute_result"
    }
   ],
   "source": [
    "list8=['suan','jia','cheng','jia','cheng']\n",
    "list8.remove('jia')\n",
    "list8\n",
    "for i in list8:\n",
    "    if i=='cheng':\n",
    "        list8.remove(i)\n",
    "list8\n"
   ]
  },
  {
   "cell_type": "code",
   "execution_count": 53,
   "id": "0561e32b",
   "metadata": {},
   "outputs": [
    {
     "data": {
      "text/plain": [
       "[9, 8, 7, 6, 5, 4, 3, 2, 1]"
      ]
     },
     "execution_count": 53,
     "metadata": {},
     "output_type": "execute_result"
    },
    {
     "data": {
      "text/plain": [
       "[1, 2, 3, 4, 5, 6, 7, 8, 9]"
      ]
     },
     "execution_count": 53,
     "metadata": {},
     "output_type": "execute_result"
    },
    {
     "data": {
      "text/plain": [
       "[9, 8, 7, 6, 5, 4, 3, 2, 1]"
      ]
     },
     "execution_count": 53,
     "metadata": {},
     "output_type": "execute_result"
    }
   ],
   "source": [
    "list9=[1,2,3,4,5,6,7,8,9]\n",
    "list9.reverse()\n",
    "list9\n",
    "list9.sort()\n",
    "list9\n",
    "list9.sort(reverse=True)\n",
    "list9"
   ]
  },
  {
   "cell_type": "code",
   "execution_count": 58,
   "id": "6f2b5707",
   "metadata": {},
   "outputs": [
    {
     "data": {
      "text/plain": [
       "[[1, 2, 3], [2, 3, 1], [2, 3, 4], [4, 5, 6], [7, 8, 9]]"
      ]
     },
     "execution_count": 58,
     "metadata": {},
     "output_type": "execute_result"
    },
    {
     "data": {
      "text/plain": [
       "[[2, 3, 1], [1, 2, 3], [2, 3, 4], [4, 5, 6], [7, 8, 9]]"
      ]
     },
     "execution_count": 58,
     "metadata": {},
     "output_type": "execute_result"
    }
   ],
   "source": [
    "list10=[[1,2,3],[4,5,6],[2,3,4],[2,3,1],[7,8,9]]\n",
    "list10.sort()\n",
    "list10\n",
    "list10.sort(key=lambda x:x[2])\n",
    "list10"
   ]
  },
  {
   "cell_type": "code",
   "execution_count": 59,
   "id": "8a5ba5f8",
   "metadata": {},
   "outputs": [
    {
     "data": {
      "text/plain": [
       "[]"
      ]
     },
     "execution_count": 59,
     "metadata": {},
     "output_type": "execute_result"
    }
   ],
   "source": [
    "list10=[[1,2,3],[4,5,6],[2,3,4],[2,3,1],[7,8,9]]\n",
    "list10.clear()\n",
    "list10"
   ]
  },
  {
   "cell_type": "code",
   "execution_count": null,
   "id": "907c993e",
   "metadata": {},
   "outputs": [
    {
     "name": "stdout",
     "output_type": "stream",
     "text": [
      "[] 2062850217600\n",
      "[] 2062850225344\n",
      "[] 2062850225344\n"
     ]
    }
   ],
   "source": [
    "list11=list10.copy()\n",
    "print(list11,id(list11))\n",
    "print(list10,id(list10))#浅拷贝，id不同\n",
    "list12=list10\n",
    "print(list12,id(list12))"
   ]
  },
  {
   "cell_type": "code",
   "execution_count": 67,
   "id": "fd4ed7dd",
   "metadata": {},
   "outputs": [
    {
     "data": {
      "text/plain": [
       "[[1],\n",
       " [1, 1],\n",
       " [1, 2, 1],\n",
       " [1, 3, 3, 1],\n",
       " [1, 4, 6, 4, 1],\n",
       " [1, 5, 10, 10, 5, 1],\n",
       " [1, 6, 15, 20, 15, 6, 1],\n",
       " [1, 7, 21, 35, 35, 21, 7, 1],\n",
       " [1, 8, 28, 56, 70, 56, 28, 8, 1],\n",
       " [1, 9, 36, 84, 126, 126, 84, 36, 9, 1]]"
      ]
     },
     "execution_count": 67,
     "metadata": {},
     "output_type": "execute_result"
    },
    {
     "name": "stdout",
     "output_type": "stream",
     "text": [
      "[1]\n",
      "[1, 1]\n",
      "[1, 2, 1]\n",
      "[1, 3, 3, 1]\n",
      "[1, 4, 6, 4, 1]\n",
      "[1, 5, 10, 10, 5, 1]\n",
      "[1, 6, 15, 20, 15, 6, 1]\n",
      "[1, 7, 21, 35, 35, 21, 7, 1]\n",
      "[1, 8, 28, 56, 70, 56, 28, 8, 1]\n",
      "[1, 9, 36, 84, 126, 126, 84, 36, 9, 1]\n"
     ]
    }
   ],
   "source": [
    "#列表实现杨辉三角\n",
    "list1=[[1],[1,1]]\n",
    "for i in range(2,10):\n",
    "    list2=[1]\n",
    "    for j in range(1,i):\n",
    "        list2.append(list1[i-1][j-1]+list1[i-1][j])\n",
    "    list2.append(1)\n",
    "    list1.append(list2)\n",
    "list1\n",
    "for row in list1:\n",
    "    print((row))\n",
    "\n",
    "# 返回对象的“官方字符串表示”（developer-facing）。\n",
    "\n",
    "# 目标：尽可能精确、明确，通常能用来 重建对象（如果可能）。\n",
    "\n",
    "# 对应方法：obj.__repr__()\n",
    "\n",
    "# str(obj)\n",
    "\n",
    "# 返回对象的“用户友好字符串”（user-facing）。\n",
    "\n",
    "# 目标：可读性好，给人看。\n",
    "\n",
    "# 对应方法：obj.__str__()"
   ]
  }
 ],
 "metadata": {
  "kernelspec": {
   "display_name": "SF150",
   "language": "python",
   "name": "python3"
  },
  "language_info": {
   "codemirror_mode": {
    "name": "ipython",
    "version": 3
   },
   "file_extension": ".py",
   "mimetype": "text/x-python",
   "name": "python",
   "nbconvert_exporter": "python",
   "pygments_lexer": "ipython3",
   "version": "3.10.16"
  }
 },
 "nbformat": 4,
 "nbformat_minor": 5
}
