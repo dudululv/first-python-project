{
 "cells": [
  {
   "cell_type": "code",
   "execution_count": 1,
   "id": "880a0ee1",
   "metadata": {},
   "outputs": [],
   "source": [
    "s = 'helloworld'"
   ]
  },
  {
   "cell_type": "code",
   "execution_count": null,
   "id": "e6f47f06",
   "metadata": {},
   "outputs": [
    {
     "data": {
      "text/plain": [
       "3"
      ]
     },
     "execution_count": 3,
     "metadata": {},
     "output_type": "execute_result"
    },
    {
     "data": {
      "text/plain": [
       "2"
      ]
     },
     "execution_count": 3,
     "metadata": {},
     "output_type": "execute_result"
    }
   ],
   "source": [
    "s.count('l')\n",
    "s.count('l', 0, 5)#count(str, beg= 0,end=len(string))"
   ]
  },
  {
   "cell_type": "code",
   "execution_count": null,
   "id": "c5e8013f",
   "metadata": {},
   "outputs": [
    {
     "data": {
      "text/plain": [
       "True"
      ]
     },
     "execution_count": 11,
     "metadata": {},
     "output_type": "execute_result"
    },
    {
     "data": {
      "text/plain": [
       "False"
      ]
     },
     "execution_count": 11,
     "metadata": {},
     "output_type": "execute_result"
    },
    {
     "data": {
      "text/plain": [
       "True"
      ]
     },
     "execution_count": 11,
     "metadata": {},
     "output_type": "execute_result"
    }
   ],
   "source": [
    "s.startswith('hello')\n",
    "s.startswith('hello', 5, 9)\n",
    "s.startswith('world', 5,10)\n",
    "#startswith(substr, beg=0,end=len(string))\n"
   ]
  },
  {
   "cell_type": "code",
   "execution_count": null,
   "id": "3923b768",
   "metadata": {},
   "outputs": [
    {
     "data": {
      "text/plain": [
       "True"
      ]
     },
     "execution_count": 13,
     "metadata": {},
     "output_type": "execute_result"
    },
    {
     "data": {
      "text/plain": [
       "True"
      ]
     },
     "execution_count": 13,
     "metadata": {},
     "output_type": "execute_result"
    }
   ],
   "source": [
    "s.endswith('world')\n",
    "s.endswith('hello', 0, 5)#endswith(suffix, beg=0, end=len(string))\n"
   ]
  },
  {
   "cell_type": "code",
   "execution_count": null,
   "id": "1783077e",
   "metadata": {},
   "outputs": [
    {
     "data": {
      "text/plain": [
       "0"
      ]
     },
     "execution_count": 15,
     "metadata": {},
     "output_type": "execute_result"
    },
    {
     "data": {
      "text/plain": [
       "-1"
      ]
     },
     "execution_count": 15,
     "metadata": {},
     "output_type": "execute_result"
    }
   ],
   "source": [
    "s.find('hello')\n",
    "s.find('h', 6)#find(str, beg=0, end=len(string))"
   ]
  },
  {
   "cell_type": "code",
   "execution_count": 19,
   "id": "600afb84",
   "metadata": {},
   "outputs": [
    {
     "data": {
      "text/plain": [
       "0"
      ]
     },
     "execution_count": 19,
     "metadata": {},
     "output_type": "execute_result"
    }
   ],
   "source": [
    "s.index('hello')#index(str, beg=0, end=len(string))\n",
    "# s.index('h', 6)#ValueError: substring not found\n",
    "\n"
   ]
  },
  {
   "cell_type": "code",
   "execution_count": 25,
   "id": "81f17f00",
   "metadata": {},
   "outputs": [
    {
     "data": {
      "text/plain": [
       "True"
      ]
     },
     "execution_count": 25,
     "metadata": {},
     "output_type": "execute_result"
    },
    {
     "data": {
      "text/plain": [
       "-1"
      ]
     },
     "execution_count": 25,
     "metadata": {},
     "output_type": "execute_result"
    },
    {
     "data": {
      "text/plain": [
       "False"
      ]
     },
     "execution_count": 25,
     "metadata": {},
     "output_type": "execute_result"
    },
    {
     "data": {
      "text/plain": [
       "True"
      ]
     },
     "execution_count": 25,
     "metadata": {},
     "output_type": "execute_result"
    },
    {
     "data": {
      "text/plain": [
       "False"
      ]
     },
     "execution_count": 25,
     "metadata": {},
     "output_type": "execute_result"
    }
   ],
   "source": [
    "a='0123456789'\n",
    "a[0].isdigit()\n",
    "-a[0].isdigit()#注意这里的 - 是一元负号运算符，它会作用在布尔值 True 上。\n",
    "# 在 Python 里，bool 是 int 的子类：\n",
    "# True 的整数值是 1\n",
    "# False 的整数值是 0\n",
    "# a[0].isdigit()   # True\n",
    "# int(True)        # 1\n",
    "# -True            # -1\n",
    "# 换句话说，你写的代码等价于：- int(a[0].isdigit())\n",
    "'3.01'.isdigit()\n",
    "a[1].isdigit()\n",
    "'-7'.isdigit()\n"
   ]
  },
  {
   "cell_type": "code",
   "execution_count": 36,
   "id": "a7261fce",
   "metadata": {},
   "outputs": [
    {
     "name": "stdout",
     "output_type": "stream",
     "text": [
      "abc\n"
     ]
    }
   ],
   "source": [
    "x=['a','b','c']\n",
    "print(''.join(x))"
   ]
  },
  {
   "cell_type": "code",
   "execution_count": 37,
   "id": "7cd217e1",
   "metadata": {},
   "outputs": [
    {
     "data": {
      "text/plain": [
       "10"
      ]
     },
     "execution_count": 37,
     "metadata": {},
     "output_type": "execute_result"
    }
   ],
   "source": [
    "len(s)"
   ]
  },
  {
   "cell_type": "code",
   "execution_count": 38,
   "id": "cd4ef9d9",
   "metadata": {},
   "outputs": [
    {
     "data": {
      "text/plain": [
       "'hello world'"
      ]
     },
     "execution_count": 38,
     "metadata": {},
     "output_type": "execute_result"
    }
   ],
   "source": [
    "s1='Hello World'\n",
    "s1.lower()\n"
   ]
  },
  {
   "cell_type": "code",
   "execution_count": 39,
   "id": "838d55b1",
   "metadata": {},
   "outputs": [
    {
     "data": {
      "text/plain": [
       "'HELLO WORLD'"
      ]
     },
     "execution_count": 39,
     "metadata": {},
     "output_type": "execute_result"
    }
   ],
   "source": [
    "s1.upper()\n"
   ]
  },
  {
   "cell_type": "code",
   "execution_count": 40,
   "id": "b0e1a922",
   "metadata": {},
   "outputs": [
    {
     "data": {
      "text/plain": [
       "'hello world  '"
      ]
     },
     "execution_count": 40,
     "metadata": {},
     "output_type": "execute_result"
    }
   ],
   "source": [
    "s2='  hello world  '\n",
    "s2.lstrip()\n"
   ]
  },
  {
   "cell_type": "code",
   "execution_count": 41,
   "id": "b65410a8",
   "metadata": {},
   "outputs": [
    {
     "data": {
      "text/plain": [
       "'  hello world'"
      ]
     },
     "execution_count": 41,
     "metadata": {},
     "output_type": "execute_result"
    }
   ],
   "source": [
    "s2.rstrip()"
   ]
  },
  {
   "cell_type": "code",
   "execution_count": 42,
   "id": "b7ffbf84",
   "metadata": {},
   "outputs": [
    {
     "data": {
      "text/plain": [
       "'hello world'"
      ]
     },
     "execution_count": 42,
     "metadata": {},
     "output_type": "execute_result"
    }
   ],
   "source": [
    "s2.strip()\n"
   ]
  },
  {
   "cell_type": "code",
   "execution_count": 43,
   "id": "e31a51f5",
   "metadata": {},
   "outputs": [
    {
     "data": {
      "text/plain": [
       "'r'"
      ]
     },
     "execution_count": 43,
     "metadata": {},
     "output_type": "execute_result"
    }
   ],
   "source": [
    "max(s1)"
   ]
  },
  {
   "cell_type": "code",
   "execution_count": 44,
   "id": "0a24d874",
   "metadata": {},
   "outputs": [
    {
     "data": {
      "text/plain": [
       "' '"
      ]
     },
     "execution_count": 44,
     "metadata": {},
     "output_type": "execute_result"
    }
   ],
   "source": [
    "min(s1)"
   ]
  },
  {
   "cell_type": "code",
   "execution_count": 46,
   "id": "9b3c5494",
   "metadata": {},
   "outputs": [
    {
     "data": {
      "text/plain": [
       "'HelloWorld'"
      ]
     },
     "execution_count": 46,
     "metadata": {},
     "output_type": "execute_result"
    }
   ],
   "source": [
    "s1.replace(' ','')"
   ]
  },
  {
   "cell_type": "code",
   "execution_count": 48,
   "id": "6db19262",
   "metadata": {},
   "outputs": [
    {
     "data": {
      "text/plain": [
       "8"
      ]
     },
     "execution_count": 48,
     "metadata": {},
     "output_type": "execute_result"
    }
   ],
   "source": [
    "s.rindex('l')\n"
   ]
  },
  {
   "cell_type": "code",
   "execution_count": 49,
   "id": "19c24e19",
   "metadata": {},
   "outputs": [
    {
     "data": {
      "text/plain": [
       "8"
      ]
     },
     "execution_count": 49,
     "metadata": {},
     "output_type": "execute_result"
    }
   ],
   "source": [
    "s.rfind('l')"
   ]
  },
  {
   "cell_type": "code",
   "execution_count": 53,
   "id": "2278d134",
   "metadata": {},
   "outputs": [
    {
     "data": {
      "text/plain": [
       "['a', 'b', 'c', 'd', 'e']"
      ]
     },
     "execution_count": 53,
     "metadata": {},
     "output_type": "execute_result"
    },
    {
     "data": {
      "text/plain": [
       "['a', 'b', 'c', 'd', 'e']"
      ]
     },
     "execution_count": 53,
     "metadata": {},
     "output_type": "execute_result"
    }
   ],
   "source": [
    "y='a b c d e'\n",
    "y.split()\n",
    "z='a,b,c,d,e'\n",
    "z.split(',')\n"
   ]
  },
  {
   "cell_type": "code",
   "execution_count": 54,
   "id": "7099d92e",
   "metadata": {},
   "outputs": [
    {
     "data": {
      "text/plain": [
       "'hELLO wORLD'"
      ]
     },
     "execution_count": 54,
     "metadata": {},
     "output_type": "execute_result"
    }
   ],
   "source": [
    "s1.swapcase()"
   ]
  },
  {
   "cell_type": "code",
   "execution_count": 55,
   "id": "5a233da5",
   "metadata": {},
   "outputs": [
    {
     "data": {
      "text/plain": [
       "'Hello world'"
      ]
     },
     "execution_count": 55,
     "metadata": {},
     "output_type": "execute_result"
    }
   ],
   "source": [
    "s1.capitalize()"
   ]
  },
  {
   "cell_type": "code",
   "execution_count": 62,
   "id": "b31ca594",
   "metadata": {},
   "outputs": [
    {
     "name": "stdout",
     "output_type": "stream",
     "text": [
      "When I was young I'd listen to the radio\n",
      "Waiting for my favorite songs\n",
      "When they played I'd sing along\n",
      "It made me smile\n"
     ]
    }
   ],
   "source": [
    "# when I Was Young i'd listen to the Radio  \n",
    "#          waiting for My Favorite songs          \n",
    "#       when They played i'd sing Along        \n",
    "#                  it Made me Smile                     \n",
    "s1='''when I Was Young i'd listen to the Radio  \n",
    "         waiting for My Favorite songs          \n",
    "      when They played i'd sing Along        \n",
    "                 it Made me Smile                     '''\n",
    "s2=''\n",
    "num1=-1\n",
    "while 1:\n",
    "    num2=s1.find('\\n',num1+1)\n",
    "    if num2==-1:\n",
    "        s2+=s1[num1+1:].strip().capitalize()\n",
    "        break\n",
    "    s2+=s1[num1+1:num2].strip().capitalize()+'\\n'\n",
    "    num1=num2\n",
    "s2=s2.replace(' i ', ' I ').replace(' i\\'',' I\\'')\n",
    "print(s2)"
   ]
  }
 ],
 "metadata": {
  "kernelspec": {
   "display_name": "SF150",
   "language": "python",
   "name": "python3"
  },
  "language_info": {
   "codemirror_mode": {
    "name": "ipython",
    "version": 3
   },
   "file_extension": ".py",
   "mimetype": "text/x-python",
   "name": "python",
   "nbconvert_exporter": "python",
   "pygments_lexer": "ipython3",
   "version": "3.10.16"
  }
 },
 "nbformat": 4,
 "nbformat_minor": 5
}
