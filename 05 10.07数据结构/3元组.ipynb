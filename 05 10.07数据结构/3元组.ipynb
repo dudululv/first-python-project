{
 "cells": [
  {
   "cell_type": "code",
   "execution_count": null,
   "id": "61ee63bf",
   "metadata": {},
   "outputs": [
    {
     "name": "stdout",
     "output_type": "stream",
     "text": [
      "1 <class 'int'>\n",
      "(1,) <class 'tuple'>\n"
     ]
    }
   ],
   "source": [
    "tuple1=(1)\n",
    "print(tuple1,type(tuple1))\n",
    "tuple1=(1,)\n",
    "print(tuple1,type(tuple1))#由此可见，元组与列表不同，只有单个元素时会被忽略小括号，从而被认为是字符串\n",
    "#要想创建只有一个元素的元组，必须在元素后面添加逗号"
   ]
  },
  {
   "cell_type": "code",
   "execution_count": 3,
   "id": "789c6ff7",
   "metadata": {},
   "outputs": [
    {
     "name": "stdout",
     "output_type": "stream",
     "text": [
      "(1, 2, 3, 4, 5, 6, 7, 8, 9)\n",
      "1\n",
      "(2, 3, 4, 5)\n",
      "(2, 4)\n",
      "(9, 8, 7, 6, 5, 4, 3, 2, 1)\n"
     ]
    }
   ],
   "source": [
    "tuple2=(1,2,3,4,5,6,7,8,9)\n",
    "print(tuple2)\n",
    "print(tuple2[0])\n",
    "print(tuple2[1:5])\n",
    "print(tuple2[1:5:2])\n",
    "print(tuple2[::-1])\n"
   ]
  },
  {
   "cell_type": "code",
   "execution_count": 4,
   "id": "0475d1f5",
   "metadata": {},
   "outputs": [
    {
     "data": {
      "text/plain": [
       "1"
      ]
     },
     "execution_count": 4,
     "metadata": {},
     "output_type": "execute_result"
    },
    {
     "data": {
      "text/plain": [
       "0"
      ]
     },
     "execution_count": 4,
     "metadata": {},
     "output_type": "execute_result"
    }
   ],
   "source": [
    "tuple2.count(1)\n",
    "tuple2.index(1)"
   ]
  }
 ],
 "metadata": {
  "kernelspec": {
   "display_name": "SF150",
   "language": "python",
   "name": "python3"
  },
  "language_info": {
   "codemirror_mode": {
    "name": "ipython",
    "version": 3
   },
   "file_extension": ".py",
   "mimetype": "text/x-python",
   "name": "python",
   "nbconvert_exporter": "python",
   "pygments_lexer": "ipython3",
   "version": "3.10.16"
  }
 },
 "nbformat": 4,
 "nbformat_minor": 5
}
